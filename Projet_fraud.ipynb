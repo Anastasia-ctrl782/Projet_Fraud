{
 "cells": [
  {
   "cell_type": "markdown",
   "metadata": {},
   "source": [
    "\n",
    "**<h1><span style=\"color:red\"><u>Fraud</u></span></h1>**\n",
    "**Réalisé par : Toullec Nastassia, Marie Stéphanie et Abdelaziz Sayad**"
   ]
  },
  {
   "cell_type": "markdown",
   "metadata": {},
   "source": [
    "### <span style=\"color:yellow\"> 0. Importation des librairies</span> "
   ]
  },
  {
   "cell_type": "code",
   "execution_count": 77,
   "metadata": {},
   "outputs": [],
   "source": [
    "import pandas as pd\n",
    "import numpy as np\n",
    "import seaborn as sns\n",
    "import matplotlib.pyplot as plt\n",
    "from scipy.stats import chi2_contingency \n",
    "import warnings\n",
    "from scipy.stats import pearsonr\n",
    "import statsmodels.api\n",
    "warnings.filterwarnings('ignore')\n",
    "%matplotlib inline"
   ]
  },
  {
   "cell_type": "markdown",
   "metadata": {},
   "source": [
    "## <span style=\"color:red\"> I. Audit des données</span> "
   ]
  },
  {
   "cell_type": "markdown",
   "metadata": {},
   "source": [
    "Le jeu de données que nous allons utiliser, recense diverses caractéristiques d'utilisateurs et leur transactions.\n",
    "Le but de notre audit est de predire si une transaction est fraudeuse.\n",
    "\n",
    "Le dataset comporte <strong>11 colonnes</strong>, pour environ <strong>151113 lignes</strong>.\n",
    "Les variables sont les suivantes :\n",
    "\n",
    "- <strong>user_id</strong>\tidentifiant d'utilisateur\n",
    "- <strong>signup_time</strong>\theure de connexion\n",
    "- <strong>purchase_time</strong>\theure d'achat\n",
    "- <strong>purchase_value</strong>\tmontant de la transaction\n",
    "- <strong>device_id</strong>\tidentifiant du moyen de connexion\n",
    "- <strong>source</strong>\tmoyen d'accés au site\n",
    "- <strong>browser</strong>\tnavigateur utilisé\n",
    "- <strong>sex</strong>\tsexe\n",
    "- <strong>age</strong>\tage\n",
    "- <strong>ip_adress</strong>\tadresse IP de l'utilisateur\n",
    "- <strong>is_fraud</strong>\tvariable cible: identifiant de la fraud\n",
    "\n",
    "Le jeu de données qui nous intéresse ici contient dix variables explicatives.\n",
    "La variable expliquée est <strong>is_fraud</strong> soit 0 non frauduleux et des 1 pour frauduleux . \n",
    "La problématique est la clasification avec apprentissage supervisé."
   ]
  },
  {
   "cell_type": "markdown",
   "metadata": {},
   "source": [
    "### <span style=\"color:blue\"> **A. Exploration un jeu de données**</span> "
   ]
  },
  {
   "cell_type": "markdown",
   "metadata": {},
   "source": [
    "<span style=\"color:green\"> **1. Chargement des données**</span> "
   ]
  },
  {
   "cell_type": "markdown",
   "metadata": {},
   "source": [
    "Nous chargeons les données et affichons les premières lignes."
   ]
  },
  {
   "cell_type": "code",
   "execution_count": 2,
   "metadata": {},
   "outputs": [
    {
     "data": {
      "text/html": [
       "<div>\n",
       "<style scoped>\n",
       "    .dataframe tbody tr th:only-of-type {\n",
       "        vertical-align: middle;\n",
       "    }\n",
       "\n",
       "    .dataframe tbody tr th {\n",
       "        vertical-align: top;\n",
       "    }\n",
       "\n",
       "    .dataframe thead th {\n",
       "        text-align: right;\n",
       "    }\n",
       "</style>\n",
       "<table border=\"1\" class=\"dataframe\">\n",
       "  <thead>\n",
       "    <tr style=\"text-align: right;\">\n",
       "      <th></th>\n",
       "      <th>user_id</th>\n",
       "      <th>signup_time</th>\n",
       "      <th>purchase_time</th>\n",
       "      <th>purchase_value</th>\n",
       "      <th>device_id</th>\n",
       "      <th>source</th>\n",
       "      <th>browser</th>\n",
       "      <th>sex</th>\n",
       "      <th>age</th>\n",
       "      <th>ip_address</th>\n",
       "      <th>is_fraud</th>\n",
       "    </tr>\n",
       "  </thead>\n",
       "  <tbody>\n",
       "    <tr>\n",
       "      <th>0</th>\n",
       "      <td>22058</td>\n",
       "      <td>2015-02-24 22:55:49</td>\n",
       "      <td>2015-04-18 2:47:11</td>\n",
       "      <td>34</td>\n",
       "      <td>QVPSPJUOCKZAR</td>\n",
       "      <td>SEO</td>\n",
       "      <td>Chrome</td>\n",
       "      <td>M</td>\n",
       "      <td>39</td>\n",
       "      <td>7.327584e+08</td>\n",
       "      <td>0</td>\n",
       "    </tr>\n",
       "    <tr>\n",
       "      <th>1</th>\n",
       "      <td>333320</td>\n",
       "      <td>2015-06-07 20:39:50</td>\n",
       "      <td>2015-06-08 1:38:54</td>\n",
       "      <td>16</td>\n",
       "      <td>EOGFQPIZPYXFZ</td>\n",
       "      <td>Ads</td>\n",
       "      <td>Chrome</td>\n",
       "      <td>F</td>\n",
       "      <td>53</td>\n",
       "      <td>3.503114e+08</td>\n",
       "      <td>0</td>\n",
       "    </tr>\n",
       "    <tr>\n",
       "      <th>2</th>\n",
       "      <td>1359</td>\n",
       "      <td>2015-01-01 18:52:44</td>\n",
       "      <td>2015-01-01 18:52:45</td>\n",
       "      <td>15</td>\n",
       "      <td>YSSKYOSJHPPLJ</td>\n",
       "      <td>SEO</td>\n",
       "      <td>Opera</td>\n",
       "      <td>M</td>\n",
       "      <td>53</td>\n",
       "      <td>2.621474e+09</td>\n",
       "      <td>1</td>\n",
       "    </tr>\n",
       "    <tr>\n",
       "      <th>3</th>\n",
       "      <td>150084</td>\n",
       "      <td>2015-04-28 21:13:25</td>\n",
       "      <td>2015-05-04 13:54:50</td>\n",
       "      <td>44</td>\n",
       "      <td>ATGTXKYKUDUQN</td>\n",
       "      <td>SEO</td>\n",
       "      <td>Safari</td>\n",
       "      <td>M</td>\n",
       "      <td>41</td>\n",
       "      <td>3.840542e+09</td>\n",
       "      <td>0</td>\n",
       "    </tr>\n",
       "    <tr>\n",
       "      <th>4</th>\n",
       "      <td>221365</td>\n",
       "      <td>2015-07-21 7:09:52</td>\n",
       "      <td>2015-09-09 18:40:53</td>\n",
       "      <td>39</td>\n",
       "      <td>NAUITBZFJKHWW</td>\n",
       "      <td>Ads</td>\n",
       "      <td>Safari</td>\n",
       "      <td>M</td>\n",
       "      <td>45</td>\n",
       "      <td>4.155831e+08</td>\n",
       "      <td>0</td>\n",
       "    </tr>\n",
       "    <tr>\n",
       "      <th>5</th>\n",
       "      <td>159135</td>\n",
       "      <td>2015-05-21 6:03:03</td>\n",
       "      <td>2015-07-09 8:05:14</td>\n",
       "      <td>42</td>\n",
       "      <td>ALEYXFXINSXLZ</td>\n",
       "      <td>Ads</td>\n",
       "      <td>Chrome</td>\n",
       "      <td>M</td>\n",
       "      <td>18</td>\n",
       "      <td>2.809315e+09</td>\n",
       "      <td>0</td>\n",
       "    </tr>\n",
       "    <tr>\n",
       "      <th>6</th>\n",
       "      <td>50116</td>\n",
       "      <td>2015-08-01 22:40:52</td>\n",
       "      <td>2015-08-27 3:37:57</td>\n",
       "      <td>11</td>\n",
       "      <td>IWKVZHJOCLPUR</td>\n",
       "      <td>Ads</td>\n",
       "      <td>Chrome</td>\n",
       "      <td>F</td>\n",
       "      <td>19</td>\n",
       "      <td>3.987484e+09</td>\n",
       "      <td>0</td>\n",
       "    </tr>\n",
       "    <tr>\n",
       "      <th>7</th>\n",
       "      <td>360585</td>\n",
       "      <td>2015-04-06 7:35:45</td>\n",
       "      <td>2015-05-25 17:21:14</td>\n",
       "      <td>27</td>\n",
       "      <td>HPUCUYLMJBYFW</td>\n",
       "      <td>Ads</td>\n",
       "      <td>Opera</td>\n",
       "      <td>M</td>\n",
       "      <td>34</td>\n",
       "      <td>1.692459e+09</td>\n",
       "      <td>0</td>\n",
       "    </tr>\n",
       "    <tr>\n",
       "      <th>8</th>\n",
       "      <td>159045</td>\n",
       "      <td>2015-04-21 23:38:34</td>\n",
       "      <td>2015-06-02 14:01:54</td>\n",
       "      <td>30</td>\n",
       "      <td>ILXYDOZIHOOHT</td>\n",
       "      <td>SEO</td>\n",
       "      <td>IE</td>\n",
       "      <td>F</td>\n",
       "      <td>43</td>\n",
       "      <td>3.719094e+09</td>\n",
       "      <td>0</td>\n",
       "    </tr>\n",
       "    <tr>\n",
       "      <th>9</th>\n",
       "      <td>182338</td>\n",
       "      <td>2015-01-25 17:49:49</td>\n",
       "      <td>2015-03-23 23:05:42</td>\n",
       "      <td>62</td>\n",
       "      <td>NRFFPPHZYFUVC</td>\n",
       "      <td>Ads</td>\n",
       "      <td>IE</td>\n",
       "      <td>M</td>\n",
       "      <td>31</td>\n",
       "      <td>3.416747e+08</td>\n",
       "      <td>0</td>\n",
       "    </tr>\n",
       "  </tbody>\n",
       "</table>\n",
       "</div>"
      ],
      "text/plain": [
       "   user_id          signup_time        purchase_time  purchase_value  \\\n",
       "0    22058  2015-02-24 22:55:49   2015-04-18 2:47:11              34   \n",
       "1   333320  2015-06-07 20:39:50   2015-06-08 1:38:54              16   \n",
       "2     1359  2015-01-01 18:52:44  2015-01-01 18:52:45              15   \n",
       "3   150084  2015-04-28 21:13:25  2015-05-04 13:54:50              44   \n",
       "4   221365   2015-07-21 7:09:52  2015-09-09 18:40:53              39   \n",
       "5   159135   2015-05-21 6:03:03   2015-07-09 8:05:14              42   \n",
       "6    50116  2015-08-01 22:40:52   2015-08-27 3:37:57              11   \n",
       "7   360585   2015-04-06 7:35:45  2015-05-25 17:21:14              27   \n",
       "8   159045  2015-04-21 23:38:34  2015-06-02 14:01:54              30   \n",
       "9   182338  2015-01-25 17:49:49  2015-03-23 23:05:42              62   \n",
       "\n",
       "       device_id source browser sex  age    ip_address  is_fraud  \n",
       "0  QVPSPJUOCKZAR    SEO  Chrome   M   39  7.327584e+08         0  \n",
       "1  EOGFQPIZPYXFZ    Ads  Chrome   F   53  3.503114e+08         0  \n",
       "2  YSSKYOSJHPPLJ    SEO   Opera   M   53  2.621474e+09         1  \n",
       "3  ATGTXKYKUDUQN    SEO  Safari   M   41  3.840542e+09         0  \n",
       "4  NAUITBZFJKHWW    Ads  Safari   M   45  4.155831e+08         0  \n",
       "5  ALEYXFXINSXLZ    Ads  Chrome   M   18  2.809315e+09         0  \n",
       "6  IWKVZHJOCLPUR    Ads  Chrome   F   19  3.987484e+09         0  \n",
       "7  HPUCUYLMJBYFW    Ads   Opera   M   34  1.692459e+09         0  \n",
       "8  ILXYDOZIHOOHT    SEO      IE   F   43  3.719094e+09         0  \n",
       "9  NRFFPPHZYFUVC    Ads      IE   M   31  3.416747e+08         0  "
      ]
     },
     "execution_count": 2,
     "metadata": {},
     "output_type": "execute_result"
    }
   ],
   "source": [
    "df = pd.read_csv(filepath_or_buffer = 'fraud.csv',\n",
    "                           sep = ',',\n",
    "                           header = 0)\n",
    "df.head(10)                    "
   ]
  },
  {
   "cell_type": "markdown",
   "metadata": {},
   "source": [
    "<span style=\"color:green\"> **2. Nettoyage du jeu de données**</span> "
   ]
  },
  {
   "cell_type": "markdown",
   "metadata": {},
   "source": [
    "<strong>Nous recréons les variables temporelles pour analyser la temporalité des données.</strong>"
   ]
  },
  {
   "cell_type": "markdown",
   "metadata": {},
   "source": [
    "1/ Les variables signup_time et purchase_time, sont divisées chacune par date et heure, nous permettant de créer 4 variables supplémentaires :\n",
    "<ul>\n",
    "    <li>signup_day</li>\n",
    "    <li>signup_time</li>\n",
    "    <li>purchase_day</li>\n",
    "    <li>purshase_time</li>\n",
    "</ul>"
   ]
  },
  {
   "cell_type": "code",
   "execution_count": 3,
   "metadata": {},
   "outputs": [
    {
     "data": {
      "text/html": [
       "<div>\n",
       "<style scoped>\n",
       "    .dataframe tbody tr th:only-of-type {\n",
       "        vertical-align: middle;\n",
       "    }\n",
       "\n",
       "    .dataframe tbody tr th {\n",
       "        vertical-align: top;\n",
       "    }\n",
       "\n",
       "    .dataframe thead th {\n",
       "        text-align: right;\n",
       "    }\n",
       "</style>\n",
       "<table border=\"1\" class=\"dataframe\">\n",
       "  <thead>\n",
       "    <tr style=\"text-align: right;\">\n",
       "      <th></th>\n",
       "      <th>user_id</th>\n",
       "      <th>signup_time</th>\n",
       "      <th>purchase_time</th>\n",
       "      <th>purchase_value</th>\n",
       "      <th>device_id</th>\n",
       "      <th>source</th>\n",
       "      <th>browser</th>\n",
       "      <th>sex</th>\n",
       "      <th>age</th>\n",
       "      <th>ip_address</th>\n",
       "      <th>is_fraud</th>\n",
       "      <th>signup_day</th>\n",
       "      <th>purchase_day</th>\n",
       "    </tr>\n",
       "  </thead>\n",
       "  <tbody>\n",
       "    <tr>\n",
       "      <th>0</th>\n",
       "      <td>22058</td>\n",
       "      <td>22:55:49</td>\n",
       "      <td>2:47:11</td>\n",
       "      <td>34</td>\n",
       "      <td>QVPSPJUOCKZAR</td>\n",
       "      <td>SEO</td>\n",
       "      <td>Chrome</td>\n",
       "      <td>M</td>\n",
       "      <td>39</td>\n",
       "      <td>7.327584e+08</td>\n",
       "      <td>0</td>\n",
       "      <td>2015-02-24</td>\n",
       "      <td>2015-04-18</td>\n",
       "    </tr>\n",
       "    <tr>\n",
       "      <th>1</th>\n",
       "      <td>333320</td>\n",
       "      <td>20:39:50</td>\n",
       "      <td>1:38:54</td>\n",
       "      <td>16</td>\n",
       "      <td>EOGFQPIZPYXFZ</td>\n",
       "      <td>Ads</td>\n",
       "      <td>Chrome</td>\n",
       "      <td>F</td>\n",
       "      <td>53</td>\n",
       "      <td>3.503114e+08</td>\n",
       "      <td>0</td>\n",
       "      <td>2015-06-07</td>\n",
       "      <td>2015-06-08</td>\n",
       "    </tr>\n",
       "    <tr>\n",
       "      <th>2</th>\n",
       "      <td>1359</td>\n",
       "      <td>18:52:44</td>\n",
       "      <td>18:52:45</td>\n",
       "      <td>15</td>\n",
       "      <td>YSSKYOSJHPPLJ</td>\n",
       "      <td>SEO</td>\n",
       "      <td>Opera</td>\n",
       "      <td>M</td>\n",
       "      <td>53</td>\n",
       "      <td>2.621474e+09</td>\n",
       "      <td>1</td>\n",
       "      <td>2015-01-01</td>\n",
       "      <td>2015-01-01</td>\n",
       "    </tr>\n",
       "    <tr>\n",
       "      <th>3</th>\n",
       "      <td>150084</td>\n",
       "      <td>21:13:25</td>\n",
       "      <td>13:54:50</td>\n",
       "      <td>44</td>\n",
       "      <td>ATGTXKYKUDUQN</td>\n",
       "      <td>SEO</td>\n",
       "      <td>Safari</td>\n",
       "      <td>M</td>\n",
       "      <td>41</td>\n",
       "      <td>3.840542e+09</td>\n",
       "      <td>0</td>\n",
       "      <td>2015-04-28</td>\n",
       "      <td>2015-05-04</td>\n",
       "    </tr>\n",
       "    <tr>\n",
       "      <th>4</th>\n",
       "      <td>221365</td>\n",
       "      <td>7:09:52</td>\n",
       "      <td>18:40:53</td>\n",
       "      <td>39</td>\n",
       "      <td>NAUITBZFJKHWW</td>\n",
       "      <td>Ads</td>\n",
       "      <td>Safari</td>\n",
       "      <td>M</td>\n",
       "      <td>45</td>\n",
       "      <td>4.155831e+08</td>\n",
       "      <td>0</td>\n",
       "      <td>2015-07-21</td>\n",
       "      <td>2015-09-09</td>\n",
       "    </tr>\n",
       "  </tbody>\n",
       "</table>\n",
       "</div>"
      ],
      "text/plain": [
       "   user_id signup_time purchase_time  purchase_value      device_id source  \\\n",
       "0    22058    22:55:49       2:47:11              34  QVPSPJUOCKZAR    SEO   \n",
       "1   333320    20:39:50       1:38:54              16  EOGFQPIZPYXFZ    Ads   \n",
       "2     1359    18:52:44      18:52:45              15  YSSKYOSJHPPLJ    SEO   \n",
       "3   150084    21:13:25      13:54:50              44  ATGTXKYKUDUQN    SEO   \n",
       "4   221365     7:09:52      18:40:53              39  NAUITBZFJKHWW    Ads   \n",
       "\n",
       "  browser sex  age    ip_address  is_fraud  signup_day purchase_day  \n",
       "0  Chrome   M   39  7.327584e+08         0  2015-02-24   2015-04-18  \n",
       "1  Chrome   F   53  3.503114e+08         0  2015-06-07   2015-06-08  \n",
       "2   Opera   M   53  2.621474e+09         1  2015-01-01   2015-01-01  \n",
       "3  Safari   M   41  3.840542e+09         0  2015-04-28   2015-05-04  \n",
       "4  Safari   M   45  4.155831e+08         0  2015-07-21   2015-09-09  "
      ]
     },
     "execution_count": 3,
     "metadata": {},
     "output_type": "execute_result"
    }
   ],
   "source": [
    "#Les variables signup_time et purchase_time se composent des dates avec les heures, \n",
    "#pour mieux visualiser ces donnés on va les séparer\n",
    "df['signup_day'] = df['signup_time'].apply(lambda time: time.split( )[0])\n",
    "df['signup_time'] = df['signup_time'].apply(lambda time: time.split( )[1])\n",
    "df['purchase_day'] = df['purchase_time'].apply(lambda time: time.split( )[0])\n",
    "df['purchase_time'] = df['purchase_time'].apply(lambda time: time.split( )[1]) \n",
    "\n",
    "df.head()"
   ]
  },
  {
   "cell_type": "markdown",
   "metadata": {},
   "source": [
    "2/ puis nous divisons chacune des variables signup_day et purchase_day en 3 variables distinctes.\n",
    "Ainsi la date de connexion se compose de :\n",
    "<ul>\n",
    "    <li>signup_day</li>\n",
    "    <li>signup_month</li>\n",
    "    <li>signup_year</li>\n",
    "</ul> \n",
    "\n",
    "Pour la date d'achat : \n",
    "\n",
    "<ul>\n",
    "    <li>purchase_day</li>\n",
    "    <li>purchase_month</li>\n",
    "    <li>purchase_year</li>\n",
    "</ul> \n",
    "\n",
    "Cette ventilation nous permettra d'analyser et détecter les tendances des transactions dans le temps."
   ]
  },
  {
   "cell_type": "code",
   "execution_count": 4,
   "metadata": {},
   "outputs": [
    {
     "data": {
      "text/html": [
       "<div>\n",
       "<style scoped>\n",
       "    .dataframe tbody tr th:only-of-type {\n",
       "        vertical-align: middle;\n",
       "    }\n",
       "\n",
       "    .dataframe tbody tr th {\n",
       "        vertical-align: top;\n",
       "    }\n",
       "\n",
       "    .dataframe thead th {\n",
       "        text-align: right;\n",
       "    }\n",
       "</style>\n",
       "<table border=\"1\" class=\"dataframe\">\n",
       "  <thead>\n",
       "    <tr style=\"text-align: right;\">\n",
       "      <th></th>\n",
       "      <th>user_id</th>\n",
       "      <th>signup_time</th>\n",
       "      <th>purchase_time</th>\n",
       "      <th>purchase_value</th>\n",
       "      <th>device_id</th>\n",
       "      <th>source</th>\n",
       "      <th>browser</th>\n",
       "      <th>sex</th>\n",
       "      <th>age</th>\n",
       "      <th>ip_address</th>\n",
       "      <th>is_fraud</th>\n",
       "      <th>signup_day</th>\n",
       "      <th>purchase_day</th>\n",
       "      <th>signup_year</th>\n",
       "      <th>signup_month</th>\n",
       "      <th>purchase_year</th>\n",
       "      <th>purchase_month</th>\n",
       "    </tr>\n",
       "  </thead>\n",
       "  <tbody>\n",
       "    <tr>\n",
       "      <th>0</th>\n",
       "      <td>22058</td>\n",
       "      <td>22:55:49</td>\n",
       "      <td>2:47:11</td>\n",
       "      <td>34</td>\n",
       "      <td>QVPSPJUOCKZAR</td>\n",
       "      <td>SEO</td>\n",
       "      <td>Chrome</td>\n",
       "      <td>M</td>\n",
       "      <td>39</td>\n",
       "      <td>7.327584e+08</td>\n",
       "      <td>0</td>\n",
       "      <td>24</td>\n",
       "      <td>18</td>\n",
       "      <td>2015</td>\n",
       "      <td>02</td>\n",
       "      <td>2015</td>\n",
       "      <td>04</td>\n",
       "    </tr>\n",
       "    <tr>\n",
       "      <th>1</th>\n",
       "      <td>333320</td>\n",
       "      <td>20:39:50</td>\n",
       "      <td>1:38:54</td>\n",
       "      <td>16</td>\n",
       "      <td>EOGFQPIZPYXFZ</td>\n",
       "      <td>Ads</td>\n",
       "      <td>Chrome</td>\n",
       "      <td>F</td>\n",
       "      <td>53</td>\n",
       "      <td>3.503114e+08</td>\n",
       "      <td>0</td>\n",
       "      <td>07</td>\n",
       "      <td>08</td>\n",
       "      <td>2015</td>\n",
       "      <td>06</td>\n",
       "      <td>2015</td>\n",
       "      <td>06</td>\n",
       "    </tr>\n",
       "    <tr>\n",
       "      <th>2</th>\n",
       "      <td>1359</td>\n",
       "      <td>18:52:44</td>\n",
       "      <td>18:52:45</td>\n",
       "      <td>15</td>\n",
       "      <td>YSSKYOSJHPPLJ</td>\n",
       "      <td>SEO</td>\n",
       "      <td>Opera</td>\n",
       "      <td>M</td>\n",
       "      <td>53</td>\n",
       "      <td>2.621474e+09</td>\n",
       "      <td>1</td>\n",
       "      <td>01</td>\n",
       "      <td>01</td>\n",
       "      <td>2015</td>\n",
       "      <td>01</td>\n",
       "      <td>2015</td>\n",
       "      <td>01</td>\n",
       "    </tr>\n",
       "    <tr>\n",
       "      <th>3</th>\n",
       "      <td>150084</td>\n",
       "      <td>21:13:25</td>\n",
       "      <td>13:54:50</td>\n",
       "      <td>44</td>\n",
       "      <td>ATGTXKYKUDUQN</td>\n",
       "      <td>SEO</td>\n",
       "      <td>Safari</td>\n",
       "      <td>M</td>\n",
       "      <td>41</td>\n",
       "      <td>3.840542e+09</td>\n",
       "      <td>0</td>\n",
       "      <td>28</td>\n",
       "      <td>04</td>\n",
       "      <td>2015</td>\n",
       "      <td>04</td>\n",
       "      <td>2015</td>\n",
       "      <td>05</td>\n",
       "    </tr>\n",
       "    <tr>\n",
       "      <th>4</th>\n",
       "      <td>221365</td>\n",
       "      <td>7:09:52</td>\n",
       "      <td>18:40:53</td>\n",
       "      <td>39</td>\n",
       "      <td>NAUITBZFJKHWW</td>\n",
       "      <td>Ads</td>\n",
       "      <td>Safari</td>\n",
       "      <td>M</td>\n",
       "      <td>45</td>\n",
       "      <td>4.155831e+08</td>\n",
       "      <td>0</td>\n",
       "      <td>21</td>\n",
       "      <td>09</td>\n",
       "      <td>2015</td>\n",
       "      <td>07</td>\n",
       "      <td>2015</td>\n",
       "      <td>09</td>\n",
       "    </tr>\n",
       "  </tbody>\n",
       "</table>\n",
       "</div>"
      ],
      "text/plain": [
       "   user_id signup_time purchase_time  purchase_value      device_id source  \\\n",
       "0    22058    22:55:49       2:47:11              34  QVPSPJUOCKZAR    SEO   \n",
       "1   333320    20:39:50       1:38:54              16  EOGFQPIZPYXFZ    Ads   \n",
       "2     1359    18:52:44      18:52:45              15  YSSKYOSJHPPLJ    SEO   \n",
       "3   150084    21:13:25      13:54:50              44  ATGTXKYKUDUQN    SEO   \n",
       "4   221365     7:09:52      18:40:53              39  NAUITBZFJKHWW    Ads   \n",
       "\n",
       "  browser sex  age    ip_address  is_fraud signup_day purchase_day  \\\n",
       "0  Chrome   M   39  7.327584e+08         0         24           18   \n",
       "1  Chrome   F   53  3.503114e+08         0         07           08   \n",
       "2   Opera   M   53  2.621474e+09         1         01           01   \n",
       "3  Safari   M   41  3.840542e+09         0         28           04   \n",
       "4  Safari   M   45  4.155831e+08         0         21           09   \n",
       "\n",
       "  signup_year signup_month purchase_year purchase_month  \n",
       "0        2015           02          2015             04  \n",
       "1        2015           06          2015             06  \n",
       "2        2015           01          2015             01  \n",
       "3        2015           04          2015             05  \n",
       "4        2015           07          2015             09  "
      ]
     },
     "execution_count": 4,
     "metadata": {},
     "output_type": "execute_result"
    }
   ],
   "source": [
    "df['signup_year'] = df['signup_day'].apply(lambda date: date.split('-')[0])\n",
    "df['signup_month'] = df['signup_day'].apply(lambda date: date.split('-')[1])\n",
    "df['signup_day'] = df['signup_day'].apply(lambda date: date.split('-')[2])\n",
    "\n",
    "\n",
    "df['purchase_year'] = df['purchase_day'].apply(lambda date: date.split('-')[0])\n",
    "df['purchase_month'] = df['purchase_day'].apply(lambda date: date.split('-')[1])\n",
    "df['purchase_day'] = df['purchase_day'].apply(lambda date: date.split('-')[2])\n",
    "\n",
    "df.head()"
   ]
  },
  {
   "cell_type": "markdown",
   "metadata": {},
   "source": [
    "Nous mettons les variables dans l'ordre pour une meilleure lecture."
   ]
  },
  {
   "cell_type": "code",
   "execution_count": 5,
   "metadata": {},
   "outputs": [
    {
     "data": {
      "text/html": [
       "<div>\n",
       "<style scoped>\n",
       "    .dataframe tbody tr th:only-of-type {\n",
       "        vertical-align: middle;\n",
       "    }\n",
       "\n",
       "    .dataframe tbody tr th {\n",
       "        vertical-align: top;\n",
       "    }\n",
       "\n",
       "    .dataframe thead th {\n",
       "        text-align: right;\n",
       "    }\n",
       "</style>\n",
       "<table border=\"1\" class=\"dataframe\">\n",
       "  <thead>\n",
       "    <tr style=\"text-align: right;\">\n",
       "      <th></th>\n",
       "      <th>user_id</th>\n",
       "      <th>signup_time</th>\n",
       "      <th>signup_day</th>\n",
       "      <th>signup_month</th>\n",
       "      <th>signup_year</th>\n",
       "      <th>purchase_time</th>\n",
       "      <th>purchase_day</th>\n",
       "      <th>purchase_month</th>\n",
       "      <th>purchase_year</th>\n",
       "      <th>purchase_value</th>\n",
       "      <th>device_id</th>\n",
       "      <th>source</th>\n",
       "      <th>browser</th>\n",
       "      <th>sex</th>\n",
       "      <th>age</th>\n",
       "      <th>ip_address</th>\n",
       "      <th>is_fraud</th>\n",
       "    </tr>\n",
       "  </thead>\n",
       "  <tbody>\n",
       "    <tr>\n",
       "      <th>0</th>\n",
       "      <td>22058</td>\n",
       "      <td>22:55:49</td>\n",
       "      <td>24</td>\n",
       "      <td>02</td>\n",
       "      <td>2015</td>\n",
       "      <td>2:47:11</td>\n",
       "      <td>18</td>\n",
       "      <td>04</td>\n",
       "      <td>2015</td>\n",
       "      <td>34</td>\n",
       "      <td>QVPSPJUOCKZAR</td>\n",
       "      <td>SEO</td>\n",
       "      <td>Chrome</td>\n",
       "      <td>M</td>\n",
       "      <td>39</td>\n",
       "      <td>7.327584e+08</td>\n",
       "      <td>0</td>\n",
       "    </tr>\n",
       "    <tr>\n",
       "      <th>1</th>\n",
       "      <td>333320</td>\n",
       "      <td>20:39:50</td>\n",
       "      <td>07</td>\n",
       "      <td>06</td>\n",
       "      <td>2015</td>\n",
       "      <td>1:38:54</td>\n",
       "      <td>08</td>\n",
       "      <td>06</td>\n",
       "      <td>2015</td>\n",
       "      <td>16</td>\n",
       "      <td>EOGFQPIZPYXFZ</td>\n",
       "      <td>Ads</td>\n",
       "      <td>Chrome</td>\n",
       "      <td>F</td>\n",
       "      <td>53</td>\n",
       "      <td>3.503114e+08</td>\n",
       "      <td>0</td>\n",
       "    </tr>\n",
       "    <tr>\n",
       "      <th>2</th>\n",
       "      <td>1359</td>\n",
       "      <td>18:52:44</td>\n",
       "      <td>01</td>\n",
       "      <td>01</td>\n",
       "      <td>2015</td>\n",
       "      <td>18:52:45</td>\n",
       "      <td>01</td>\n",
       "      <td>01</td>\n",
       "      <td>2015</td>\n",
       "      <td>15</td>\n",
       "      <td>YSSKYOSJHPPLJ</td>\n",
       "      <td>SEO</td>\n",
       "      <td>Opera</td>\n",
       "      <td>M</td>\n",
       "      <td>53</td>\n",
       "      <td>2.621474e+09</td>\n",
       "      <td>1</td>\n",
       "    </tr>\n",
       "    <tr>\n",
       "      <th>3</th>\n",
       "      <td>150084</td>\n",
       "      <td>21:13:25</td>\n",
       "      <td>28</td>\n",
       "      <td>04</td>\n",
       "      <td>2015</td>\n",
       "      <td>13:54:50</td>\n",
       "      <td>04</td>\n",
       "      <td>05</td>\n",
       "      <td>2015</td>\n",
       "      <td>44</td>\n",
       "      <td>ATGTXKYKUDUQN</td>\n",
       "      <td>SEO</td>\n",
       "      <td>Safari</td>\n",
       "      <td>M</td>\n",
       "      <td>41</td>\n",
       "      <td>3.840542e+09</td>\n",
       "      <td>0</td>\n",
       "    </tr>\n",
       "    <tr>\n",
       "      <th>4</th>\n",
       "      <td>221365</td>\n",
       "      <td>7:09:52</td>\n",
       "      <td>21</td>\n",
       "      <td>07</td>\n",
       "      <td>2015</td>\n",
       "      <td>18:40:53</td>\n",
       "      <td>09</td>\n",
       "      <td>09</td>\n",
       "      <td>2015</td>\n",
       "      <td>39</td>\n",
       "      <td>NAUITBZFJKHWW</td>\n",
       "      <td>Ads</td>\n",
       "      <td>Safari</td>\n",
       "      <td>M</td>\n",
       "      <td>45</td>\n",
       "      <td>4.155831e+08</td>\n",
       "      <td>0</td>\n",
       "    </tr>\n",
       "  </tbody>\n",
       "</table>\n",
       "</div>"
      ],
      "text/plain": [
       "   user_id signup_time signup_day signup_month signup_year purchase_time  \\\n",
       "0    22058    22:55:49         24           02        2015       2:47:11   \n",
       "1   333320    20:39:50         07           06        2015       1:38:54   \n",
       "2     1359    18:52:44         01           01        2015      18:52:45   \n",
       "3   150084    21:13:25         28           04        2015      13:54:50   \n",
       "4   221365     7:09:52         21           07        2015      18:40:53   \n",
       "\n",
       "  purchase_day purchase_month purchase_year  purchase_value      device_id  \\\n",
       "0           18             04          2015              34  QVPSPJUOCKZAR   \n",
       "1           08             06          2015              16  EOGFQPIZPYXFZ   \n",
       "2           01             01          2015              15  YSSKYOSJHPPLJ   \n",
       "3           04             05          2015              44  ATGTXKYKUDUQN   \n",
       "4           09             09          2015              39  NAUITBZFJKHWW   \n",
       "\n",
       "  source browser sex  age    ip_address  is_fraud  \n",
       "0    SEO  Chrome   M   39  7.327584e+08         0  \n",
       "1    Ads  Chrome   F   53  3.503114e+08         0  \n",
       "2    SEO   Opera   M   53  2.621474e+09         1  \n",
       "3    SEO  Safari   M   41  3.840542e+09         0  \n",
       "4    Ads  Safari   M   45  4.155831e+08         0  "
      ]
     },
     "execution_count": 5,
     "metadata": {},
     "output_type": "execute_result"
    }
   ],
   "source": [
    "df = df[['user_id','signup_time','signup_day', 'signup_month', 'signup_year',\n",
    "        'purchase_time','purchase_day', 'purchase_month', 'purchase_year','purchase_value',\n",
    "        'device_id','source','browser','sex', 'age','ip_address','is_fraud']]\n",
    "\n",
    "\n",
    "df.head()"
   ]
  },
  {
   "cell_type": "markdown",
   "metadata": {},
   "source": [
    "<strong>Nous vérifions les valeurs éventuellement manquantes.</strong>"
   ]
  },
  {
   "cell_type": "code",
   "execution_count": 6,
   "metadata": {},
   "outputs": [
    {
     "data": {
      "text/plain": [
       "user_id           0\n",
       "signup_time       0\n",
       "signup_day        0\n",
       "signup_month      0\n",
       "signup_year       0\n",
       "purchase_time     0\n",
       "purchase_day      0\n",
       "purchase_month    0\n",
       "purchase_year     0\n",
       "purchase_value    0\n",
       "device_id         0\n",
       "source            0\n",
       "browser           0\n",
       "sex               0\n",
       "age               0\n",
       "ip_address        0\n",
       "is_fraud          0\n",
       "dtype: int64"
      ]
     },
     "execution_count": 6,
     "metadata": {},
     "output_type": "execute_result"
    }
   ],
   "source": [
    "df.isna().sum() #affichez les valeurs manquantes\n",
    "#Il n'y a pas de valeurs manquantes"
   ]
  },
  {
   "cell_type": "markdown",
   "metadata": {},
   "source": [
    "Le jeu de données de contient pas de valeurs manquantes"
   ]
  },
  {
   "cell_type": "markdown",
   "metadata": {},
   "source": [
    "<strong>Nous vérifions les doublons</strong>"
   ]
  },
  {
   "cell_type": "code",
   "execution_count": 8,
   "metadata": {},
   "outputs": [
    {
     "name": "stdout",
     "output_type": "stream",
     "text": [
      "Lignes de transactions dupliquées: 0\n",
      "Doublons sur les user id: 0\n",
      "Doublons sur les adresse ip: 7601\n",
      "Doublons sur les device id: 13156\n"
     ]
    }
   ],
   "source": [
    "print('Lignes de transactions dupliquées:',df.duplicated().sum())\n",
    "\n",
    "print('Doublons sur les user id:',df['user_id'].duplicated().sum())\n",
    "print('Doublons sur les adresse ip:' ,df['ip_address'].duplicated().sum())\n",
    "print('Doublons sur les device id:',df['device_id'].duplicated().sum())"
   ]
  },
  {
   "cell_type": "markdown",
   "metadata": {},
   "source": [
    "Il n y a pas de globalement de doublons sur les lignes de transactions, nous noterons l'existence de doublons sur les adresses ip et les devices id, malgré l'absence de doublons sur les user id. Nous pourrons analyser ces données ultérieurement."
   ]
  },
  {
   "cell_type": "markdown",
   "metadata": {},
   "source": [
    "<span style=\"color:green\"> **3. Analyse descriptive des données**</span> "
   ]
  },
  {
   "cell_type": "markdown",
   "metadata": {},
   "source": [
    "Le jeu de données se compose ainsi : "
   ]
  },
  {
   "cell_type": "code",
   "execution_count": 9,
   "metadata": {
    "scrolled": false
   },
   "outputs": [
    {
     "name": "stdout",
     "output_type": "stream",
     "text": [
      "<class 'pandas.core.frame.DataFrame'>\n",
      "RangeIndex: 151112 entries, 0 to 151111\n",
      "Data columns (total 17 columns):\n",
      " #   Column          Non-Null Count   Dtype  \n",
      "---  ------          --------------   -----  \n",
      " 0   user_id         151112 non-null  int64  \n",
      " 1   signup_time     151112 non-null  object \n",
      " 2   signup_day      151112 non-null  object \n",
      " 3   signup_month    151112 non-null  object \n",
      " 4   signup_year     151112 non-null  object \n",
      " 5   purchase_time   151112 non-null  object \n",
      " 6   purchase_day    151112 non-null  object \n",
      " 7   purchase_month  151112 non-null  object \n",
      " 8   purchase_year   151112 non-null  object \n",
      " 9   purchase_value  151112 non-null  int64  \n",
      " 10  device_id       151112 non-null  object \n",
      " 11  source          151112 non-null  object \n",
      " 12  browser         151112 non-null  object \n",
      " 13  sex             151112 non-null  object \n",
      " 14  age             151112 non-null  int64  \n",
      " 15  ip_address      151112 non-null  float64\n",
      " 16  is_fraud        151112 non-null  int64  \n",
      "dtypes: float64(1), int64(4), object(12)\n",
      "memory usage: 19.6+ MB\n"
     ]
    }
   ],
   "source": [
    "df.info() "
   ]
  },
  {
   "cell_type": "markdown",
   "metadata": {},
   "source": [
    "<strong>Analyse descriptives des variables quantitatives</strong>"
   ]
  },
  {
   "cell_type": "markdown",
   "metadata": {},
   "source": [
    "Les données numériques sont globalement distribuées de la façon suivantes : "
   ]
  },
  {
   "cell_type": "code",
   "execution_count": 10,
   "metadata": {
    "scrolled": true
   },
   "outputs": [
    {
     "data": {
      "text/html": [
       "<div>\n",
       "<style scoped>\n",
       "    .dataframe tbody tr th:only-of-type {\n",
       "        vertical-align: middle;\n",
       "    }\n",
       "\n",
       "    .dataframe tbody tr th {\n",
       "        vertical-align: top;\n",
       "    }\n",
       "\n",
       "    .dataframe thead th {\n",
       "        text-align: right;\n",
       "    }\n",
       "</style>\n",
       "<table border=\"1\" class=\"dataframe\">\n",
       "  <thead>\n",
       "    <tr style=\"text-align: right;\">\n",
       "      <th></th>\n",
       "      <th>user_id</th>\n",
       "      <th>purchase_value</th>\n",
       "      <th>age</th>\n",
       "      <th>ip_address</th>\n",
       "      <th>is_fraud</th>\n",
       "    </tr>\n",
       "  </thead>\n",
       "  <tbody>\n",
       "    <tr>\n",
       "      <th>count</th>\n",
       "      <td>151112.000000</td>\n",
       "      <td>151112.000000</td>\n",
       "      <td>151112.000000</td>\n",
       "      <td>1.511120e+05</td>\n",
       "      <td>151112.000000</td>\n",
       "    </tr>\n",
       "    <tr>\n",
       "      <th>mean</th>\n",
       "      <td>200171.040970</td>\n",
       "      <td>36.935372</td>\n",
       "      <td>33.140704</td>\n",
       "      <td>2.152145e+09</td>\n",
       "      <td>0.093646</td>\n",
       "    </tr>\n",
       "    <tr>\n",
       "      <th>std</th>\n",
       "      <td>115369.285024</td>\n",
       "      <td>18.322762</td>\n",
       "      <td>8.617733</td>\n",
       "      <td>1.248497e+09</td>\n",
       "      <td>0.291336</td>\n",
       "    </tr>\n",
       "    <tr>\n",
       "      <th>min</th>\n",
       "      <td>2.000000</td>\n",
       "      <td>9.000000</td>\n",
       "      <td>18.000000</td>\n",
       "      <td>5.209350e+04</td>\n",
       "      <td>0.000000</td>\n",
       "    </tr>\n",
       "    <tr>\n",
       "      <th>25%</th>\n",
       "      <td>100642.500000</td>\n",
       "      <td>22.000000</td>\n",
       "      <td>27.000000</td>\n",
       "      <td>1.085934e+09</td>\n",
       "      <td>0.000000</td>\n",
       "    </tr>\n",
       "    <tr>\n",
       "      <th>50%</th>\n",
       "      <td>199958.000000</td>\n",
       "      <td>35.000000</td>\n",
       "      <td>33.000000</td>\n",
       "      <td>2.154770e+09</td>\n",
       "      <td>0.000000</td>\n",
       "    </tr>\n",
       "    <tr>\n",
       "      <th>75%</th>\n",
       "      <td>300054.000000</td>\n",
       "      <td>49.000000</td>\n",
       "      <td>39.000000</td>\n",
       "      <td>3.243258e+09</td>\n",
       "      <td>0.000000</td>\n",
       "    </tr>\n",
       "    <tr>\n",
       "      <th>max</th>\n",
       "      <td>400000.000000</td>\n",
       "      <td>154.000000</td>\n",
       "      <td>76.000000</td>\n",
       "      <td>4.294850e+09</td>\n",
       "      <td>1.000000</td>\n",
       "    </tr>\n",
       "  </tbody>\n",
       "</table>\n",
       "</div>"
      ],
      "text/plain": [
       "             user_id  purchase_value            age    ip_address  \\\n",
       "count  151112.000000   151112.000000  151112.000000  1.511120e+05   \n",
       "mean   200171.040970       36.935372      33.140704  2.152145e+09   \n",
       "std    115369.285024       18.322762       8.617733  1.248497e+09   \n",
       "min         2.000000        9.000000      18.000000  5.209350e+04   \n",
       "25%    100642.500000       22.000000      27.000000  1.085934e+09   \n",
       "50%    199958.000000       35.000000      33.000000  2.154770e+09   \n",
       "75%    300054.000000       49.000000      39.000000  3.243258e+09   \n",
       "max    400000.000000      154.000000      76.000000  4.294850e+09   \n",
       "\n",
       "            is_fraud  \n",
       "count  151112.000000  \n",
       "mean        0.093646  \n",
       "std         0.291336  \n",
       "min         0.000000  \n",
       "25%         0.000000  \n",
       "50%         0.000000  \n",
       "75%         0.000000  \n",
       "max         1.000000  "
      ]
     },
     "execution_count": 10,
     "metadata": {},
     "output_type": "execute_result"
    }
   ],
   "source": [
    "df.describe() #la distribution des données"
   ]
  },
  {
   "cell_type": "markdown",
   "metadata": {},
   "source": [
    "Pour une analyse plus poussée, nous nous pencherons sur l'analyse descriptives des variables quantitatives <strong>age</strong> et <strong>purchase_value</strong>. Les variables user_id, ip_adresse étant des identifiants et is_fraud une variable binaire, n'entrent pas pour l'instant dans le scope d'analyse."
   ]
  },
  {
   "cell_type": "code",
   "execution_count": 48,
   "metadata": {},
   "outputs": [
    {
     "name": "stdout",
     "output_type": "stream",
     "text": [
      "0\n"
     ]
    },
    {
     "data": {
      "text/html": [
       "<div>\n",
       "<style scoped>\n",
       "    .dataframe tbody tr th:only-of-type {\n",
       "        vertical-align: middle;\n",
       "    }\n",
       "\n",
       "    .dataframe tbody tr th {\n",
       "        vertical-align: top;\n",
       "    }\n",
       "\n",
       "    .dataframe thead th {\n",
       "        text-align: right;\n",
       "    }\n",
       "</style>\n",
       "<table border=\"1\" class=\"dataframe\">\n",
       "  <thead>\n",
       "    <tr style=\"text-align: right;\">\n",
       "      <th></th>\n",
       "      <th>mediane</th>\n",
       "      <th>moyenne</th>\n",
       "      <th>moyenne - ecart type</th>\n",
       "      <th>moyenne + ecart type</th>\n",
       "    </tr>\n",
       "  </thead>\n",
       "  <tbody>\n",
       "    <tr>\n",
       "      <th>purchase_value</th>\n",
       "      <td>35.0</td>\n",
       "      <td>36.94</td>\n",
       "      <td>18.61</td>\n",
       "      <td>55.26</td>\n",
       "    </tr>\n",
       "    <tr>\n",
       "      <th>age</th>\n",
       "      <td>33.0</td>\n",
       "      <td>33.14</td>\n",
       "      <td>24.52</td>\n",
       "      <td>41.76</td>\n",
       "    </tr>\n",
       "  </tbody>\n",
       "</table>\n",
       "</div>"
      ],
      "text/plain": [
       "                mediane  moyenne  moyenne - ecart type  moyenne + ecart type\n",
       "purchase_value     35.0    36.94                 18.61                 55.26\n",
       "age                33.0    33.14                 24.52                 41.76"
      ]
     },
     "execution_count": 48,
     "metadata": {},
     "output_type": "execute_result"
    }
   ],
   "source": [
    "print(df.duplicated().sum())\n",
    "\n",
    "num_data = df[['purchase_value','age']]\n",
    "\n",
    "\n",
    "stats = pd.DataFrame(num_data.median(), columns = ['mediane'])\n",
    "stats['moyenne'] = num_data.mean()\n",
    "\n",
    "stats['moyenne - ecart type'] = pd.DataFrame(num_data.mean() - num_data.std())\n",
    "\n",
    "stats['moyenne + ecart type'] = pd.DataFrame(num_data.mean() +  num_data.std())\n",
    "\n",
    "\n",
    "stats.round(2)"
   ]
  },
  {
   "cell_type": "code",
   "execution_count": 61,
   "metadata": {},
   "outputs": [
    {
     "name": "stdout",
     "output_type": "stream",
     "text": [
      "18.322762148660615 8.617733490959177\n"
     ]
    }
   ],
   "source": [
    "#could be interesting to see 'l'ecart type' separately from varaibles, no?\n",
    "#Une mesure de la dispersion des valeurs\n",
    "ecart_type_pv = num_data['purchase_value'].std()\n",
    "ecart_type_a = num_data['age'].std()\n",
    "\n",
    "print(ecart_type_pv, ecart_type_a)"
   ]
  },
  {
   "cell_type": "markdown",
   "metadata": {},
   "source": [
    "Statistiques valeurs d'achats avec/sans fraude: "
   ]
  },
  {
   "cell_type": "code",
   "execution_count": 11,
   "metadata": {},
   "outputs": [
    {
     "data": {
      "text/html": [
       "<div>\n",
       "<style scoped>\n",
       "    .dataframe tbody tr th:only-of-type {\n",
       "        vertical-align: middle;\n",
       "    }\n",
       "\n",
       "    .dataframe tbody tr th {\n",
       "        vertical-align: top;\n",
       "    }\n",
       "\n",
       "    .dataframe thead tr th {\n",
       "        text-align: left;\n",
       "    }\n",
       "\n",
       "    .dataframe thead tr:last-of-type th {\n",
       "        text-align: right;\n",
       "    }\n",
       "</style>\n",
       "<table border=\"1\" class=\"dataframe\">\n",
       "  <thead>\n",
       "    <tr>\n",
       "      <th></th>\n",
       "      <th colspan=\"5\" halign=\"left\">purchase_value</th>\n",
       "    </tr>\n",
       "    <tr>\n",
       "      <th></th>\n",
       "      <th>sum</th>\n",
       "      <th>mean</th>\n",
       "      <th>median</th>\n",
       "      <th>min</th>\n",
       "      <th>max</th>\n",
       "    </tr>\n",
       "    <tr>\n",
       "      <th>is_fraud</th>\n",
       "      <th></th>\n",
       "      <th></th>\n",
       "      <th></th>\n",
       "      <th></th>\n",
       "      <th></th>\n",
       "    </tr>\n",
       "  </thead>\n",
       "  <tbody>\n",
       "    <tr>\n",
       "      <th>0</th>\n",
       "      <td>5057890</td>\n",
       "      <td>36.929418</td>\n",
       "      <td>35.0</td>\n",
       "      <td>9</td>\n",
       "      <td>154</td>\n",
       "    </tr>\n",
       "    <tr>\n",
       "      <th>1</th>\n",
       "      <td>523488</td>\n",
       "      <td>36.993004</td>\n",
       "      <td>35.0</td>\n",
       "      <td>9</td>\n",
       "      <td>111</td>\n",
       "    </tr>\n",
       "  </tbody>\n",
       "</table>\n",
       "</div>"
      ],
      "text/plain": [
       "         purchase_value                           \n",
       "                    sum       mean median min  max\n",
       "is_fraud                                          \n",
       "0               5057890  36.929418   35.0   9  154\n",
       "1                523488  36.993004   35.0   9  111"
      ]
     },
     "execution_count": 11,
     "metadata": {},
     "output_type": "execute_result"
    }
   ],
   "source": [
    "purchase_value_by_fraud = df.groupby(['is_fraud']).agg({'purchase_value':['sum','mean','median','min','max']})\n",
    "\n",
    "purchase_value_by_fraud"
   ]
  },
  {
   "cell_type": "markdown",
   "metadata": {},
   "source": [
    "Statistiques sur l''âge des individus  avec/sans fraude:"
   ]
  },
  {
   "cell_type": "code",
   "execution_count": 12,
   "metadata": {},
   "outputs": [
    {
     "data": {
      "text/html": [
       "<div>\n",
       "<style scoped>\n",
       "    .dataframe tbody tr th:only-of-type {\n",
       "        vertical-align: middle;\n",
       "    }\n",
       "\n",
       "    .dataframe tbody tr th {\n",
       "        vertical-align: top;\n",
       "    }\n",
       "\n",
       "    .dataframe thead tr th {\n",
       "        text-align: left;\n",
       "    }\n",
       "\n",
       "    .dataframe thead tr:last-of-type th {\n",
       "        text-align: right;\n",
       "    }\n",
       "</style>\n",
       "<table border=\"1\" class=\"dataframe\">\n",
       "  <thead>\n",
       "    <tr>\n",
       "      <th></th>\n",
       "      <th colspan=\"4\" halign=\"left\">age</th>\n",
       "    </tr>\n",
       "    <tr>\n",
       "      <th></th>\n",
       "      <th>mean</th>\n",
       "      <th>median</th>\n",
       "      <th>min</th>\n",
       "      <th>max</th>\n",
       "    </tr>\n",
       "    <tr>\n",
       "      <th>is_fraud</th>\n",
       "      <th></th>\n",
       "      <th></th>\n",
       "      <th></th>\n",
       "      <th></th>\n",
       "    </tr>\n",
       "  </thead>\n",
       "  <tbody>\n",
       "    <tr>\n",
       "      <th>0</th>\n",
       "      <td>33.122356</td>\n",
       "      <td>33.0</td>\n",
       "      <td>18</td>\n",
       "      <td>76</td>\n",
       "    </tr>\n",
       "    <tr>\n",
       "      <th>1</th>\n",
       "      <td>33.318281</td>\n",
       "      <td>33.0</td>\n",
       "      <td>18</td>\n",
       "      <td>68</td>\n",
       "    </tr>\n",
       "  </tbody>\n",
       "</table>\n",
       "</div>"
      ],
      "text/plain": [
       "                age               \n",
       "               mean median min max\n",
       "is_fraud                          \n",
       "0         33.122356   33.0  18  76\n",
       "1         33.318281   33.0  18  68"
      ]
     },
     "execution_count": 12,
     "metadata": {},
     "output_type": "execute_result"
    }
   ],
   "source": [
    "age_by_fraud = df.groupby(['is_fraud']).agg({'age':['mean','median','min','max']})\n",
    "age_by_fraud"
   ]
  },
  {
   "cell_type": "markdown",
   "metadata": {},
   "source": [
    "La moyenne et la médiane des variables age et purchase_value sont très proches, les valeurs sont plutôt homogènes."
   ]
  },
  {
   "cell_type": "markdown",
   "metadata": {},
   "source": [
    "Pour analyser la dispersion des valeurs, nous avons déterminer l'intervalle (moyenne -/+ ecart type) dans lequel les valeurs sont au plus proche de la moyenne.\n",
    "\n",
    "Nous allons par ailleurs déterminer la proportions de valeurs présentes ou non dans cet intervalle."
   ]
  },
  {
   "cell_type": "code",
   "execution_count": 59,
   "metadata": {},
   "outputs": [
    {
     "name": "stdout",
     "output_type": "stream",
     "text": [
      "Dispersion des achats\n",
      " 1    0.664414\n",
      "0    0.335586\n",
      "Name: purchase_value_in, dtype: float64\n",
      "Achat moyen et médian en dehos de l'intervalle: 39.93602965825955 18.0\n",
      "Dispersion des âges \n",
      " 1    0.653826\n",
      "0    0.346174\n",
      "Name: age_in, dtype: float64\n",
      "age moyen et median en dehors de l'intervalle : 33.967406472825985 24.0\n"
     ]
    }
   ],
   "source": [
    "\n",
    "num_data['purchase_value_in'] = num_data['purchase_value'].between(stats['moyenne - ecart type'][0], stats['moyenne + ecart type'][0]).astype(int)\n",
    "print('Dispersion des achats\\n',num_data['purchase_value_in'].value_counts(normalize=True))\n",
    "\n",
    "outliers_purchase_value = num_data[num_data.purchase_value_in==0]\n",
    "\n",
    "num_data['purchase_value_in'] = outliers_purchase_value['purchase_value'].mean()#should we delete it?\n",
    "\n",
    "\n",
    "print('Achat moyen et médian en dehos de l\\'intervalle:',outliers_purchase_value['purchase_value'].mean(), outliers_purchase_value['purchase_value'].median())\n",
    "\n",
    "num_data['age_in'] = num_data['age'].between(stats['moyenne - ecart type'][1], stats['moyenne + ecart type'][1]).astype(int)\n",
    "\n",
    "print('Dispersion des âges \\n',num_data['age_in'].value_counts(normalize=True))\n",
    "      \n",
    "outliers_age = num_data[num_data.age_in==0]\n",
    "\n",
    "print('age moyen et median en dehors de l\\'intervalle :', outliers_age['age'].mean(), outliers_age['age'].median())\n"
   ]
  },
  {
   "cell_type": "markdown",
   "metadata": {},
   "source": [
    "Nous constatons que près de 33-34 % des achats et d'individus selon leur age sont dispersés dans le jeu de données"
   ]
  },
  {
   "cell_type": "markdown",
   "metadata": {},
   "source": [
    "Les achats moyens des valeurs extrêmes sont plus elevées que la moyenne globale contrairement à la mediane des valeurs extrêmes qui est plus basse que la médiane globale."
   ]
  },
  {
   "cell_type": "markdown",
   "metadata": {},
   "source": [
    "<strong>Relation entre les variables quantitatives et la variable is_fraud</strong>"
   ]
  },
  {
   "cell_type": "code",
   "execution_count": 65,
   "metadata": {
    "scrolled": true
   },
   "outputs": [
    {
     "data": {
      "text/html": [
       "<div>\n",
       "<style scoped>\n",
       "    .dataframe tbody tr th:only-of-type {\n",
       "        vertical-align: middle;\n",
       "    }\n",
       "\n",
       "    .dataframe tbody tr th {\n",
       "        vertical-align: top;\n",
       "    }\n",
       "\n",
       "    .dataframe thead th {\n",
       "        text-align: right;\n",
       "    }\n",
       "</style>\n",
       "<table border=\"1\" class=\"dataframe\">\n",
       "  <thead>\n",
       "    <tr style=\"text-align: right;\">\n",
       "      <th></th>\n",
       "      <th>purchase_value</th>\n",
       "      <th>age</th>\n",
       "    </tr>\n",
       "  </thead>\n",
       "  <tbody>\n",
       "    <tr>\n",
       "      <th>purchase_value</th>\n",
       "      <td>1.00000</td>\n",
       "      <td>0.00237</td>\n",
       "    </tr>\n",
       "    <tr>\n",
       "      <th>age</th>\n",
       "      <td>0.00237</td>\n",
       "      <td>1.00000</td>\n",
       "    </tr>\n",
       "  </tbody>\n",
       "</table>\n",
       "</div>"
      ],
      "text/plain": [
       "                purchase_value      age\n",
       "purchase_value         1.00000  0.00237\n",
       "age                    0.00237  1.00000"
      ]
     },
     "execution_count": 65,
     "metadata": {},
     "output_type": "execute_result"
    }
   ],
   "source": [
    "#Une dernière étape consiste à étudier les relations entre variables quantitatives et qualitatives.\n",
    "\n",
    "df[['purchase_value','age']].corr()"
   ]
  },
  {
   "cell_type": "code",
   "execution_count": 64,
   "metadata": {},
   "outputs": [
    {
     "name": "stdout",
     "output_type": "stream",
     "text": [
      "0.0023698179233696687\n",
      "0.3569376648847938\n",
      "               purchase_\n",
      "pearson_coeff   0.002370\n",
      "p-value         0.356938\n"
     ]
    }
   ],
   "source": [
    "cof,pvalue = pearsonr(df['purchase_value'], df['age'])\n",
    "\n",
    "print(cof)#the same as in the table?\n",
    "\n",
    "print(pvalue)#the same as in the table?\n",
    "\n",
    "print(pd.DataFrame(pearsonr(df['purchase_value'], df['age']), index=['pearson_coeff','p-value'], columns=['purchase_']))\n"
   ]
  },
  {
   "cell_type": "markdown",
   "metadata": {},
   "source": [
    "la p-value est > 5%, le coefficient est proche de null, il n y a pas de corrélation entre les variables age et purchase_value.\n",
    "Ces variables sont indépendantes."
   ]
  },
  {
   "cell_type": "code",
   "execution_count": 16,
   "metadata": {
    "scrolled": true
   },
   "outputs": [
    {
     "data": {
      "text/html": [
       "<div>\n",
       "<style scoped>\n",
       "    .dataframe tbody tr th:only-of-type {\n",
       "        vertical-align: middle;\n",
       "    }\n",
       "\n",
       "    .dataframe tbody tr th {\n",
       "        vertical-align: top;\n",
       "    }\n",
       "\n",
       "    .dataframe thead th {\n",
       "        text-align: right;\n",
       "    }\n",
       "</style>\n",
       "<table border=\"1\" class=\"dataframe\">\n",
       "  <thead>\n",
       "    <tr style=\"text-align: right;\">\n",
       "      <th></th>\n",
       "      <th>df</th>\n",
       "      <th>sum_sq</th>\n",
       "      <th>mean_sq</th>\n",
       "      <th>F</th>\n",
       "      <th>PR(&gt;F)</th>\n",
       "    </tr>\n",
       "  </thead>\n",
       "  <tbody>\n",
       "    <tr>\n",
       "      <th>is_fraud</th>\n",
       "      <td>1.0</td>\n",
       "      <td>4.923416e+02</td>\n",
       "      <td>492.341625</td>\n",
       "      <td>6.629742</td>\n",
       "      <td>0.01003</td>\n",
       "    </tr>\n",
       "    <tr>\n",
       "      <th>Residual</th>\n",
       "      <td>151110.0</td>\n",
       "      <td>1.122182e+07</td>\n",
       "      <td>74.262564</td>\n",
       "      <td>NaN</td>\n",
       "      <td>NaN</td>\n",
       "    </tr>\n",
       "  </tbody>\n",
       "</table>\n",
       "</div>"
      ],
      "text/plain": [
       "                df        sum_sq     mean_sq         F   PR(>F)\n",
       "is_fraud       1.0  4.923416e+02  492.341625  6.629742  0.01003\n",
       "Residual  151110.0  1.122182e+07   74.262564       NaN      NaN"
      ]
     },
     "execution_count": 16,
     "metadata": {},
     "output_type": "execute_result"
    }
   ],
   "source": [
    "result = statsmodels.formula.api.ols('age ~ is_fraud', data=df).fit()\n",
    "table = statsmodels.api.stats.anova_lm(result)\n",
    "\n",
    "table\n"
   ]
  },
  {
   "cell_type": "markdown",
   "metadata": {},
   "source": [
    "La p-value (PR(>F)) est inférieur à 5% donc on rejette l'hypothèse selon laquelle is_fraud n'influe pas sur l'age."
   ]
  },
  {
   "cell_type": "code",
   "execution_count": 17,
   "metadata": {},
   "outputs": [
    {
     "data": {
      "text/html": [
       "<div>\n",
       "<style scoped>\n",
       "    .dataframe tbody tr th:only-of-type {\n",
       "        vertical-align: middle;\n",
       "    }\n",
       "\n",
       "    .dataframe tbody tr th {\n",
       "        vertical-align: top;\n",
       "    }\n",
       "\n",
       "    .dataframe thead th {\n",
       "        text-align: right;\n",
       "    }\n",
       "</style>\n",
       "<table border=\"1\" class=\"dataframe\">\n",
       "  <thead>\n",
       "    <tr style=\"text-align: right;\">\n",
       "      <th></th>\n",
       "      <th>df</th>\n",
       "      <th>sum_sq</th>\n",
       "      <th>mean_sq</th>\n",
       "      <th>F</th>\n",
       "      <th>PR(&gt;F)</th>\n",
       "    </tr>\n",
       "  </thead>\n",
       "  <tbody>\n",
       "    <tr>\n",
       "      <th>is_fraud</th>\n",
       "      <td>1.0</td>\n",
       "      <td>5.185735e+01</td>\n",
       "      <td>51.857354</td>\n",
       "      <td>0.154464</td>\n",
       "      <td>0.694306</td>\n",
       "    </tr>\n",
       "    <tr>\n",
       "      <th>Residual</th>\n",
       "      <td>151110.0</td>\n",
       "      <td>5.073148e+07</td>\n",
       "      <td>335.725491</td>\n",
       "      <td>NaN</td>\n",
       "      <td>NaN</td>\n",
       "    </tr>\n",
       "  </tbody>\n",
       "</table>\n",
       "</div>"
      ],
      "text/plain": [
       "                df        sum_sq     mean_sq         F    PR(>F)\n",
       "is_fraud       1.0  5.185735e+01   51.857354  0.154464  0.694306\n",
       "Residual  151110.0  5.073148e+07  335.725491       NaN       NaN"
      ]
     },
     "execution_count": 17,
     "metadata": {},
     "output_type": "execute_result"
    }
   ],
   "source": [
    "result = statsmodels.formula.api.ols('purchase_value ~ is_fraud', data=df).fit()\n",
    "table = statsmodels.api.stats.anova_lm(result)\n",
    "\n",
    "table"
   ]
  },
  {
   "cell_type": "markdown",
   "metadata": {},
   "source": [
    "la p-value (PR(>F)) est supérieur à 5% donc l'hypothèse selon laquelle is_fraud n'influe pas sur purchase_value est confirmée."
   ]
  },
  {
   "cell_type": "code",
   "execution_count": 18,
   "metadata": {},
   "outputs": [],
   "source": [
    "#Histogramme"
   ]
  },
  {
   "cell_type": "markdown",
   "metadata": {},
   "source": [
    "<strong>Analyse descriptives des variables qualitatives</strong>"
   ]
  },
  {
   "cell_type": "markdown",
   "metadata": {},
   "source": [
    "On détermine les variables catégorielles et on les stocke dans un tableau cat_data:"
   ]
  },
  {
   "cell_type": "code",
   "execution_count": 11,
   "metadata": {},
   "outputs": [
    {
     "data": {
      "text/html": [
       "<div>\n",
       "<style scoped>\n",
       "    .dataframe tbody tr th:only-of-type {\n",
       "        vertical-align: middle;\n",
       "    }\n",
       "\n",
       "    .dataframe tbody tr th {\n",
       "        vertical-align: top;\n",
       "    }\n",
       "\n",
       "    .dataframe thead th {\n",
       "        text-align: right;\n",
       "    }\n",
       "</style>\n",
       "<table border=\"1\" class=\"dataframe\">\n",
       "  <thead>\n",
       "    <tr style=\"text-align: right;\">\n",
       "      <th></th>\n",
       "      <th>signup_time</th>\n",
       "      <th>signup_day</th>\n",
       "      <th>signup_month</th>\n",
       "      <th>signup_year</th>\n",
       "      <th>purchase_time</th>\n",
       "      <th>purchase_day</th>\n",
       "      <th>purchase_month</th>\n",
       "      <th>purchase_year</th>\n",
       "      <th>device_id</th>\n",
       "      <th>source</th>\n",
       "      <th>browser</th>\n",
       "      <th>sex</th>\n",
       "      <th>user_id</th>\n",
       "      <th>ip_address</th>\n",
       "      <th>is_fraud</th>\n",
       "    </tr>\n",
       "  </thead>\n",
       "  <tbody>\n",
       "    <tr>\n",
       "      <th>0</th>\n",
       "      <td>22:55:49</td>\n",
       "      <td>24</td>\n",
       "      <td>02</td>\n",
       "      <td>2015</td>\n",
       "      <td>2:47:11</td>\n",
       "      <td>18</td>\n",
       "      <td>04</td>\n",
       "      <td>2015</td>\n",
       "      <td>QVPSPJUOCKZAR</td>\n",
       "      <td>SEO</td>\n",
       "      <td>Chrome</td>\n",
       "      <td>M</td>\n",
       "      <td>22058</td>\n",
       "      <td>7.327584e+08</td>\n",
       "      <td>0</td>\n",
       "    </tr>\n",
       "    <tr>\n",
       "      <th>1</th>\n",
       "      <td>20:39:50</td>\n",
       "      <td>07</td>\n",
       "      <td>06</td>\n",
       "      <td>2015</td>\n",
       "      <td>1:38:54</td>\n",
       "      <td>08</td>\n",
       "      <td>06</td>\n",
       "      <td>2015</td>\n",
       "      <td>EOGFQPIZPYXFZ</td>\n",
       "      <td>Ads</td>\n",
       "      <td>Chrome</td>\n",
       "      <td>F</td>\n",
       "      <td>333320</td>\n",
       "      <td>3.503114e+08</td>\n",
       "      <td>0</td>\n",
       "    </tr>\n",
       "    <tr>\n",
       "      <th>2</th>\n",
       "      <td>18:52:44</td>\n",
       "      <td>01</td>\n",
       "      <td>01</td>\n",
       "      <td>2015</td>\n",
       "      <td>18:52:45</td>\n",
       "      <td>01</td>\n",
       "      <td>01</td>\n",
       "      <td>2015</td>\n",
       "      <td>YSSKYOSJHPPLJ</td>\n",
       "      <td>SEO</td>\n",
       "      <td>Opera</td>\n",
       "      <td>M</td>\n",
       "      <td>1359</td>\n",
       "      <td>2.621474e+09</td>\n",
       "      <td>1</td>\n",
       "    </tr>\n",
       "    <tr>\n",
       "      <th>3</th>\n",
       "      <td>21:13:25</td>\n",
       "      <td>28</td>\n",
       "      <td>04</td>\n",
       "      <td>2015</td>\n",
       "      <td>13:54:50</td>\n",
       "      <td>04</td>\n",
       "      <td>05</td>\n",
       "      <td>2015</td>\n",
       "      <td>ATGTXKYKUDUQN</td>\n",
       "      <td>SEO</td>\n",
       "      <td>Safari</td>\n",
       "      <td>M</td>\n",
       "      <td>150084</td>\n",
       "      <td>3.840542e+09</td>\n",
       "      <td>0</td>\n",
       "    </tr>\n",
       "    <tr>\n",
       "      <th>4</th>\n",
       "      <td>7:09:52</td>\n",
       "      <td>21</td>\n",
       "      <td>07</td>\n",
       "      <td>2015</td>\n",
       "      <td>18:40:53</td>\n",
       "      <td>09</td>\n",
       "      <td>09</td>\n",
       "      <td>2015</td>\n",
       "      <td>NAUITBZFJKHWW</td>\n",
       "      <td>Ads</td>\n",
       "      <td>Safari</td>\n",
       "      <td>M</td>\n",
       "      <td>221365</td>\n",
       "      <td>4.155831e+08</td>\n",
       "      <td>0</td>\n",
       "    </tr>\n",
       "    <tr>\n",
       "      <th>...</th>\n",
       "      <td>...</td>\n",
       "      <td>...</td>\n",
       "      <td>...</td>\n",
       "      <td>...</td>\n",
       "      <td>...</td>\n",
       "      <td>...</td>\n",
       "      <td>...</td>\n",
       "      <td>...</td>\n",
       "      <td>...</td>\n",
       "      <td>...</td>\n",
       "      <td>...</td>\n",
       "      <td>...</td>\n",
       "      <td>...</td>\n",
       "      <td>...</td>\n",
       "      <td>...</td>\n",
       "    </tr>\n",
       "    <tr>\n",
       "      <th>151107</th>\n",
       "      <td>3:03:34</td>\n",
       "      <td>27</td>\n",
       "      <td>01</td>\n",
       "      <td>2015</td>\n",
       "      <td>0:30:47</td>\n",
       "      <td>29</td>\n",
       "      <td>03</td>\n",
       "      <td>2015</td>\n",
       "      <td>XPSKTWGPWINLR</td>\n",
       "      <td>SEO</td>\n",
       "      <td>Chrome</td>\n",
       "      <td>M</td>\n",
       "      <td>345170</td>\n",
       "      <td>3.451155e+09</td>\n",
       "      <td>1</td>\n",
       "    </tr>\n",
       "    <tr>\n",
       "      <th>151108</th>\n",
       "      <td>17:43:29</td>\n",
       "      <td>15</td>\n",
       "      <td>05</td>\n",
       "      <td>2015</td>\n",
       "      <td>12:24:39</td>\n",
       "      <td>26</td>\n",
       "      <td>05</td>\n",
       "      <td>2015</td>\n",
       "      <td>LYSFABUCPCGBA</td>\n",
       "      <td>SEO</td>\n",
       "      <td>Safari</td>\n",
       "      <td>M</td>\n",
       "      <td>274471</td>\n",
       "      <td>2.439047e+09</td>\n",
       "      <td>0</td>\n",
       "    </tr>\n",
       "    <tr>\n",
       "      <th>151109</th>\n",
       "      <td>23:07:31</td>\n",
       "      <td>03</td>\n",
       "      <td>03</td>\n",
       "      <td>2015</td>\n",
       "      <td>7:07:47</td>\n",
       "      <td>20</td>\n",
       "      <td>05</td>\n",
       "      <td>2015</td>\n",
       "      <td>MEQHCSJUBRBFE</td>\n",
       "      <td>SEO</td>\n",
       "      <td>IE</td>\n",
       "      <td>F</td>\n",
       "      <td>368416</td>\n",
       "      <td>2.748471e+09</td>\n",
       "      <td>0</td>\n",
       "    </tr>\n",
       "    <tr>\n",
       "      <th>151110</th>\n",
       "      <td>20:06:07</td>\n",
       "      <td>09</td>\n",
       "      <td>07</td>\n",
       "      <td>2015</td>\n",
       "      <td>9:34:46</td>\n",
       "      <td>07</td>\n",
       "      <td>09</td>\n",
       "      <td>2015</td>\n",
       "      <td>CMCXFGRHYSTVJ</td>\n",
       "      <td>SEO</td>\n",
       "      <td>Chrome</td>\n",
       "      <td>M</td>\n",
       "      <td>207709</td>\n",
       "      <td>3.601175e+09</td>\n",
       "      <td>0</td>\n",
       "    </tr>\n",
       "    <tr>\n",
       "      <th>151111</th>\n",
       "      <td>7:02:20</td>\n",
       "      <td>10</td>\n",
       "      <td>06</td>\n",
       "      <td>2015</td>\n",
       "      <td>2:03:53</td>\n",
       "      <td>21</td>\n",
       "      <td>07</td>\n",
       "      <td>2015</td>\n",
       "      <td>ZINIADFCLHYPG</td>\n",
       "      <td>Direct</td>\n",
       "      <td>IE</td>\n",
       "      <td>M</td>\n",
       "      <td>138208</td>\n",
       "      <td>4.103825e+09</td>\n",
       "      <td>0</td>\n",
       "    </tr>\n",
       "  </tbody>\n",
       "</table>\n",
       "<p>151112 rows × 15 columns</p>\n",
       "</div>"
      ],
      "text/plain": [
       "       signup_time signup_day signup_month signup_year purchase_time  \\\n",
       "0         22:55:49         24           02        2015       2:47:11   \n",
       "1         20:39:50         07           06        2015       1:38:54   \n",
       "2         18:52:44         01           01        2015      18:52:45   \n",
       "3         21:13:25         28           04        2015      13:54:50   \n",
       "4          7:09:52         21           07        2015      18:40:53   \n",
       "...            ...        ...          ...         ...           ...   \n",
       "151107     3:03:34         27           01        2015       0:30:47   \n",
       "151108    17:43:29         15           05        2015      12:24:39   \n",
       "151109    23:07:31         03           03        2015       7:07:47   \n",
       "151110    20:06:07         09           07        2015       9:34:46   \n",
       "151111     7:02:20         10           06        2015       2:03:53   \n",
       "\n",
       "       purchase_day purchase_month purchase_year      device_id  source  \\\n",
       "0                18             04          2015  QVPSPJUOCKZAR     SEO   \n",
       "1                08             06          2015  EOGFQPIZPYXFZ     Ads   \n",
       "2                01             01          2015  YSSKYOSJHPPLJ     SEO   \n",
       "3                04             05          2015  ATGTXKYKUDUQN     SEO   \n",
       "4                09             09          2015  NAUITBZFJKHWW     Ads   \n",
       "...             ...            ...           ...            ...     ...   \n",
       "151107           29             03          2015  XPSKTWGPWINLR     SEO   \n",
       "151108           26             05          2015  LYSFABUCPCGBA     SEO   \n",
       "151109           20             05          2015  MEQHCSJUBRBFE     SEO   \n",
       "151110           07             09          2015  CMCXFGRHYSTVJ     SEO   \n",
       "151111           21             07          2015  ZINIADFCLHYPG  Direct   \n",
       "\n",
       "       browser sex  user_id    ip_address  is_fraud  \n",
       "0       Chrome   M    22058  7.327584e+08         0  \n",
       "1       Chrome   F   333320  3.503114e+08         0  \n",
       "2        Opera   M     1359  2.621474e+09         1  \n",
       "3       Safari   M   150084  3.840542e+09         0  \n",
       "4       Safari   M   221365  4.155831e+08         0  \n",
       "...        ...  ..      ...           ...       ...  \n",
       "151107  Chrome   M   345170  3.451155e+09         1  \n",
       "151108  Safari   M   274471  2.439047e+09         0  \n",
       "151109      IE   F   368416  2.748471e+09         0  \n",
       "151110  Chrome   M   207709  3.601175e+09         0  \n",
       "151111      IE   M   138208  4.103825e+09         0  \n",
       "\n",
       "[151112 rows x 15 columns]"
      ]
     },
     "execution_count": 11,
     "metadata": {},
     "output_type": "execute_result"
    }
   ],
   "source": [
    "cat_data  = df.select_dtypes(include = 'O')\n",
    "cat_data['user_id'] = df['user_id']\n",
    "cat_data['ip_address'] = df['ip_address']\n",
    "cat_data['is_fraud'] = df['is_fraud']\n",
    "\n",
    "cat_data"
   ]
  },
  {
   "cell_type": "markdown",
   "metadata": {},
   "source": [
    "On regarde les modalités les plus fréquentes des variables qualitatives et comment se répartissent-elles:"
   ]
  },
  {
   "cell_type": "code",
   "execution_count": 117,
   "metadata": {},
   "outputs": [
    {
     "name": "stdout",
     "output_type": "stream",
     "text": [
      "0    136961\n",
      "1     14151\n",
      "Name: is_fraud, dtype: int64\n",
      "\n",
      "\n",
      "0    0.906354\n",
      "1    0.093646\n",
      "Name: is_fraud, dtype: float64\n"
     ]
    }
   ],
   "source": [
    "print(cat_data['is_fraud'].value_counts())\n",
    "print('\\n')\n",
    "print(cat_data['is_fraud'].value_counts(normalize=True))\n",
    "#9,3 % transactions sont fraudeause"
   ]
  },
  {
   "cell_type": "code",
   "execution_count": 116,
   "metadata": {
    "scrolled": false
   },
   "outputs": [
    {
     "name": "stdout",
     "output_type": "stream",
     "text": [
      "CQTUVBYIWWWBC    20\n",
      "ITUMJCKWEYNDD    20\n",
      "EQYVNEGOFLAWK    20\n",
      "ZUSVMDEZRBDTX    20\n",
      "NGQCKIADMZORL    20\n",
      "Name: device_id, dtype: int64\n",
      "\n",
      "\n",
      "0    CQTUVBYIWWWBC\n",
      "1    EQYVNEGOFLAWK\n",
      "2    ITUMJCKWEYNDD\n",
      "3    KIPFSCNUGOLDP\n",
      "4    NGQCKIADMZORL\n",
      "5    ZUSVMDEZRBDTX\n",
      "Name: device_id, dtype: object\n"
     ]
    }
   ],
   "source": [
    "print(cat_data['device_id'].value_counts().head())\n",
    "print('\\n')\n",
    "print(cat_data['device_id'].mode())#Nous avons 6 id qui ont fait max d'achats = 20 chacun"
   ]
  },
  {
   "cell_type": "code",
   "execution_count": 16,
   "metadata": {},
   "outputs": [
    {
     "name": "stdout",
     "output_type": "stream",
     "text": [
      "3.874758e+09    20\n",
      "2.050964e+09    20\n",
      "5.760609e+08    20\n",
      "1.502818e+09    20\n",
      "1.797069e+09    19\n",
      "Name: ip_address, dtype: int64\n",
      "\n",
      "\n",
      "0    5.760609e+08\n",
      "1    1.502818e+09\n",
      "2    2.050964e+09\n",
      "3    3.874758e+09\n",
      "Name: ip_address, dtype: float64\n"
     ]
    }
   ],
   "source": [
    "print(cat_data['ip_address'].value_counts().head())\n",
    "print('\\n')\n",
    "print(cat_data['ip_address'].mode())#4 ip_address qui ont fait max d'achats = 20 chacun"
   ]
  },
  {
   "cell_type": "code",
   "execution_count": 118,
   "metadata": {},
   "outputs": [
    {
     "name": "stdout",
     "output_type": "stream",
     "text": [
      "SEO       0.401126\n",
      "Ads       0.396269\n",
      "Direct    0.202605\n",
      "Name: source, dtype: float64\n",
      "\n",
      "\n",
      "0    SEO\n",
      "Name: source, dtype: object\n"
     ]
    }
   ],
   "source": [
    "print(cat_data['source'].value_counts(normalize=True))\n",
    "print('\\n')\n",
    "print(cat_data['source'].mode())#On récupére la modalité la plus fréquente: SEO"
   ]
  },
  {
   "cell_type": "code",
   "execution_count": 119,
   "metadata": {},
   "outputs": [
    {
     "name": "stdout",
     "output_type": "stream",
     "text": [
      "Chrome     0.406533\n",
      "IE         0.243045\n",
      "Safari     0.163237\n",
      "FireFox    0.162859\n",
      "Opera      0.024326\n",
      "Name: browser, dtype: float64\n",
      "\n",
      "\n",
      "0    Chrome\n",
      "Name: browser, dtype: object\n"
     ]
    }
   ],
   "source": [
    "print(cat_data['browser'].value_counts(normalize=True))\n",
    "print('\\n')\n",
    "print(cat_data['browser'].mode())#On récupére la modalité la plus fréquente: Chrome"
   ]
  },
  {
   "cell_type": "code",
   "execution_count": 120,
   "metadata": {},
   "outputs": [
    {
     "name": "stdout",
     "output_type": "stream",
     "text": [
      "M    0.584288\n",
      "F    0.415712\n",
      "Name: sex, dtype: float64\n",
      "\n",
      "\n",
      "0    M\n",
      "Name: sex, dtype: object\n"
     ]
    }
   ],
   "source": [
    "print(cat_data['sex'].value_counts(normalize=True))\n",
    "print('\\n')\n",
    "print(cat_data['sex'].mode())#On récupére la modalité la plus fréquente :homme"
   ]
  },
  {
   "cell_type": "code",
   "execution_count": 121,
   "metadata": {},
   "outputs": [
    {
     "name": "stdout",
     "output_type": "stream",
     "text": [
      "07    0.038905\n",
      "02    0.038025\n",
      "12    0.037985\n",
      "08    0.037707\n",
      "01    0.037370\n",
      "10    0.037237\n",
      "06    0.037151\n",
      "11    0.037151\n",
      "03    0.036767\n",
      "05    0.036655\n",
      "04    0.036628\n",
      "09    0.036311\n",
      "13    0.033889\n",
      "17    0.033816\n",
      "14    0.033108\n",
      "16    0.033075\n",
      "15    0.032810\n",
      "18    0.029773\n",
      "25    0.029342\n",
      "19    0.029323\n",
      "23    0.029104\n",
      "21    0.029012\n",
      "27    0.028899\n",
      "24    0.028754\n",
      "26    0.028701\n",
      "20    0.028628\n",
      "22    0.028608\n",
      "28    0.028581\n",
      "29    0.024935\n",
      "30    0.024697\n",
      "31    0.017054\n",
      "Name: signup_day, dtype: float64\n",
      "\n",
      "\n",
      "0    07\n",
      "Name: signup_day, dtype: object\n"
     ]
    }
   ],
   "source": [
    "print(cat_data['signup_day'].value_counts(normalize=True))\n",
    "print('\\n')\n",
    "print(cat_data['signup_day'].mode())#On récupére la modalité la plus fréquente :day 07"
   ]
  },
  {
   "cell_type": "code",
   "execution_count": 122,
   "metadata": {},
   "outputs": [
    {
     "name": "stdout",
     "output_type": "stream",
     "text": [
      "07    0.035987\n",
      "11    0.035861\n",
      "06    0.035854\n",
      "04    0.035417\n",
      "08    0.035384\n",
      "02    0.035331\n",
      "12    0.035245\n",
      "05    0.034895\n",
      "10    0.034881\n",
      "09    0.034696\n",
      "03    0.034597\n",
      "01    0.034577\n",
      "13    0.032248\n",
      "20    0.032175\n",
      "26    0.031970\n",
      "19    0.031798\n",
      "28    0.031685\n",
      "18    0.031678\n",
      "22    0.031533\n",
      "23    0.031394\n",
      "15    0.031387\n",
      "21    0.031281\n",
      "17    0.031215\n",
      "27    0.031215\n",
      "14    0.031209\n",
      "25    0.030865\n",
      "16    0.030772\n",
      "24    0.030381\n",
      "29    0.029071\n",
      "30    0.028131\n",
      "31    0.017265\n",
      "Name: purchase_day, dtype: float64\n",
      "\n",
      "\n",
      "0    07\n",
      "Name: purchase_day, dtype: object\n"
     ]
    }
   ],
   "source": [
    "print(cat_data['purchase_day'].value_counts(normalize=True))\n",
    "print('\\n')\n",
    "print(cat_data['purchase_day'].mode())#On récupére la modalité la plus fréquente :day 07"
   ]
  },
  {
   "cell_type": "markdown",
   "metadata": {},
   "source": [
    "On affiche des histogrammes pour mieux comprendre la distribution des données. Pour bien voir les résultats on les separe en 3 parties."
   ]
  },
  {
   "cell_type": "code",
   "execution_count": 128,
   "metadata": {},
   "outputs": [
    {
     "data": {
      "image/png": "[encoded data removed]",
      "text/plain": [
       "<Figure size 1440x720 with 6 Axes>"
      ]
     },
     "metadata": {
      "needs_background": "light"
     },
     "output_type": "display_data"
    }
   ],
   "source": [
    "fig, axes = plt.subplots(2, 3, figsize=(20, 10))\n",
    "\n",
    "axes[0][0].hist(df['is_fraud'], color='b', bins=20)\n",
    "axes[0][0].set_title('Distribution de `is_fraud`')\n",
    "axes[0][1].hist(df['source'], color='r', bins=20)\n",
    "axes[0][1].set_title('Distribution de `source`')\n",
    "axes[0][2].hist(df['browser'], color='g', bins=20)\n",
    "axes[0][2].set_title('Distribution de `browser`')\n",
    "\n",
    "axes[1][0].hist(df['sex'], color='y', bins=20)\n",
    "axes[1][0].set_title('Distribution de `sex`')\n",
    "axes[1][1].hist(df['signup_day'], color='m', bins=20)\n",
    "axes[1][1].set_title('Distribution de `signup_day`')\n",
    "axes[1][2].hist(df['purchase_day'], color='c', bins=20)\n",
    "axes[1][2].set_title('Distribution de `purchase_day`')\n",
    "\n",
    "plt.show()"
   ]
  },
  {
   "cell_type": "code",
   "execution_count": 27,
   "metadata": {},
   "outputs": [
    {
     "name": "stdout",
     "output_type": "stream",
     "text": [
      "device_id\n",
      "CQTUVBYIWWWBC    19\n",
      "EQYVNEGOFLAWK    19\n",
      "ITUMJCKWEYNDD    19\n",
      "KIPFSCNUGOLDP    19\n",
      "NGQCKIADMZORL    19\n",
      "                 ..\n",
      "ZZHQSPRTPEPHI     1\n",
      "ZZJGHWLIVVIIS     1\n",
      "ZZMFOPGWVVSHV     1\n",
      "ZZQBRNNATFEIW     1\n",
      "ZZUBRTQITHWAO     1\n",
      "Name: device_id, Length: 6987, dtype: int64\n"
     ]
    },
    {
     "data": {
      "image/png": "[encoded data removed]",
      "text/plain": [
       "<Figure size 432x288 with 1 Axes>"
      ]
     },
     "metadata": {
      "needs_background": "light"
     },
     "output_type": "display_data"
    }
   ],
   "source": [
    "max_fraud_id = df.groupby('is_fraud').device_id.value_counts()[1, :]#combien frauds par ID\n",
    "print(max_fraud_id)\n",
    "\n",
    "#On les affiche pour mieux voir la distribution\n",
    "plt.hist(max_fraud_id, color='b', bins=20)\n",
    "plt.ylabel('Amount_of_id')\n",
    "plt.xlabel('Numbers_of_fraud');"
   ]
  },
  {
   "cell_type": "markdown",
   "metadata": {},
   "source": [
    "Pour mieux visualiser, on affiche à partir de 3 frauds:"
   ]
  },
  {
   "cell_type": "code",
   "execution_count": 18,
   "metadata": {},
   "outputs": [
    {
     "data": {
      "image/png": "[encoded data removed]",
      "text/plain": [
       "<Figure size 432x288 with 1 Axes>"
      ]
     },
     "metadata": {
      "needs_background": "light"
     },
     "output_type": "display_data"
    }
   ],
   "source": [
    "max_fraud_id_more3 = []\n",
    "for i in max_fraud_id:\n",
    "    if i >= 3:\n",
    "        max_fraud_id_more3.append(i)\n",
    "\n",
    "plt.hist(max_fraud_id_more3, color='b', bins=20)\n",
    "plt.ylabel('Amount_of_id')\n",
    "plt.xlabel('Numbers_of_fraud');"
   ]
  },
  {
   "cell_type": "code",
   "execution_count": 31,
   "metadata": {},
   "outputs": [
    {
     "name": "stdout",
     "output_type": "stream",
     "text": [
      "ip_address\n",
      "3.484934e+08    19\n",
      "5.760609e+08    19\n",
      "1.502818e+09    19\n",
      "2.050964e+09    19\n",
      "3.874758e+09    19\n",
      "                ..\n",
      "4.290932e+09     1\n",
      "4.292392e+09     1\n",
      "4.292424e+09     1\n",
      "4.293762e+09     1\n",
      "4.294131e+09     1\n",
      "Name: ip_address, Length: 7277, dtype: int64\n"
     ]
    },
    {
     "data": {
      "image/png": "[encoded data removed]",
      "text/plain": [
       "<Figure size 432x288 with 1 Axes>"
      ]
     },
     "metadata": {
      "needs_background": "light"
     },
     "output_type": "display_data"
    }
   ],
   "source": [
    "max_fraud_ip = df.groupby('is_fraud').ip_address.value_counts()[1, :]#combien frauds par ip_address\n",
    "print(max_fraud_ip)\n",
    "\n",
    "#On les affiche pour mieux voir la distribution\n",
    "plt.hist(max_fraud_ip, color='b', bins=20)\n",
    "plt.ylabel('Amount_of_ip')\n",
    "plt.xlabel('Numbers_of_fraud');"
   ]
  },
  {
   "cell_type": "code",
   "execution_count": 33,
   "metadata": {},
   "outputs": [
    {
     "data": {
      "image/png": "[encoded data removed]",
      "text/plain": [
       "<Figure size 432x288 with 1 Axes>"
      ]
     },
     "metadata": {
      "needs_background": "light"
     },
     "output_type": "display_data"
    }
   ],
   "source": [
    "#Pour mieux visualiser, on affiche à partir de 3 frauds\n",
    "max_fraud_ip_more3 = []\n",
    "for i in max_fraud_ip:\n",
    "    if i >= 3:\n",
    "        max_fraud_ip_more3.append(i)\n",
    "\n",
    "plt.hist(max_fraud_ip_more3, color='b', bins=20)\n",
    "plt.ylabel('Amount_of_ip')\n",
    "plt.xlabel('Numbers_of_fraud');"
   ]
  },
  {
   "cell_type": "markdown",
   "metadata": {},
   "source": [
    "Pour nos variables qualitatives on va utiliser la table de contingence. On appelle une table de contingence, la table croisée contenant les différentes catégories des deux variables en question. Pour afficher une table de contingence, on utilise la fonction crosstab avec les deux variables en argument. Cette table de contingence permet de visualiser comment se distribuent les catégories de la variable 1 au sein de la variable 2. Pour des variables totalement indépendantes, la distribution doit être proportionnelle entre chaque ligne et entre chaque colonne."
   ]
  },
  {
   "cell_type": "code",
   "execution_count": 76,
   "metadata": {},
   "outputs": [
    {
     "name": "stdout",
     "output_type": "stream",
     "text": [
      "is_fraud       0   1\n",
      "device_id           \n",
      "AAALBGNHHVMKG  1   0\n",
      "AAAWIHVCQELTP  1   0\n",
      "AAAXJHWCLISKY  1   0\n",
      "AAAXXOZJRZRAO  1  10\n",
      "AABFGRPBQHWFQ  1   0\n",
      "...           ..  ..\n",
      "ZZZGSIJRNCXBJ  1   0\n",
      "ZZZIKLJSVSQMF  1   0\n",
      "ZZZKJIZHJEDFN  1   0\n",
      "ZZZMVOGBAJVTM  1   0\n",
      "ZZZXASJUVUNMV  1   0\n",
      "\n",
      "[137956 rows x 2 columns]\n",
      "\n",
      "\n",
      "is_fraud      0  1\n",
      "ip_address        \n",
      "5.209350e+04  1  0\n",
      "9.344714e+04  1  0\n",
      "1.058185e+05  1  0\n",
      "1.175667e+05  1  0\n",
      "1.314238e+05  1  0\n",
      "...          .. ..\n",
      "4.294674e+09  1  0\n",
      "4.294715e+09  1  0\n",
      "4.294720e+09  1  0\n",
      "4.294822e+09  1  0\n",
      "4.294850e+09  1  0\n",
      "\n",
      "[143511 rows x 2 columns]\n",
      "\n",
      "\n",
      "is_fraud      0     1\n",
      "source               \n",
      "Ads       54368  5513\n",
      "Direct    27390  3226\n",
      "SEO       55203  5412\n",
      "\n",
      "\n",
      "is_fraud      0     1\n",
      "browser              \n",
      "Chrome    55363  6069\n",
      "FireFox   22268  2342\n",
      "IE        33540  3187\n",
      "Opera      3348   328\n",
      "Safari    22442  2225\n",
      "\n",
      "\n",
      "is_fraud      0     1\n",
      "sex                  \n",
      "F         57102  5717\n",
      "M         79859  8434\n",
      "\n",
      "\n",
      "is_fraud       0    1\n",
      "signup_day           \n",
      "01          4841  806\n",
      "02          4783  963\n",
      "03          4768  788\n",
      "04          4699  836\n",
      "05          4742  797\n",
      "06          4763  851\n",
      "07          4892  987\n",
      "08          4825  873\n",
      "09          4715  772\n",
      "10          4791  836\n",
      "11          4717  897\n",
      "12          4851  889\n",
      "13          4794  327\n",
      "14          4768  235\n",
      "15          4732  226\n",
      "16          4774  224\n",
      "17          4856  254\n",
      "18          4304  195\n",
      "19          4222  209\n",
      "20          4133  193\n",
      "21          4181  203\n",
      "22          4134  189\n",
      "23          4182  216\n",
      "24          4156  189\n",
      "25          4247  187\n",
      "26          4151  186\n",
      "27          4171  196\n",
      "28          4133  186\n",
      "29          3625  143\n",
      "30          3533  199\n",
      "31          2478   99\n",
      "\n",
      "\n",
      "is_fraud         0    1\n",
      "purchase_day           \n",
      "01            4436  789\n",
      "02            4419  920\n",
      "03            4455  773\n",
      "04            4540  812\n",
      "05            4525  748\n",
      "06            4578  840\n",
      "07            4446  992\n",
      "08            4524  823\n",
      "09            4490  753\n",
      "10            4442  829\n",
      "11            4545  874\n",
      "12            4419  907\n",
      "13            4556  317\n",
      "14            4484  232\n",
      "15            4520  223\n",
      "16            4449  201\n",
      "17            4485  232\n",
      "18            4589  198\n",
      "19            4603  202\n",
      "20            4624  238\n",
      "21            4510  217\n",
      "22            4533  232\n",
      "23            4542  202\n",
      "24            4372  219\n",
      "25            4465  199\n",
      "26            4611  220\n",
      "27            4518  199\n",
      "28            4570  218\n",
      "29            4164  229\n",
      "30            4064  187\n",
      "31            2483  126\n"
     ]
    }
   ],
   "source": [
    "print(pd.crosstab(df['device_id'],df['is_fraud']))\n",
    "print('\\n')\n",
    "print(pd.crosstab(df['ip_address'],df['is_fraud']))\n",
    "print('\\n')\n",
    "\n",
    "print(pd.crosstab(df['source'],df['is_fraud']))\n",
    "print('\\n')\n",
    "print(pd.crosstab(df['browser'],df['is_fraud']))\n",
    "print('\\n')\n",
    "print(pd.crosstab(df['sex'],df['is_fraud']))\n",
    "print('\\n')\n",
    "print(pd.crosstab(df['signup_day'],df['is_fraud']))\n",
    "print('\\n')\n",
    "print(pd.crosstab(df['purchase_day'],df['is_fraud']))\n"
   ]
  },
  {
   "cell_type": "markdown",
   "metadata": {},
   "source": [
    "Le test qu'on effectue alors est un test du  χ2  par table de contingence.\n",
    "Pour chaque case d'un tableau, il effectue un test du  χ2 (test de proportions) entre l'effectif de la case et l'effectif total de la colonne.\n",
    "La statistique de test est alors obtenue en faisant la somme de toutes ces statistiques.\n",
    "\n",
    "Pour ce test, on pose comme les hypothèses nulles :\n",
    "1.\"les variables device_id et is_fraud sont indépendantes\" \n",
    "2.\"les variables ip_address et is_fraud sont indépendantes\"\n",
    "3.\"les variables source et state is_fraud indépendantes\" \n",
    "4.\"les variables browser et state is_fraud indépendantes\" \n",
    "5.\"les variables sex et state is_fraud indépendantes\" \n",
    "6.\"les variables signup_day et is_fraud sont indépendantes\"\n",
    "7.\"les variables purchase_day et is_fraud sont indépendantes\" \n",
    "\n",
    "Ce test peut s'effectuer tout simplement grâce à la fonction chi2_contingency de scipy appliquée à la table de contingence.\n",
    "Elle renvoie un array de 4 éléments : la statistique du test, la p-value, le degré de liberté et la liste des fréquences attendues. Pour rejeter l'hypothèse nulle, il est nécessaire que la p-value soit inférieure à 5%."
   ]
  },
  {
   "cell_type": "code",
   "execution_count": 93,
   "metadata": {},
   "outputs": [
    {
     "name": "stdout",
     "output_type": "stream",
     "text": [
      "131422.8 1.0 137955\n"
     ]
    }
   ],
   "source": [
    "#L'hypothèse nulle №1\n",
    "table1=pd.crosstab(df['device_id'],df['is_fraud'])\n",
    "resultats_test = chi2_contingency(table1)\n",
    "statistique = resultats_test[0]\n",
    "p_valeur = resultats_test[1]\n",
    "degre_liberte = resultats_test[2]\n",
    "\n",
    "print(statistique.round(1), p_valeur,degre_liberte)\n",
    "\n",
    "# p-value < 5% donc on rejette H0"
   ]
  },
  {
   "cell_type": "code",
   "execution_count": 94,
   "metadata": {
    "scrolled": true
   },
   "outputs": [
    {
     "name": "stdout",
     "output_type": "stream",
     "text": [
      "143413.2 0.5712286437051614 143510\n"
     ]
    }
   ],
   "source": [
    "#L'hypothèse nulle №2\n",
    "table2=pd.crosstab(df['ip_address'],df['is_fraud'])\n",
    "resultats_test = chi2_contingency(table2)\n",
    "statistique = resultats_test[0]\n",
    "p_valeur = resultats_test[1]\n",
    "degre_liberte = resultats_test[2]\n",
    "\n",
    "print(statistique.round(1), p_valeur,degre_liberte)\n",
    "\n",
    "# p-value < 5% donc on rejette H0"
   ]
  },
  {
   "cell_type": "code",
   "execution_count": 103,
   "metadata": {},
   "outputs": [
    {
     "name": "stdout",
     "output_type": "stream",
     "text": [
      "64.9 7.981990836440143e-15 2\n"
     ]
    }
   ],
   "source": [
    "#L'hypothèse nulle №3\n",
    "table3=pd.crosstab(df['source'],df['is_fraud'])\n",
    "resultats_test = chi2_contingency(table3)\n",
    "statistique = resultats_test[0]\n",
    "p_valeur = resultats_test[1]\n",
    "degre_liberte = resultats_test[2]\n",
    "\n",
    "print(statistique.round(1), p_valeur,degre_liberte)\n",
    "\n",
    "# p-value > 5% donc on accepte H0"
   ]
  },
  {
   "cell_type": "code",
   "execution_count": 104,
   "metadata": {},
   "outputs": [
    {
     "name": "stdout",
     "output_type": "stream",
     "text": [
      "44.6 4.916028350364759e-09 4\n"
     ]
    }
   ],
   "source": [
    "#L'hypothèse nulle №4\n",
    "table4=pd.crosstab(df['browser'],df['is_fraud'])\n",
    "resultats_test = chi2_contingency(table4)\n",
    "statistique = resultats_test[0]\n",
    "p_valeur = resultats_test[1]\n",
    "degre_liberte = resultats_test[2]\n",
    "\n",
    "print(statistique.round(1), p_valeur,degre_liberte)\n",
    "\n",
    "# p-value presque 5% donc on rejette H0"
   ]
  },
  {
   "cell_type": "code",
   "execution_count": 105,
   "metadata": {},
   "outputs": [
    {
     "name": "stdout",
     "output_type": "stream",
     "text": [
      "8.8 0.003072654263243465 1\n"
     ]
    }
   ],
   "source": [
    "#L'hypothèse nulle №5\n",
    "table5=pd.crosstab(df['sex'],df['is_fraud'])\n",
    "resultats_test = chi2_contingency(table5)\n",
    "statistique = resultats_test[0]\n",
    "p_valeur = resultats_test[1]\n",
    "degre_liberte = resultats_test[2]\n",
    "\n",
    "print(statistique.round(1), p_valeur,degre_liberte)\n",
    "\n",
    "# p-value < 5% donc on rejette H0"
   ]
  },
  {
   "cell_type": "code",
   "execution_count": 106,
   "metadata": {},
   "outputs": [
    {
     "name": "stdout",
     "output_type": "stream",
     "text": [
      "5031.5 0.0 30\n"
     ]
    }
   ],
   "source": [
    "#L'hypothèse nulle №6\n",
    "table6=pd.crosstab(df['signup_day'],df['is_fraud'])\n",
    "resultats_test = chi2_contingency(table6)\n",
    "statistique = resultats_test[0]\n",
    "p_valeur = resultats_test[1]\n",
    "degre_liberte = resultats_test[2]\n",
    "\n",
    "print(statistique.round(1), p_valeur,degre_liberte)\n",
    "\n",
    "# p-value < 5% donc on rejette H0"
   ]
  },
  {
   "cell_type": "code",
   "execution_count": 107,
   "metadata": {},
   "outputs": [
    {
     "name": "stdout",
     "output_type": "stream",
     "text": [
      "5446.1 0.0 30\n"
     ]
    }
   ],
   "source": [
    "#L'hypothèse nulle №7\n",
    "table7=pd.crosstab(df['purchase_day'],df['is_fraud'])\n",
    "resultats_test = chi2_contingency(table7)\n",
    "statistique = resultats_test[0]\n",
    "p_valeur = resultats_test[1]\n",
    "degre_liberte = resultats_test[2]\n",
    "\n",
    "print(statistique.round(1), p_valeur,degre_liberte)\n",
    "\n",
    "# p-value < 5% donc on rejette H0"
   ]
  },
  {
   "cell_type": "markdown",
   "metadata": {},
   "source": [
    "Comme pour les variables quantitatives, on peut mesurer le niveau de corrélation entre deux variables qualitatives. Pour cela, on utilise le V de Cramer corrigé pour contrer le biais qui utilise les résultats du test du  χ2. Il renvoie une valeur entre 0 et 1."
   ]
  },
  {
   "cell_type": "code",
   "execution_count": 95,
   "metadata": {},
   "outputs": [
    {
     "data": {
      "text/plain": [
       "0.0"
      ]
     },
     "execution_count": 95,
     "metadata": {},
     "output_type": "execute_result"
    }
   ],
   "source": [
    "def V_Cramer(table1, N):\n",
    "    stat_chi2 = chi2_contingency(table1)[0]\n",
    "    k = table1.shape[0]\n",
    "    r = table1.shape[1]\n",
    "    phi = max(0,(stat_chi2/N)-((k-1)*(r-1)/(N-1)))\n",
    "    k_corr = k - (np.square(k-1)/(N-1))\n",
    "    r_corr = r - (np.square(r-1)/(N-1))\n",
    "    return np.sqrt(phi/min(k_corr - 1,r_corr - 1))\n",
    "\n",
    "V_Cramer(table1, df.shape[0])\n",
    "#Le V_Cramer est 0.Il n'y a pas une corrélation entre les deux variables."
   ]
  },
  {
   "cell_type": "code",
   "execution_count": 97,
   "metadata": {},
   "outputs": [
    {
     "data": {
      "text/plain": [
       "0.0"
      ]
     },
     "execution_count": 97,
     "metadata": {},
     "output_type": "execute_result"
    }
   ],
   "source": [
    "def V_Cramer(table2, N):\n",
    "    stat_chi2 = chi2_contingency(table2)[0]\n",
    "    k = table2.shape[0]\n",
    "    r = table2.shape[1]\n",
    "    phi = max(0,(stat_chi2/N)-((k-1)*(r-1)/(N-1)))\n",
    "    k_corr = k - (np.square(k-1)/(N-1))\n",
    "    r_corr = r - (np.square(r-1)/(N-1))\n",
    "    return np.sqrt(phi/min(k_corr - 1,r_corr - 1))\n",
    "\n",
    "V_Cramer(table2, df.shape[0])\n",
    "#Le V_Cramer est 0.Il n'y a pas une corrélation entre les deux variables."
   ]
  },
  {
   "cell_type": "code",
   "execution_count": 108,
   "metadata": {},
   "outputs": [
    {
     "data": {
      "text/plain": [
       "0.020405969624040766"
      ]
     },
     "execution_count": 108,
     "metadata": {},
     "output_type": "execute_result"
    }
   ],
   "source": [
    "def V_Cramer(table3, N):\n",
    "    stat_chi2 = chi2_contingency(table3)[0]\n",
    "    k = table3.shape[0]\n",
    "    r = table3.shape[1]\n",
    "    phi = max(0,(stat_chi2/N)-((k-1)*(r-1)/(N-1)))\n",
    "    k_corr = k - (np.square(k-1)/(N-1))\n",
    "    r_corr = r - (np.square(r-1)/(N-1))\n",
    "    return np.sqrt(phi/min(k_corr - 1,r_corr - 1))\n",
    "\n",
    "V_Cramer(table3, df.shape[0])\n",
    "#Le V_Cramer n'est pas très élevé.\n",
    "#On en déduit qu'il n'y a pas une forte corrélation entre les deux variables."
   ]
  },
  {
   "cell_type": "code",
   "execution_count": 109,
   "metadata": {},
   "outputs": [
    {
     "data": {
      "text/plain": [
       "0.016382585261164186"
      ]
     },
     "execution_count": 109,
     "metadata": {},
     "output_type": "execute_result"
    }
   ],
   "source": [
    "def V_Cramer(table4, N):\n",
    "    stat_chi2 = chi2_contingency(table4)[0]\n",
    "    k = table4.shape[0]\n",
    "    r = table4.shape[1]\n",
    "    phi = max(0,(stat_chi2/N)-((k-1)*(r-1)/(N-1)))\n",
    "    k_corr = k - (np.square(k-1)/(N-1))\n",
    "    r_corr = r - (np.square(r-1)/(N-1))\n",
    "    return np.sqrt(phi/min(k_corr - 1,r_corr - 1))\n",
    "\n",
    "V_Cramer(table4, df.shape[0])\n",
    "#Le V_Cramer n'est pas très élevé.\n",
    "#On en déduit qu'il n'y a pas une forte corrélation entre les deux variables."
   ]
  },
  {
   "cell_type": "code",
   "execution_count": 110,
   "metadata": {},
   "outputs": [
    {
     "data": {
      "text/plain": [
       "0.007167858133544223"
      ]
     },
     "execution_count": 110,
     "metadata": {},
     "output_type": "execute_result"
    }
   ],
   "source": [
    "def V_Cramer(table5, N):\n",
    "    stat_chi2 = chi2_contingency(table5)[0]\n",
    "    k = table5.shape[0]\n",
    "    r = table5.shape[1]\n",
    "    phi = max(0,(stat_chi2/N)-((k-1)*(r-1)/(N-1)))\n",
    "    k_corr = k - (np.square(k-1)/(N-1))\n",
    "    r_corr = r - (np.square(r-1)/(N-1))\n",
    "    return np.sqrt(phi/min(k_corr - 1,r_corr - 1))\n",
    "\n",
    "V_Cramer(table5, df.shape[0])\n",
    "#Le V_Cramer n'est pas très élevé.\n",
    "#On en déduit qu'il n'y a pas une forte corrélation entre les deux variables."
   ]
  },
  {
   "cell_type": "code",
   "execution_count": 112,
   "metadata": {},
   "outputs": [
    {
     "data": {
      "text/plain": [
       "0.18192984899342954"
      ]
     },
     "execution_count": 112,
     "metadata": {},
     "output_type": "execute_result"
    }
   ],
   "source": [
    "def V_Cramer(table6, N):\n",
    "    stat_chi2 = chi2_contingency(table6)[0]\n",
    "    k = table6.shape[0]\n",
    "    r = table6.shape[1]\n",
    "    phi = max(0,(stat_chi2/N)-((k-1)*(r-1)/(N-1)))\n",
    "    k_corr = k - (np.square(k-1)/(N-1))\n",
    "    r_corr = r - (np.square(r-1)/(N-1))\n",
    "    return np.sqrt(phi/min(k_corr - 1,r_corr - 1))\n",
    "\n",
    "V_Cramer(table6, df.shape[0])\n",
    "#Le V_Cramer n'est pas très élevé.\n",
    "#On en déduit qu'il n'y a pas une forte corrélation entre les deux variables mais qu'elle n'est pas non plus négligeable."
   ]
  },
  {
   "cell_type": "code",
   "execution_count": 113,
   "metadata": {},
   "outputs": [
    {
     "data": {
      "text/plain": [
       "0.18931890046383054"
      ]
     },
     "execution_count": 113,
     "metadata": {},
     "output_type": "execute_result"
    }
   ],
   "source": [
    "def V_Cramer(table7, N):\n",
    "    stat_chi2 = chi2_contingency(table7)[0]\n",
    "    k = table7.shape[0]\n",
    "    r = table7.shape[1]\n",
    "    phi = max(0,(stat_chi2/N)-((k-1)*(r-1)/(N-1)))\n",
    "    k_corr = k - (np.square(k-1)/(N-1))\n",
    "    r_corr = r - (np.square(r-1)/(N-1))\n",
    "    return np.sqrt(phi/min(k_corr - 1,r_corr - 1))\n",
    "\n",
    "V_Cramer(table7, df.shape[0])\n",
    "#Le V_Cramer n'est pas très élevé.\n",
    "#On en déduit qu'il n'y a pas une forte corrélation entre les deux variables mais qu'elle n'est pas non plus négligeable."
   ]
  },
  {
   "cell_type": "markdown",
   "metadata": {},
   "source": [
    "<span style=\"color:green\"> **4. Modelisation**</span> "
   ]
  },
  {
   "cell_type": "markdown",
   "metadata": {},
   "source": [
    "On peut constater que notre variable cible 'is_fraud' est déséquilibrée, on va utiliser oversampling pour resoudre ce problème. Il y a plusiers methods de suréchantillonnage, l'analyse de nos donées nous dirige vers une méthode SMOTE.\n",
    "\n",
    "Le SMOTE, acronyme pour Synthetic Minority Oversampling TEchnique, est une méthode de suréchantillonnage des observations minoritaires. Pour éviter de réaliser un simple clonage des minoritaires, le SMOTE se base sur un principe simple : générer de nouveaux minoritaires qui ressemblent aux autres, sans être strictement identiques. Cela permet de densifier de façon plus homogène nos donées minoritaires.\n",
    "\n",
    "C’est sur ces données transformées, que l’on va ensuite entraîner un modèle de Machine Learning.\n",
    "\n"
   ]
  },
  {
   "cell_type": "code",
   "execution_count": null,
   "metadata": {},
   "outputs": [],
   "source": [
    "from collections import Counter\n",
    "from imblearn.over_sampling import SMOTE\n",
    "\n",
    "\n",
    "#On sépare les variables explicatives de df dans un Dataframe X et la variable cible dans une Series y.\n",
    "X = df.drop([\"is_fraud\"], axis = 1)\n",
    "y = df['is_fraud']\n",
    "\n",
    "\n",
    "# summarize our class distribution\n",
    "counter = Counter(y)\n",
    "print(counter)\n",
    "\n",
    "# transform the dataset ------------> une erreur\n",
    "#oversample = SMOTE()\n",
    "#X, y = oversample.fit_resample(X, y)\n",
    "\n",
    "# summarize the new class distribution\n",
    "counter = Counter(y)\n",
    "print(counter)\n",
    "\n",
    "#plot \n",
    "\n",
    "plt.hist(y);"
   ]
  },
  {
   "cell_type": "code",
   "execution_count": null,
   "metadata": {},
   "outputs": [],
   "source": []
  }
 ],
 "metadata": {
  "kernelspec": {
   "display_name": "Python 3 (ipykernel)",
   "language": "python",
   "name": "python3"
  },
  "language_info": {
   "codemirror_mode": {
    "name": "ipython",
    "version": 3
   },
   "file_extension": ".py",
   "mimetype": "text/x-python",
   "name": "python",
   "nbconvert_exporter": "python",
   "pygments_lexer": "ipython3",
   "version": "3.9.12"
  }
 },
 "nbformat": 4,
 "nbformat_minor": 2
}
