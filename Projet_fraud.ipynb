{
 "cells": [
  {
   "cell_type": "markdown",
   "metadata": {},
   "source": [
    "\n",
    "**<h1><span style=\"color:red\"><u>Fraud</u></span></h1>**\n",
    "**Réalisé par : Toullec Nastassia, Marie Stéphanie et Abdelaziz Sayad**"
   ]
  },
  {
   "cell_type": "markdown",
   "metadata": {},
   "source": [
    "### <span style=\"color:yellow\"> 0. Importation des librairies</span> "
   ]
  },
  {
   "cell_type": "code",
   "execution_count": 2,
   "metadata": {},
   "outputs": [],
   "source": [
    "import pandas as pd\n",
    "import numpy as np\n",
    "import seaborn as sns\n",
    "import matplotlib.pyplot as plt\n",
    "from scipy.stats import chi2_contingency \n",
    "import warnings\n",
    "from scipy.stats import pearsonr\n",
    "from sklearn import preprocessing\n",
    "from sklearn.model_selection import train_test_split\n",
    "from sklearn.metrics import confusion_matrix, accuracy_score, classification_report\n",
    "from collections import Counter\n",
    "from sklearn.preprocessing import StandardScaler\n",
    "from sklearn.ensemble import GradientBoostingClassifier\n",
    "from imblearn.under_sampling import NearMiss\n",
    "from imblearn.over_sampling import SMOTE\n",
    "from sklearn.tree import DecisionTreeClassifier\n",
    "from sklearn.neighbors import KNeighborsClassifier\n",
    "from sklearn.linear_model import LogisticRegression\n",
    "from sklearn.svm import SVC\n",
    "from sklearn.ensemble import RandomForestClassifier\n",
    "from sklearn import metrics\n",
    "import statsmodels.api\n",
    "warnings.filterwarnings('ignore')\n",
    "%matplotlib inline"
   ]
  },
  {
   "cell_type": "markdown",
   "metadata": {},
   "source": [
    "## <span style=\"color:red\"> I. Audit des données</span> "
   ]
  },
  {
   "cell_type": "markdown",
   "metadata": {},
   "source": [
    "Le jeu de données que nous allons utiliser, recense diverses caractéristiques d'utilisateurs et leur transactions.\n",
    "Le but de notre audit est de predire si une transaction est fraudeuse.\n",
    "\n",
    "Le dataset comporte <strong>11 colonnes</strong>, pour environ <strong>151113 lignes</strong>.\n",
    "Les variables sont les suivantes :\n",
    "\n",
    "- <strong>user_id</strong>\tidentifiant d'utilisateur\n",
    "- <strong>signup_time</strong>\theure de connexion\n",
    "- <strong>purchase_time</strong>\theure d'achat\n",
    "- <strong>purchase_value</strong>\tmontant de la transaction\n",
    "- <strong>device_id</strong>\tidentifiant du moyen de connexion\n",
    "- <strong>source</strong>\tmoyen d'accés au site\n",
    "- <strong>browser</strong>\tnavigateur utilisé\n",
    "- <strong>sex</strong>\tsexe\n",
    "- <strong>age</strong>\tage\n",
    "- <strong>ip_adress</strong>\tadresse IP de l'utilisateur\n",
    "- <strong>is_fraud</strong>\tvariable cible: identifiant de la fraud\n",
    "\n",
    "Le jeu de données qui nous intéresse ici contient dix variables explicatives.\n",
    "La variable expliquée est <strong>is_fraud</strong> soit 0 non frauduleux et des 1 pour frauduleux . \n",
    "La problématique est la clasification avec apprentissage supervisé."
   ]
  },
  {
   "cell_type": "markdown",
   "metadata": {},
   "source": [
    "### <span style=\"color:blue\"> **A. Exploration un jeu de données**</span> "
   ]
  },
  {
   "cell_type": "markdown",
   "metadata": {},
   "source": [
    "<span style=\"color:green\"> **1. Chargement des données**</span> "
   ]
  },
  {
   "cell_type": "markdown",
   "metadata": {},
   "source": [
    "Nous chargeons les données et affichons les premières lignes."
   ]
  },
  {
   "cell_type": "code",
   "execution_count": 3,
   "metadata": {},
   "outputs": [
    {
     "data": {
      "text/html": [
       "<div>\n",
       "<style scoped>\n",
       "    .dataframe tbody tr th:only-of-type {\n",
       "        vertical-align: middle;\n",
       "    }\n",
       "\n",
       "    .dataframe tbody tr th {\n",
       "        vertical-align: top;\n",
       "    }\n",
       "\n",
       "    .dataframe thead th {\n",
       "        text-align: right;\n",
       "    }\n",
       "</style>\n",
       "<table border=\"1\" class=\"dataframe\">\n",
       "  <thead>\n",
       "    <tr style=\"text-align: right;\">\n",
       "      <th></th>\n",
       "      <th>user_id</th>\n",
       "      <th>signup_time</th>\n",
       "      <th>purchase_time</th>\n",
       "      <th>purchase_value</th>\n",
       "      <th>device_id</th>\n",
       "      <th>source</th>\n",
       "      <th>browser</th>\n",
       "      <th>sex</th>\n",
       "      <th>age</th>\n",
       "      <th>ip_address</th>\n",
       "      <th>is_fraud</th>\n",
       "    </tr>\n",
       "  </thead>\n",
       "  <tbody>\n",
       "    <tr>\n",
       "      <th>0</th>\n",
       "      <td>22058</td>\n",
       "      <td>2015-02-24 22:55:49</td>\n",
       "      <td>2015-04-18 2:47:11</td>\n",
       "      <td>34</td>\n",
       "      <td>QVPSPJUOCKZAR</td>\n",
       "      <td>SEO</td>\n",
       "      <td>Chrome</td>\n",
       "      <td>M</td>\n",
       "      <td>39</td>\n",
       "      <td>7.327584e+08</td>\n",
       "      <td>0</td>\n",
       "    </tr>\n",
       "    <tr>\n",
       "      <th>1</th>\n",
       "      <td>333320</td>\n",
       "      <td>2015-06-07 20:39:50</td>\n",
       "      <td>2015-06-08 1:38:54</td>\n",
       "      <td>16</td>\n",
       "      <td>EOGFQPIZPYXFZ</td>\n",
       "      <td>Ads</td>\n",
       "      <td>Chrome</td>\n",
       "      <td>F</td>\n",
       "      <td>53</td>\n",
       "      <td>3.503114e+08</td>\n",
       "      <td>0</td>\n",
       "    </tr>\n",
       "    <tr>\n",
       "      <th>2</th>\n",
       "      <td>1359</td>\n",
       "      <td>2015-01-01 18:52:44</td>\n",
       "      <td>2015-01-01 18:52:45</td>\n",
       "      <td>15</td>\n",
       "      <td>YSSKYOSJHPPLJ</td>\n",
       "      <td>SEO</td>\n",
       "      <td>Opera</td>\n",
       "      <td>M</td>\n",
       "      <td>53</td>\n",
       "      <td>2.621474e+09</td>\n",
       "      <td>1</td>\n",
       "    </tr>\n",
       "    <tr>\n",
       "      <th>3</th>\n",
       "      <td>150084</td>\n",
       "      <td>2015-04-28 21:13:25</td>\n",
       "      <td>2015-05-04 13:54:50</td>\n",
       "      <td>44</td>\n",
       "      <td>ATGTXKYKUDUQN</td>\n",
       "      <td>SEO</td>\n",
       "      <td>Safari</td>\n",
       "      <td>M</td>\n",
       "      <td>41</td>\n",
       "      <td>3.840542e+09</td>\n",
       "      <td>0</td>\n",
       "    </tr>\n",
       "    <tr>\n",
       "      <th>4</th>\n",
       "      <td>221365</td>\n",
       "      <td>2015-07-21 7:09:52</td>\n",
       "      <td>2015-09-09 18:40:53</td>\n",
       "      <td>39</td>\n",
       "      <td>NAUITBZFJKHWW</td>\n",
       "      <td>Ads</td>\n",
       "      <td>Safari</td>\n",
       "      <td>M</td>\n",
       "      <td>45</td>\n",
       "      <td>4.155831e+08</td>\n",
       "      <td>0</td>\n",
       "    </tr>\n",
       "    <tr>\n",
       "      <th>5</th>\n",
       "      <td>159135</td>\n",
       "      <td>2015-05-21 6:03:03</td>\n",
       "      <td>2015-07-09 8:05:14</td>\n",
       "      <td>42</td>\n",
       "      <td>ALEYXFXINSXLZ</td>\n",
       "      <td>Ads</td>\n",
       "      <td>Chrome</td>\n",
       "      <td>M</td>\n",
       "      <td>18</td>\n",
       "      <td>2.809315e+09</td>\n",
       "      <td>0</td>\n",
       "    </tr>\n",
       "    <tr>\n",
       "      <th>6</th>\n",
       "      <td>50116</td>\n",
       "      <td>2015-08-01 22:40:52</td>\n",
       "      <td>2015-08-27 3:37:57</td>\n",
       "      <td>11</td>\n",
       "      <td>IWKVZHJOCLPUR</td>\n",
       "      <td>Ads</td>\n",
       "      <td>Chrome</td>\n",
       "      <td>F</td>\n",
       "      <td>19</td>\n",
       "      <td>3.987484e+09</td>\n",
       "      <td>0</td>\n",
       "    </tr>\n",
       "    <tr>\n",
       "      <th>7</th>\n",
       "      <td>360585</td>\n",
       "      <td>2015-04-06 7:35:45</td>\n",
       "      <td>2015-05-25 17:21:14</td>\n",
       "      <td>27</td>\n",
       "      <td>HPUCUYLMJBYFW</td>\n",
       "      <td>Ads</td>\n",
       "      <td>Opera</td>\n",
       "      <td>M</td>\n",
       "      <td>34</td>\n",
       "      <td>1.692459e+09</td>\n",
       "      <td>0</td>\n",
       "    </tr>\n",
       "    <tr>\n",
       "      <th>8</th>\n",
       "      <td>159045</td>\n",
       "      <td>2015-04-21 23:38:34</td>\n",
       "      <td>2015-06-02 14:01:54</td>\n",
       "      <td>30</td>\n",
       "      <td>ILXYDOZIHOOHT</td>\n",
       "      <td>SEO</td>\n",
       "      <td>IE</td>\n",
       "      <td>F</td>\n",
       "      <td>43</td>\n",
       "      <td>3.719094e+09</td>\n",
       "      <td>0</td>\n",
       "    </tr>\n",
       "    <tr>\n",
       "      <th>9</th>\n",
       "      <td>182338</td>\n",
       "      <td>2015-01-25 17:49:49</td>\n",
       "      <td>2015-03-23 23:05:42</td>\n",
       "      <td>62</td>\n",
       "      <td>NRFFPPHZYFUVC</td>\n",
       "      <td>Ads</td>\n",
       "      <td>IE</td>\n",
       "      <td>M</td>\n",
       "      <td>31</td>\n",
       "      <td>3.416747e+08</td>\n",
       "      <td>0</td>\n",
       "    </tr>\n",
       "  </tbody>\n",
       "</table>\n",
       "</div>"
      ],
      "text/plain": [
       "   user_id          signup_time        purchase_time  purchase_value  \\\n",
       "0    22058  2015-02-24 22:55:49   2015-04-18 2:47:11              34   \n",
       "1   333320  2015-06-07 20:39:50   2015-06-08 1:38:54              16   \n",
       "2     1359  2015-01-01 18:52:44  2015-01-01 18:52:45              15   \n",
       "3   150084  2015-04-28 21:13:25  2015-05-04 13:54:50              44   \n",
       "4   221365   2015-07-21 7:09:52  2015-09-09 18:40:53              39   \n",
       "5   159135   2015-05-21 6:03:03   2015-07-09 8:05:14              42   \n",
       "6    50116  2015-08-01 22:40:52   2015-08-27 3:37:57              11   \n",
       "7   360585   2015-04-06 7:35:45  2015-05-25 17:21:14              27   \n",
       "8   159045  2015-04-21 23:38:34  2015-06-02 14:01:54              30   \n",
       "9   182338  2015-01-25 17:49:49  2015-03-23 23:05:42              62   \n",
       "\n",
       "       device_id source browser sex  age    ip_address  is_fraud  \n",
       "0  QVPSPJUOCKZAR    SEO  Chrome   M   39  7.327584e+08         0  \n",
       "1  EOGFQPIZPYXFZ    Ads  Chrome   F   53  3.503114e+08         0  \n",
       "2  YSSKYOSJHPPLJ    SEO   Opera   M   53  2.621474e+09         1  \n",
       "3  ATGTXKYKUDUQN    SEO  Safari   M   41  3.840542e+09         0  \n",
       "4  NAUITBZFJKHWW    Ads  Safari   M   45  4.155831e+08         0  \n",
       "5  ALEYXFXINSXLZ    Ads  Chrome   M   18  2.809315e+09         0  \n",
       "6  IWKVZHJOCLPUR    Ads  Chrome   F   19  3.987484e+09         0  \n",
       "7  HPUCUYLMJBYFW    Ads   Opera   M   34  1.692459e+09         0  \n",
       "8  ILXYDOZIHOOHT    SEO      IE   F   43  3.719094e+09         0  \n",
       "9  NRFFPPHZYFUVC    Ads      IE   M   31  3.416747e+08         0  "
      ]
     },
     "execution_count": 3,
     "metadata": {},
     "output_type": "execute_result"
    }
   ],
   "source": [
    "df = pd.read_csv(filepath_or_buffer = 'fraud.csv',\n",
    "                           sep = ',',\n",
    "                           header = 0)\n",
    "df.head(10)                    "
   ]
  },
  {
   "cell_type": "markdown",
   "metadata": {},
   "source": [
    "<span style=\"color:green\"> **2. Nettoyage du jeu de données**</span> "
   ]
  },
  {
   "cell_type": "markdown",
   "metadata": {},
   "source": [
    "<strong>Nous recréons les variables temporelles pour analyser la temporalité des données.</strong>"
   ]
  },
  {
   "cell_type": "markdown",
   "metadata": {},
   "source": [
    "1/ Les variables signup_time et purchase_time, sont divisées chacune par date et heure, nous permettant de créer 4 variables supplémentaires :\n",
    "<ul>\n",
    "    <li>signup_day</li>\n",
    "    <li>signup_time</li>\n",
    "    <li>purchase_day</li>\n",
    "    <li>purshase_time</li>\n",
    "</ul>"
   ]
  },
  {
   "cell_type": "code",
   "execution_count": 4,
   "metadata": {},
   "outputs": [
    {
     "data": {
      "text/html": [
       "<div>\n",
       "<style scoped>\n",
       "    .dataframe tbody tr th:only-of-type {\n",
       "        vertical-align: middle;\n",
       "    }\n",
       "\n",
       "    .dataframe tbody tr th {\n",
       "        vertical-align: top;\n",
       "    }\n",
       "\n",
       "    .dataframe thead th {\n",
       "        text-align: right;\n",
       "    }\n",
       "</style>\n",
       "<table border=\"1\" class=\"dataframe\">\n",
       "  <thead>\n",
       "    <tr style=\"text-align: right;\">\n",
       "      <th></th>\n",
       "      <th>user_id</th>\n",
       "      <th>signup_time</th>\n",
       "      <th>purchase_time</th>\n",
       "      <th>purchase_value</th>\n",
       "      <th>device_id</th>\n",
       "      <th>source</th>\n",
       "      <th>browser</th>\n",
       "      <th>sex</th>\n",
       "      <th>age</th>\n",
       "      <th>ip_address</th>\n",
       "      <th>is_fraud</th>\n",
       "      <th>signup_day</th>\n",
       "      <th>purchase_day</th>\n",
       "    </tr>\n",
       "  </thead>\n",
       "  <tbody>\n",
       "    <tr>\n",
       "      <th>0</th>\n",
       "      <td>22058</td>\n",
       "      <td>22:55:49</td>\n",
       "      <td>2:47:11</td>\n",
       "      <td>34</td>\n",
       "      <td>QVPSPJUOCKZAR</td>\n",
       "      <td>SEO</td>\n",
       "      <td>Chrome</td>\n",
       "      <td>M</td>\n",
       "      <td>39</td>\n",
       "      <td>7.327584e+08</td>\n",
       "      <td>0</td>\n",
       "      <td>2015-02-24</td>\n",
       "      <td>2015-04-18</td>\n",
       "    </tr>\n",
       "    <tr>\n",
       "      <th>1</th>\n",
       "      <td>333320</td>\n",
       "      <td>20:39:50</td>\n",
       "      <td>1:38:54</td>\n",
       "      <td>16</td>\n",
       "      <td>EOGFQPIZPYXFZ</td>\n",
       "      <td>Ads</td>\n",
       "      <td>Chrome</td>\n",
       "      <td>F</td>\n",
       "      <td>53</td>\n",
       "      <td>3.503114e+08</td>\n",
       "      <td>0</td>\n",
       "      <td>2015-06-07</td>\n",
       "      <td>2015-06-08</td>\n",
       "    </tr>\n",
       "    <tr>\n",
       "      <th>2</th>\n",
       "      <td>1359</td>\n",
       "      <td>18:52:44</td>\n",
       "      <td>18:52:45</td>\n",
       "      <td>15</td>\n",
       "      <td>YSSKYOSJHPPLJ</td>\n",
       "      <td>SEO</td>\n",
       "      <td>Opera</td>\n",
       "      <td>M</td>\n",
       "      <td>53</td>\n",
       "      <td>2.621474e+09</td>\n",
       "      <td>1</td>\n",
       "      <td>2015-01-01</td>\n",
       "      <td>2015-01-01</td>\n",
       "    </tr>\n",
       "    <tr>\n",
       "      <th>3</th>\n",
       "      <td>150084</td>\n",
       "      <td>21:13:25</td>\n",
       "      <td>13:54:50</td>\n",
       "      <td>44</td>\n",
       "      <td>ATGTXKYKUDUQN</td>\n",
       "      <td>SEO</td>\n",
       "      <td>Safari</td>\n",
       "      <td>M</td>\n",
       "      <td>41</td>\n",
       "      <td>3.840542e+09</td>\n",
       "      <td>0</td>\n",
       "      <td>2015-04-28</td>\n",
       "      <td>2015-05-04</td>\n",
       "    </tr>\n",
       "    <tr>\n",
       "      <th>4</th>\n",
       "      <td>221365</td>\n",
       "      <td>7:09:52</td>\n",
       "      <td>18:40:53</td>\n",
       "      <td>39</td>\n",
       "      <td>NAUITBZFJKHWW</td>\n",
       "      <td>Ads</td>\n",
       "      <td>Safari</td>\n",
       "      <td>M</td>\n",
       "      <td>45</td>\n",
       "      <td>4.155831e+08</td>\n",
       "      <td>0</td>\n",
       "      <td>2015-07-21</td>\n",
       "      <td>2015-09-09</td>\n",
       "    </tr>\n",
       "  </tbody>\n",
       "</table>\n",
       "</div>"
      ],
      "text/plain": [
       "   user_id signup_time purchase_time  purchase_value      device_id source  \\\n",
       "0    22058    22:55:49       2:47:11              34  QVPSPJUOCKZAR    SEO   \n",
       "1   333320    20:39:50       1:38:54              16  EOGFQPIZPYXFZ    Ads   \n",
       "2     1359    18:52:44      18:52:45              15  YSSKYOSJHPPLJ    SEO   \n",
       "3   150084    21:13:25      13:54:50              44  ATGTXKYKUDUQN    SEO   \n",
       "4   221365     7:09:52      18:40:53              39  NAUITBZFJKHWW    Ads   \n",
       "\n",
       "  browser sex  age    ip_address  is_fraud  signup_day purchase_day  \n",
       "0  Chrome   M   39  7.327584e+08         0  2015-02-24   2015-04-18  \n",
       "1  Chrome   F   53  3.503114e+08         0  2015-06-07   2015-06-08  \n",
       "2   Opera   M   53  2.621474e+09         1  2015-01-01   2015-01-01  \n",
       "3  Safari   M   41  3.840542e+09         0  2015-04-28   2015-05-04  \n",
       "4  Safari   M   45  4.155831e+08         0  2015-07-21   2015-09-09  "
      ]
     },
     "execution_count": 4,
     "metadata": {},
     "output_type": "execute_result"
    }
   ],
   "source": [
    "#Les variables signup_time et purchase_time se composent des dates avec les heures, \n",
    "#pour mieux visualiser ces donnés on va les séparer\n",
    "df['signup_day'] = df['signup_time'].apply(lambda time: time.split( )[0])\n",
    "df['signup_time'] = df['signup_time'].apply(lambda time: time.split( )[1])\n",
    "df['purchase_day'] = df['purchase_time'].apply(lambda time: time.split( )[0])\n",
    "df['purchase_time'] = df['purchase_time'].apply(lambda time: time.split( )[1]) \n",
    "\n",
    "df.head()"
   ]
  },
  {
   "cell_type": "markdown",
   "metadata": {},
   "source": [
    "2/ puis nous divisons chacune des variables signup_day et purchase_day en 3 variables distinctes.\n",
    "Ainsi la date de connexion se compose de :\n",
    "<ul>\n",
    "    <li>signup_day</li>\n",
    "    <li>signup_month</li>\n",
    "    <li>signup_year</li>\n",
    "</ul> \n",
    "\n",
    "Pour la date d'achat : \n",
    "\n",
    "<ul>\n",
    "    <li>purchase_day</li>\n",
    "    <li>purchase_month</li>\n",
    "    <li>purchase_year</li>\n",
    "</ul> \n",
    "\n",
    "Cette ventilation nous permettra d'analyser et détecter les tendances des transactions dans le temps."
   ]
  },
  {
   "cell_type": "code",
   "execution_count": 5,
   "metadata": {},
   "outputs": [
    {
     "data": {
      "text/html": [
       "<div>\n",
       "<style scoped>\n",
       "    .dataframe tbody tr th:only-of-type {\n",
       "        vertical-align: middle;\n",
       "    }\n",
       "\n",
       "    .dataframe tbody tr th {\n",
       "        vertical-align: top;\n",
       "    }\n",
       "\n",
       "    .dataframe thead th {\n",
       "        text-align: right;\n",
       "    }\n",
       "</style>\n",
       "<table border=\"1\" class=\"dataframe\">\n",
       "  <thead>\n",
       "    <tr style=\"text-align: right;\">\n",
       "      <th></th>\n",
       "      <th>user_id</th>\n",
       "      <th>signup_time</th>\n",
       "      <th>purchase_time</th>\n",
       "      <th>purchase_value</th>\n",
       "      <th>device_id</th>\n",
       "      <th>source</th>\n",
       "      <th>browser</th>\n",
       "      <th>sex</th>\n",
       "      <th>age</th>\n",
       "      <th>ip_address</th>\n",
       "      <th>is_fraud</th>\n",
       "      <th>signup_day</th>\n",
       "      <th>purchase_day</th>\n",
       "      <th>signup_year</th>\n",
       "      <th>signup_month</th>\n",
       "      <th>purchase_year</th>\n",
       "      <th>purchase_month</th>\n",
       "    </tr>\n",
       "  </thead>\n",
       "  <tbody>\n",
       "    <tr>\n",
       "      <th>0</th>\n",
       "      <td>22058</td>\n",
       "      <td>22:55:49</td>\n",
       "      <td>2:47:11</td>\n",
       "      <td>34</td>\n",
       "      <td>QVPSPJUOCKZAR</td>\n",
       "      <td>SEO</td>\n",
       "      <td>Chrome</td>\n",
       "      <td>M</td>\n",
       "      <td>39</td>\n",
       "      <td>7.327584e+08</td>\n",
       "      <td>0</td>\n",
       "      <td>24</td>\n",
       "      <td>18</td>\n",
       "      <td>2015</td>\n",
       "      <td>02</td>\n",
       "      <td>2015</td>\n",
       "      <td>04</td>\n",
       "    </tr>\n",
       "    <tr>\n",
       "      <th>1</th>\n",
       "      <td>333320</td>\n",
       "      <td>20:39:50</td>\n",
       "      <td>1:38:54</td>\n",
       "      <td>16</td>\n",
       "      <td>EOGFQPIZPYXFZ</td>\n",
       "      <td>Ads</td>\n",
       "      <td>Chrome</td>\n",
       "      <td>F</td>\n",
       "      <td>53</td>\n",
       "      <td>3.503114e+08</td>\n",
       "      <td>0</td>\n",
       "      <td>07</td>\n",
       "      <td>08</td>\n",
       "      <td>2015</td>\n",
       "      <td>06</td>\n",
       "      <td>2015</td>\n",
       "      <td>06</td>\n",
       "    </tr>\n",
       "    <tr>\n",
       "      <th>2</th>\n",
       "      <td>1359</td>\n",
       "      <td>18:52:44</td>\n",
       "      <td>18:52:45</td>\n",
       "      <td>15</td>\n",
       "      <td>YSSKYOSJHPPLJ</td>\n",
       "      <td>SEO</td>\n",
       "      <td>Opera</td>\n",
       "      <td>M</td>\n",
       "      <td>53</td>\n",
       "      <td>2.621474e+09</td>\n",
       "      <td>1</td>\n",
       "      <td>01</td>\n",
       "      <td>01</td>\n",
       "      <td>2015</td>\n",
       "      <td>01</td>\n",
       "      <td>2015</td>\n",
       "      <td>01</td>\n",
       "    </tr>\n",
       "    <tr>\n",
       "      <th>3</th>\n",
       "      <td>150084</td>\n",
       "      <td>21:13:25</td>\n",
       "      <td>13:54:50</td>\n",
       "      <td>44</td>\n",
       "      <td>ATGTXKYKUDUQN</td>\n",
       "      <td>SEO</td>\n",
       "      <td>Safari</td>\n",
       "      <td>M</td>\n",
       "      <td>41</td>\n",
       "      <td>3.840542e+09</td>\n",
       "      <td>0</td>\n",
       "      <td>28</td>\n",
       "      <td>04</td>\n",
       "      <td>2015</td>\n",
       "      <td>04</td>\n",
       "      <td>2015</td>\n",
       "      <td>05</td>\n",
       "    </tr>\n",
       "    <tr>\n",
       "      <th>4</th>\n",
       "      <td>221365</td>\n",
       "      <td>7:09:52</td>\n",
       "      <td>18:40:53</td>\n",
       "      <td>39</td>\n",
       "      <td>NAUITBZFJKHWW</td>\n",
       "      <td>Ads</td>\n",
       "      <td>Safari</td>\n",
       "      <td>M</td>\n",
       "      <td>45</td>\n",
       "      <td>4.155831e+08</td>\n",
       "      <td>0</td>\n",
       "      <td>21</td>\n",
       "      <td>09</td>\n",
       "      <td>2015</td>\n",
       "      <td>07</td>\n",
       "      <td>2015</td>\n",
       "      <td>09</td>\n",
       "    </tr>\n",
       "  </tbody>\n",
       "</table>\n",
       "</div>"
      ],
      "text/plain": [
       "   user_id signup_time purchase_time  purchase_value      device_id source  \\\n",
       "0    22058    22:55:49       2:47:11              34  QVPSPJUOCKZAR    SEO   \n",
       "1   333320    20:39:50       1:38:54              16  EOGFQPIZPYXFZ    Ads   \n",
       "2     1359    18:52:44      18:52:45              15  YSSKYOSJHPPLJ    SEO   \n",
       "3   150084    21:13:25      13:54:50              44  ATGTXKYKUDUQN    SEO   \n",
       "4   221365     7:09:52      18:40:53              39  NAUITBZFJKHWW    Ads   \n",
       "\n",
       "  browser sex  age    ip_address  is_fraud signup_day purchase_day  \\\n",
       "0  Chrome   M   39  7.327584e+08         0         24           18   \n",
       "1  Chrome   F   53  3.503114e+08         0         07           08   \n",
       "2   Opera   M   53  2.621474e+09         1         01           01   \n",
       "3  Safari   M   41  3.840542e+09         0         28           04   \n",
       "4  Safari   M   45  4.155831e+08         0         21           09   \n",
       "\n",
       "  signup_year signup_month purchase_year purchase_month  \n",
       "0        2015           02          2015             04  \n",
       "1        2015           06          2015             06  \n",
       "2        2015           01          2015             01  \n",
       "3        2015           04          2015             05  \n",
       "4        2015           07          2015             09  "
      ]
     },
     "execution_count": 5,
     "metadata": {},
     "output_type": "execute_result"
    }
   ],
   "source": [
    "df['signup_year'] = df['signup_day'].apply(lambda date: date.split('-')[0])\n",
    "df['signup_month'] = df['signup_day'].apply(lambda date: date.split('-')[1])\n",
    "df['signup_day'] = df['signup_day'].apply(lambda date: date.split('-')[2])\n",
    "\n",
    "\n",
    "df['purchase_year'] = df['purchase_day'].apply(lambda date: date.split('-')[0])\n",
    "df['purchase_month'] = df['purchase_day'].apply(lambda date: date.split('-')[1])\n",
    "df['purchase_day'] = df['purchase_day'].apply(lambda date: date.split('-')[2])\n",
    "\n",
    "df.head()"
   ]
  },
  {
   "cell_type": "markdown",
   "metadata": {},
   "source": [
    "Nous mettons les variables dans l'ordre pour une meilleure lecture."
   ]
  },
  {
   "cell_type": "code",
   "execution_count": 6,
   "metadata": {},
   "outputs": [
    {
     "data": {
      "text/html": [
       "<div>\n",
       "<style scoped>\n",
       "    .dataframe tbody tr th:only-of-type {\n",
       "        vertical-align: middle;\n",
       "    }\n",
       "\n",
       "    .dataframe tbody tr th {\n",
       "        vertical-align: top;\n",
       "    }\n",
       "\n",
       "    .dataframe thead th {\n",
       "        text-align: right;\n",
       "    }\n",
       "</style>\n",
       "<table border=\"1\" class=\"dataframe\">\n",
       "  <thead>\n",
       "    <tr style=\"text-align: right;\">\n",
       "      <th></th>\n",
       "      <th>user_id</th>\n",
       "      <th>signup_time</th>\n",
       "      <th>signup_day</th>\n",
       "      <th>signup_month</th>\n",
       "      <th>signup_year</th>\n",
       "      <th>purchase_time</th>\n",
       "      <th>purchase_day</th>\n",
       "      <th>purchase_month</th>\n",
       "      <th>purchase_year</th>\n",
       "      <th>purchase_value</th>\n",
       "      <th>device_id</th>\n",
       "      <th>source</th>\n",
       "      <th>browser</th>\n",
       "      <th>sex</th>\n",
       "      <th>age</th>\n",
       "      <th>ip_address</th>\n",
       "      <th>is_fraud</th>\n",
       "    </tr>\n",
       "  </thead>\n",
       "  <tbody>\n",
       "    <tr>\n",
       "      <th>0</th>\n",
       "      <td>22058</td>\n",
       "      <td>22:55:49</td>\n",
       "      <td>24</td>\n",
       "      <td>02</td>\n",
       "      <td>2015</td>\n",
       "      <td>2:47:11</td>\n",
       "      <td>18</td>\n",
       "      <td>04</td>\n",
       "      <td>2015</td>\n",
       "      <td>34</td>\n",
       "      <td>QVPSPJUOCKZAR</td>\n",
       "      <td>SEO</td>\n",
       "      <td>Chrome</td>\n",
       "      <td>M</td>\n",
       "      <td>39</td>\n",
       "      <td>7.327584e+08</td>\n",
       "      <td>0</td>\n",
       "    </tr>\n",
       "    <tr>\n",
       "      <th>1</th>\n",
       "      <td>333320</td>\n",
       "      <td>20:39:50</td>\n",
       "      <td>07</td>\n",
       "      <td>06</td>\n",
       "      <td>2015</td>\n",
       "      <td>1:38:54</td>\n",
       "      <td>08</td>\n",
       "      <td>06</td>\n",
       "      <td>2015</td>\n",
       "      <td>16</td>\n",
       "      <td>EOGFQPIZPYXFZ</td>\n",
       "      <td>Ads</td>\n",
       "      <td>Chrome</td>\n",
       "      <td>F</td>\n",
       "      <td>53</td>\n",
       "      <td>3.503114e+08</td>\n",
       "      <td>0</td>\n",
       "    </tr>\n",
       "    <tr>\n",
       "      <th>2</th>\n",
       "      <td>1359</td>\n",
       "      <td>18:52:44</td>\n",
       "      <td>01</td>\n",
       "      <td>01</td>\n",
       "      <td>2015</td>\n",
       "      <td>18:52:45</td>\n",
       "      <td>01</td>\n",
       "      <td>01</td>\n",
       "      <td>2015</td>\n",
       "      <td>15</td>\n",
       "      <td>YSSKYOSJHPPLJ</td>\n",
       "      <td>SEO</td>\n",
       "      <td>Opera</td>\n",
       "      <td>M</td>\n",
       "      <td>53</td>\n",
       "      <td>2.621474e+09</td>\n",
       "      <td>1</td>\n",
       "    </tr>\n",
       "    <tr>\n",
       "      <th>3</th>\n",
       "      <td>150084</td>\n",
       "      <td>21:13:25</td>\n",
       "      <td>28</td>\n",
       "      <td>04</td>\n",
       "      <td>2015</td>\n",
       "      <td>13:54:50</td>\n",
       "      <td>04</td>\n",
       "      <td>05</td>\n",
       "      <td>2015</td>\n",
       "      <td>44</td>\n",
       "      <td>ATGTXKYKUDUQN</td>\n",
       "      <td>SEO</td>\n",
       "      <td>Safari</td>\n",
       "      <td>M</td>\n",
       "      <td>41</td>\n",
       "      <td>3.840542e+09</td>\n",
       "      <td>0</td>\n",
       "    </tr>\n",
       "    <tr>\n",
       "      <th>4</th>\n",
       "      <td>221365</td>\n",
       "      <td>7:09:52</td>\n",
       "      <td>21</td>\n",
       "      <td>07</td>\n",
       "      <td>2015</td>\n",
       "      <td>18:40:53</td>\n",
       "      <td>09</td>\n",
       "      <td>09</td>\n",
       "      <td>2015</td>\n",
       "      <td>39</td>\n",
       "      <td>NAUITBZFJKHWW</td>\n",
       "      <td>Ads</td>\n",
       "      <td>Safari</td>\n",
       "      <td>M</td>\n",
       "      <td>45</td>\n",
       "      <td>4.155831e+08</td>\n",
       "      <td>0</td>\n",
       "    </tr>\n",
       "  </tbody>\n",
       "</table>\n",
       "</div>"
      ],
      "text/plain": [
       "   user_id signup_time signup_day signup_month signup_year purchase_time  \\\n",
       "0    22058    22:55:49         24           02        2015       2:47:11   \n",
       "1   333320    20:39:50         07           06        2015       1:38:54   \n",
       "2     1359    18:52:44         01           01        2015      18:52:45   \n",
       "3   150084    21:13:25         28           04        2015      13:54:50   \n",
       "4   221365     7:09:52         21           07        2015      18:40:53   \n",
       "\n",
       "  purchase_day purchase_month purchase_year  purchase_value      device_id  \\\n",
       "0           18             04          2015              34  QVPSPJUOCKZAR   \n",
       "1           08             06          2015              16  EOGFQPIZPYXFZ   \n",
       "2           01             01          2015              15  YSSKYOSJHPPLJ   \n",
       "3           04             05          2015              44  ATGTXKYKUDUQN   \n",
       "4           09             09          2015              39  NAUITBZFJKHWW   \n",
       "\n",
       "  source browser sex  age    ip_address  is_fraud  \n",
       "0    SEO  Chrome   M   39  7.327584e+08         0  \n",
       "1    Ads  Chrome   F   53  3.503114e+08         0  \n",
       "2    SEO   Opera   M   53  2.621474e+09         1  \n",
       "3    SEO  Safari   M   41  3.840542e+09         0  \n",
       "4    Ads  Safari   M   45  4.155831e+08         0  "
      ]
     },
     "execution_count": 6,
     "metadata": {},
     "output_type": "execute_result"
    }
   ],
   "source": [
    "df = df[['user_id','signup_time','signup_day', 'signup_month', 'signup_year',\n",
    "        'purchase_time','purchase_day', 'purchase_month', 'purchase_year','purchase_value',\n",
    "        'device_id','source','browser','sex', 'age','ip_address','is_fraud']]\n",
    "\n",
    "\n",
    "df.head()"
   ]
  },
  {
   "cell_type": "markdown",
   "metadata": {},
   "source": [
    "<strong>Nous vérifions les valeurs éventuellement manquantes.</strong>"
   ]
  },
  {
   "cell_type": "code",
   "execution_count": null,
   "metadata": {},
   "outputs": [],
   "source": [
    "df.isna().sum() #affichez les valeurs manquantes\n",
    "#Il n'y a pas de valeurs manquantes"
   ]
  },
  {
   "cell_type": "markdown",
   "metadata": {},
   "source": [
    "Le jeu de données de contient pas de valeurs manquantes"
   ]
  },
  {
   "cell_type": "markdown",
   "metadata": {},
   "source": [
    "<strong>Nous vérifions les doublons</strong>"
   ]
  },
  {
   "cell_type": "code",
   "execution_count": null,
   "metadata": {},
   "outputs": [],
   "source": [
    "print('Lignes de transactions dupliquées:',df.duplicated().sum())\n",
    "\n",
    "print('Doublons sur les user id:',df['user_id'].duplicated().sum())\n",
    "print('Doublons sur les adresse ip:' ,df['ip_address'].duplicated().sum())\n",
    "print('Doublons sur les device id:',df['device_id'].duplicated().sum())"
   ]
  },
  {
   "cell_type": "markdown",
   "metadata": {},
   "source": [
    "Il n y a pas de globalement de doublons sur les lignes de transactions, nous noterons l'existence de doublons sur les adresses ip et les devices id, malgré l'absence de doublons sur les user id. Nous pourrons analyser ces données ultérieurement."
   ]
  },
  {
   "cell_type": "markdown",
   "metadata": {},
   "source": [
    "<span style=\"color:green\"> **3. Analyse descriptive des données**</span> "
   ]
  },
  {
   "cell_type": "markdown",
   "metadata": {},
   "source": [
    "Le jeu de données se compose ainsi : "
   ]
  },
  {
   "cell_type": "code",
   "execution_count": null,
   "metadata": {
    "scrolled": false
   },
   "outputs": [],
   "source": [
    "df.info() "
   ]
  },
  {
   "cell_type": "markdown",
   "metadata": {},
   "source": [
    "<strong>Analyse descriptives des variables quantitatives</strong>"
   ]
  },
  {
   "cell_type": "markdown",
   "metadata": {},
   "source": [
    "Les données numériques sont globalement distribuées de la façon suivantes : "
   ]
  },
  {
   "cell_type": "code",
   "execution_count": null,
   "metadata": {
    "scrolled": true
   },
   "outputs": [],
   "source": [
    "df.describe() #la distribution des données"
   ]
  },
  {
   "cell_type": "markdown",
   "metadata": {},
   "source": [
    "Pour une analyse plus poussée, nous nous pencherons sur l'analyse descriptives des variables quantitatives <strong>age</strong> et <strong>purchase_value</strong>. Les variables user_id, ip_adresse étant des identifiants et is_fraud une variable binaire, n'entrent pas pour l'instant dans le scope d'analyse."
   ]
  },
  {
   "cell_type": "code",
   "execution_count": null,
   "metadata": {},
   "outputs": [],
   "source": [
    "print(df.duplicated().sum())\n",
    "\n",
    "num_data = df[['purchase_value','age']]\n",
    "\n",
    "stats = pd.DataFrame(num_data.median(), columns = ['mediane'])\n",
    "stats['moyenne'] = num_data.mean()\n",
    "\n",
    "stats['moyenne - ecart type'] = pd.DataFrame(num_data.mean() - num_data.std())\n",
    "\n",
    "stats['moyenne + ecart type'] = pd.DataFrame(num_data.mean() +  num_data.std())\n",
    "\n",
    "\n",
    "stats.round(2)"
   ]
  },
  {
   "cell_type": "code",
   "execution_count": null,
   "metadata": {},
   "outputs": [],
   "source": [
    "fig = plt.figure(figsize=(7,7));\n",
    "sns.displot(df['purchase_value'], bins=10, kde=True, rug=True, color='blue').set(title=\"Distribution de la valeur des transactions\");"
   ]
  },
  {
   "cell_type": "markdown",
   "metadata": {},
   "source": [
    "Tout comme le confirme les médiane/moyenne, nous constatons dans la distribution graphique que la valeur des transactions sont d'environ 30-40 €."
   ]
  },
  {
   "cell_type": "code",
   "execution_count": null,
   "metadata": {},
   "outputs": [],
   "source": [
    "fig = plt.figure(figsize=(7,7));\n",
    "sns.displot(df['age'], bins=10, kde=True, rug=True, color='red').set(title=\"Distribution de l'âge\");"
   ]
  },
  {
   "cell_type": "markdown",
   "metadata": {},
   "source": [
    "Pareil pour l'âge, il y a plus d'individus agés de 30-35 ans environ."
   ]
  },
  {
   "cell_type": "markdown",
   "metadata": {},
   "source": [
    "Statistiques valeurs d''achats avec/sans fraude: "
   ]
  },
  {
   "cell_type": "code",
   "execution_count": null,
   "metadata": {},
   "outputs": [],
   "source": [
    "#Une mesure de la dispersion des valeurs\n",
    "ecart_type_pv = num_data['purchase_value'].std()\n",
    "ecart_type_a = num_data['age'].std()\n",
    "\n",
    "print(ecart_type_pv, ecart_type_a)"
   ]
  },
  {
   "cell_type": "markdown",
   "metadata": {},
   "source": [
    "Statistiques valeurs d'achats avec/sans fraude: "
   ]
  },
  {
   "cell_type": "code",
   "execution_count": null,
   "metadata": {},
   "outputs": [],
   "source": [
    "purchase_value_by_fraud = df.groupby(['is_fraud']).agg({'purchase_value':['sum','mean','median','min','max']})\n",
    "\n",
    "purchase_value_by_fraud"
   ]
  },
  {
   "cell_type": "markdown",
   "metadata": {},
   "source": [
    "Statistiques sur l''âge des individus  avec/sans fraude:"
   ]
  },
  {
   "cell_type": "code",
   "execution_count": null,
   "metadata": {},
   "outputs": [],
   "source": [
    "age_by_fraud = df.groupby(['is_fraud']).agg({'age':['mean','median','min','max']})\n",
    "age_by_fraud"
   ]
  },
  {
   "cell_type": "markdown",
   "metadata": {},
   "source": [
    "La moyenne et la médiane des variables age et purchase_value sont très proches, les valeurs sont plutôt homogènes."
   ]
  },
  {
   "cell_type": "markdown",
   "metadata": {},
   "source": [
    "Pour analyser la dispersion des valeurs, nous avons déterminer l'intervalle (moyenne -/+ ecart type) dans lequel les valeurs sont au plus proche de la moyenne.\n",
    "\n",
    "Nous allons par ailleurs déterminer la proportions de valeurs présentes ou non dans cet intervalle."
   ]
  },
  {
   "cell_type": "code",
   "execution_count": null,
   "metadata": {},
   "outputs": [],
   "source": [
    "\n",
    "num_data['purchase_value_in'] = num_data['purchase_value'].between(stats['moyenne - ecart type'][0], stats['moyenne + ecart type'][0]).astype(int)\n",
    "print('Dispersion des achats\\n',num_data['purchase_value_in'].value_counts(normalize=True))\n",
    "\n",
    "outliers_purchase_value = num_data[num_data.purchase_value_in==0]\n",
    "\n",
    "print('Achat moyen et médian en dehos de l\\'intervalle:',outliers_purchase_value['purchase_value'].mean(), outliers_purchase_value['purchase_value'].median())\n",
    "\n",
    "num_data['age_in'] = num_data['age'].between(stats['moyenne - ecart type'][1], stats['moyenne + ecart type'][1]).astype(int)\n",
    "\n",
    "print('Dispersion des âges \\n',num_data['age_in'].value_counts(normalize=True))\n",
    "      \n",
    "outliers_age = num_data[num_data.age_in==0]\n",
    "\n",
    "print('age moyen et median en dehors de l\\'intervalle :', outliers_age['age'].mean(), outliers_age['age'].median())\n"
   ]
  },
  {
   "cell_type": "markdown",
   "metadata": {},
   "source": [
    "Nous constatons que près de 33-34 % des achats et d'individus selon leur age sont dispersés dans le jeu de données"
   ]
  },
  {
   "cell_type": "markdown",
   "metadata": {},
   "source": [
    "Les achats moyens des valeurs extrêmes sont plus elevées que la moyenne globale contrairement à la mediane des valeurs extrêmes qui est plus basse que la médiane globale."
   ]
  },
  {
   "cell_type": "markdown",
   "metadata": {},
   "source": [
    "<strong>Relation entre les variables quantitatives et la variable is_fraud</strong>"
   ]
  },
  {
   "cell_type": "code",
   "execution_count": null,
   "metadata": {
    "scrolled": true
   },
   "outputs": [],
   "source": [
    "#Une dernière étape consiste à étudier les relations entre variables quantitatives et qualitatives.\n",
    "\n",
    "df[['purchase_value','age']].corr()"
   ]
  },
  {
   "cell_type": "code",
   "execution_count": null,
   "metadata": {},
   "outputs": [],
   "source": [
    "cof,pvalue = pearsonr(df['purchase_value'], df['age'])\n",
    "\n",
    "print(pd.DataFrame(pearsonr(df['purchase_value'], df['age']), index=['pearson_coeff','p-value'], columns=['purchase_']))\n"
   ]
  },
  {
   "cell_type": "markdown",
   "metadata": {},
   "source": [
    "la p-value est > 5%, le coefficient est proche de null, il n y a pas de corrélation entre les variables age et purchase_value.\n",
    "Ces variables sont indépendantes."
   ]
  },
  {
   "cell_type": "code",
   "execution_count": null,
   "metadata": {
    "scrolled": true
   },
   "outputs": [],
   "source": [
    "result = statsmodels.formula.api.ols('age ~ is_fraud', data=df).fit()\n",
    "table = statsmodels.api.stats.anova_lm(result)\n",
    "\n",
    "table\n"
   ]
  },
  {
   "cell_type": "markdown",
   "metadata": {},
   "source": [
    "La p-value (PR(>F)) est inférieur à 5% donc on rejette l'hypothèse selon laquelle is_fraud n'influe pas sur l'age."
   ]
  },
  {
   "cell_type": "code",
   "execution_count": null,
   "metadata": {
    "scrolled": false
   },
   "outputs": [],
   "source": [
    "df_age =df.select_dtypes(include=['int64'])\n",
    "\n",
    "\n",
    "df_age['age_groups'] = pd.cut(df_age['age'], bins = 6)\n",
    "\n",
    "\n",
    "\n",
    "df_age = df_age.groupby(['age_groups','is_fraud']).agg({'user_id':'count'}).reset_index()\n",
    "\n",
    "#df_age.replace(to_replace= [{'0': 'non frauduleux','1': 'frauduleux'}])\n",
    "\n",
    "df_age['is_fraud'] = df_age['is_fraud'].apply(lambda x: 'frauduleux' if x==1 else 'non frauduleux')\n",
    "\n",
    "print(df_age)\n",
    "\n",
    "plt.figure(figsize = (12,8))\n",
    "sns.barplot(data = df_age, x = 'age_groups', y = 'user_id', hue = 'is_fraud')\n",
    "\n",
    "plt.ylabel('Total utilisateur')\n",
    "plt.show()\n",
    "\n"
   ]
  },
  {
   "cell_type": "markdown",
   "metadata": {},
   "source": [
    "Les fraudes proviennent principalement des transactions dont les individus sont agés de 27-37 ans."
   ]
  },
  {
   "cell_type": "code",
   "execution_count": null,
   "metadata": {},
   "outputs": [],
   "source": [
    "result = statsmodels.formula.api.ols('purchase_value ~ is_fraud', data=df).fit()\n",
    "table = statsmodels.api.stats.anova_lm(result)\n",
    "\n",
    "table"
   ]
  },
  {
   "cell_type": "markdown",
   "metadata": {},
   "source": [
    "la p-value (PR(>F)) est supérieur à 5% donc l'hypothèse selon laquelle is_fraud n'influe pas sur purchase_value est confirmée."
   ]
  },
  {
   "cell_type": "markdown",
   "metadata": {},
   "source": [
    "<strong>Analyse descriptives des variables qualitatives</strong>"
   ]
  },
  {
   "cell_type": "markdown",
   "metadata": {},
   "source": [
    "On détermine les variables catégorielles et on les stocke dans un tableau cat_data:"
   ]
  },
  {
   "cell_type": "code",
   "execution_count": null,
   "metadata": {},
   "outputs": [],
   "source": [
    "cat_data  = df.select_dtypes(include = 'O')\n",
    "cat_data['user_id'] = df['user_id']\n",
    "cat_data['ip_address'] = df['ip_address']\n",
    "cat_data['is_fraud'] = df['is_fraud']\n",
    "\n",
    "cat_data"
   ]
  },
  {
   "cell_type": "markdown",
   "metadata": {},
   "source": [
    "On regarde les modalités les plus fréquentes des variables qualitatives et comment se répartissent-elles:"
   ]
  },
  {
   "cell_type": "code",
   "execution_count": null,
   "metadata": {},
   "outputs": [],
   "source": [
    "print(cat_data['is_fraud'].value_counts())\n",
    "print('\\n')\n",
    "print(cat_data['is_fraud'].value_counts(normalize=True))\n",
    "#9,3 % transactions sont fraudeause"
   ]
  },
  {
   "cell_type": "code",
   "execution_count": null,
   "metadata": {
    "scrolled": false
   },
   "outputs": [],
   "source": [
    "print(cat_data['device_id'].value_counts().head())\n",
    "print('\\n')\n",
    "print(cat_data['device_id'].mode())#Nous avons 6 id qui ont fait max d'achats = 20 chacun"
   ]
  },
  {
   "cell_type": "code",
   "execution_count": null,
   "metadata": {},
   "outputs": [],
   "source": [
    "print(cat_data['ip_address'].value_counts().head())\n",
    "print('\\n')\n",
    "print(cat_data['ip_address'].mode())#4 ip_address qui ont fait max d'achats = 20 chacun"
   ]
  },
  {
   "cell_type": "code",
   "execution_count": null,
   "metadata": {},
   "outputs": [],
   "source": [
    "print(cat_data['source'].value_counts(normalize=True))\n",
    "print('\\n')\n",
    "print(cat_data['source'].mode())#On récupére la modalité la plus fréquente: SEO"
   ]
  },
  {
   "cell_type": "code",
   "execution_count": null,
   "metadata": {},
   "outputs": [],
   "source": [
    "print(cat_data['browser'].value_counts(normalize=True))\n",
    "print('\\n')\n",
    "print(cat_data['browser'].mode())#On récupére la modalité la plus fréquente: Chrome"
   ]
  },
  {
   "cell_type": "code",
   "execution_count": null,
   "metadata": {},
   "outputs": [],
   "source": [
    "print(cat_data['sex'].value_counts(normalize=True))\n",
    "print('\\n')\n",
    "print(cat_data['sex'].mode())#On récupére la modalité la plus fréquente :homme"
   ]
  },
  {
   "cell_type": "code",
   "execution_count": null,
   "metadata": {},
   "outputs": [],
   "source": [
    "print(cat_data['signup_day'].value_counts(normalize=True))\n",
    "print('\\n')\n",
    "print(cat_data['signup_day'].mode())#On récupére la modalité la plus fréquente :day 07"
   ]
  },
  {
   "cell_type": "code",
   "execution_count": null,
   "metadata": {},
   "outputs": [],
   "source": [
    "print(cat_data['purchase_day'].value_counts(normalize=True))\n",
    "print('\\n')\n",
    "print(cat_data['purchase_day'].mode())#On récupére la modalité la plus fréquente :day 07"
   ]
  },
  {
   "cell_type": "markdown",
   "metadata": {},
   "source": [
    "On affiche des histogrammes pour mieux comprendre la distribution des données. Pour bien voir les résultats on les separe en 3 parties."
   ]
  },
  {
   "cell_type": "code",
   "execution_count": null,
   "metadata": {},
   "outputs": [],
   "source": [
    "fig, axes = plt.subplots(2, 3, figsize=(20, 10))\n",
    "\n",
    "axes[0][0].hist(df['is_fraud'], color='b', bins=20)\n",
    "axes[0][0].set_title('Distribution de `is_fraud`')\n",
    "axes[0][1].hist(df['source'], color='r', bins=20)\n",
    "axes[0][1].set_title('Distribution de `source`')\n",
    "axes[0][2].hist(df['browser'], color='g', bins=20)\n",
    "axes[0][2].set_title('Distribution de `browser`')\n",
    "\n",
    "axes[1][0].hist(df['sex'], color='y', bins=20)\n",
    "axes[1][0].set_title('Distribution de `sex`')\n",
    "axes[1][1].hist(df['signup_day'], color='m', bins=20)\n",
    "axes[1][1].set_title('Distribution de `signup_day`')\n",
    "axes[1][2].hist(df['purchase_day'], color='c', bins=20)\n",
    "axes[1][2].set_title('Distribution de `purchase_day`')\n",
    "\n",
    "plt.show()"
   ]
  },
  {
   "cell_type": "code",
   "execution_count": null,
   "metadata": {},
   "outputs": [],
   "source": [
    "max_fraud_id = df.groupby('is_fraud').device_id.value_counts()[1, :]#combien frauds par ID\n",
    "print(max_fraud_id)\n",
    "\n",
    "#On les affiche pour mieux voir la distribution\n",
    "plt.hist(max_fraud_id, color='b', bins=20)\n",
    "plt.ylabel('Amount_of_id')\n",
    "plt.xlabel('Numbers_of_fraud');"
   ]
  },
  {
   "cell_type": "markdown",
   "metadata": {},
   "source": [
    "Pour mieux visualiser, on affiche à partir de 3 frauds:"
   ]
  },
  {
   "cell_type": "code",
   "execution_count": null,
   "metadata": {},
   "outputs": [],
   "source": [
    "max_fraud_id_more3 = []\n",
    "for i in max_fraud_id:\n",
    "    if i >= 3:\n",
    "        max_fraud_id_more3.append(i)\n",
    "\n",
    "plt.hist(max_fraud_id_more3, color='b', bins=20)\n",
    "plt.ylabel('Amount_of_id')\n",
    "plt.xlabel('Numbers_of_fraud');"
   ]
  },
  {
   "cell_type": "code",
   "execution_count": null,
   "metadata": {},
   "outputs": [],
   "source": [
    "max_fraud_ip = df.groupby('is_fraud').ip_address.value_counts()[1, :]#combien frauds par ip_address\n",
    "print(max_fraud_ip)\n",
    "\n",
    "#On les affiche pour mieux voir la distribution\n",
    "plt.hist(max_fraud_ip, color='b', bins=20)\n",
    "plt.ylabel('Amount_of_ip')\n",
    "plt.xlabel('Numbers_of_fraud');"
   ]
  },
  {
   "cell_type": "code",
   "execution_count": null,
   "metadata": {},
   "outputs": [],
   "source": [
    "#Pour mieux visualiser, on affiche à partir de 3 frauds\n",
    "max_fraud_ip_more3 = []\n",
    "for i in max_fraud_ip:\n",
    "    if i >= 3:\n",
    "        max_fraud_ip_more3.append(i)\n",
    "\n",
    "plt.hist(max_fraud_ip_more3, color='b', bins=20)\n",
    "plt.ylabel('Amount_of_ip')\n",
    "plt.xlabel('Numbers_of_fraud');"
   ]
  },
  {
   "cell_type": "markdown",
   "metadata": {},
   "source": [
    "Pour nos variables qualitatives on va utiliser la table de contingence. On appelle une table de contingence, la table croisée contenant les différentes catégories des deux variables en question. Pour afficher une table de contingence, on utilise la fonction crosstab avec les deux variables en argument. Cette table de contingence permet de visualiser comment se distribuent les catégories de la variable 1 au sein de la variable 2. Pour des variables totalement indépendantes, la distribution doit être proportionnelle entre chaque ligne et entre chaque colonne."
   ]
  },
  {
   "cell_type": "code",
   "execution_count": null,
   "metadata": {},
   "outputs": [],
   "source": [
    "print(pd.crosstab(df['device_id'],df['is_fraud']))\n",
    "print('\\n')\n",
    "print(pd.crosstab(df['ip_address'],df['is_fraud']))\n",
    "print('\\n')\n",
    "\n",
    "print(pd.crosstab(df['source'],df['is_fraud']))\n",
    "print('\\n')\n",
    "print(pd.crosstab(df['browser'],df['is_fraud']))\n",
    "print('\\n')\n",
    "print(pd.crosstab(df['sex'],df['is_fraud']))\n",
    "print('\\n')\n",
    "print(pd.crosstab(df['signup_day'],df['is_fraud']))\n",
    "print('\\n')\n",
    "print(pd.crosstab(df['purchase_day'],df['is_fraud']))\n"
   ]
  },
  {
   "cell_type": "markdown",
   "metadata": {},
   "source": [
    "Le test qu'on effectue alors est un test du  χ2  par table de contingence.\n",
    "Pour chaque case d'un tableau, il effectue un test du  χ2 (test de proportions) entre l'effectif de la case et l'effectif total de la colonne.\n",
    "La statistique de test est alors obtenue en faisant la somme de toutes ces statistiques.\n",
    "\n",
    "Pour ce test, on pose comme les hypothèses nulles :\n",
    "1.\"les variables device_id et is_fraud sont indépendantes\" \n",
    "2.\"les variables ip_address et is_fraud sont indépendantes\"\n",
    "3.\"les variables source et state is_fraud indépendantes\" \n",
    "4.\"les variables browser et state is_fraud indépendantes\" \n",
    "5.\"les variables sex et state is_fraud indépendantes\" \n",
    "6.\"les variables signup_day et is_fraud sont indépendantes\"\n",
    "7.\"les variables purchase_day et is_fraud sont indépendantes\" \n",
    "\n",
    "Ce test peut s'effectuer tout simplement grâce à la fonction chi2_contingency de scipy appliquée à la table de contingence.\n",
    "Elle renvoie un array de 4 éléments : la statistique du test, la p-value, le degré de liberté et la liste des fréquences attendues. Pour rejeter l'hypothèse nulle, il est nécessaire que la p-value soit inférieure à 5%."
   ]
  },
  {
   "cell_type": "code",
   "execution_count": null,
   "metadata": {},
   "outputs": [],
   "source": [
    "#L'hypothèse nulle №1\n",
    "table1=pd.crosstab(df['device_id'],df['is_fraud'])\n",
    "resultats_test = chi2_contingency(table1)\n",
    "statistique = resultats_test[0]\n",
    "p_valeur = resultats_test[1]\n",
    "degre_liberte = resultats_test[2]\n",
    "\n",
    "print(statistique.round(1), p_valeur,degre_liberte)\n",
    "\n",
    "# p-value < 5% donc on rejette H0"
   ]
  },
  {
   "cell_type": "code",
   "execution_count": null,
   "metadata": {
    "scrolled": true
   },
   "outputs": [],
   "source": [
    "#L'hypothèse nulle №2\n",
    "table2=pd.crosstab(df['ip_address'],df['is_fraud'])\n",
    "resultats_test = chi2_contingency(table2)\n",
    "statistique = resultats_test[0]\n",
    "p_valeur = resultats_test[1]\n",
    "degre_liberte = resultats_test[2]\n",
    "\n",
    "print(statistique.round(1), p_valeur,degre_liberte)\n",
    "\n",
    "# p-value < 5% donc on rejette H0"
   ]
  },
  {
   "cell_type": "code",
   "execution_count": null,
   "metadata": {},
   "outputs": [],
   "source": [
    "#L'hypothèse nulle №3\n",
    "table3=pd.crosstab(df['source'],df['is_fraud'])\n",
    "resultats_test = chi2_contingency(table3)\n",
    "statistique = resultats_test[0]\n",
    "p_valeur = resultats_test[1]\n",
    "degre_liberte = resultats_test[2]\n",
    "\n",
    "print(statistique.round(1), p_valeur,degre_liberte)\n",
    "\n",
    "# p-value > 5% donc on accepte H0"
   ]
  },
  {
   "cell_type": "code",
   "execution_count": null,
   "metadata": {},
   "outputs": [],
   "source": [
    "#L'hypothèse nulle №4\n",
    "table4=pd.crosstab(df['browser'],df['is_fraud'])\n",
    "resultats_test = chi2_contingency(table4)\n",
    "statistique = resultats_test[0]\n",
    "p_valeur = resultats_test[1]\n",
    "degre_liberte = resultats_test[2]\n",
    "\n",
    "print(statistique.round(1), p_valeur,degre_liberte)\n",
    "\n",
    "# p-value presque 5% donc on rejette H0"
   ]
  },
  {
   "cell_type": "code",
   "execution_count": null,
   "metadata": {},
   "outputs": [],
   "source": [
    "#L'hypothèse nulle №5\n",
    "table5=pd.crosstab(df['sex'],df['is_fraud'])\n",
    "resultats_test = chi2_contingency(table5)\n",
    "statistique = resultats_test[0]\n",
    "p_valeur = resultats_test[1]\n",
    "degre_liberte = resultats_test[2]\n",
    "\n",
    "print(statistique.round(1), p_valeur,degre_liberte)\n",
    "\n",
    "# p-value < 5% donc on rejette H0"
   ]
  },
  {
   "cell_type": "code",
   "execution_count": null,
   "metadata": {},
   "outputs": [],
   "source": [
    "#L'hypothèse nulle №6\n",
    "table6=pd.crosstab(df['signup_day'],df['is_fraud'])\n",
    "resultats_test = chi2_contingency(table6)\n",
    "statistique = resultats_test[0]\n",
    "p_valeur = resultats_test[1]\n",
    "degre_liberte = resultats_test[2]\n",
    "\n",
    "print(statistique.round(1), p_valeur,degre_liberte)\n",
    "\n",
    "# p-value < 5% donc on rejette H0"
   ]
  },
  {
   "cell_type": "code",
   "execution_count": null,
   "metadata": {},
   "outputs": [],
   "source": [
    "#L'hypothèse nulle №7\n",
    "table7=pd.crosstab(df['purchase_day'],df['is_fraud'])\n",
    "resultats_test = chi2_contingency(table7)\n",
    "statistique = resultats_test[0]\n",
    "p_valeur = resultats_test[1]\n",
    "degre_liberte = resultats_test[2]\n",
    "\n",
    "print(statistique.round(1), p_valeur,degre_liberte)\n",
    "\n",
    "# p-value < 5% donc on rejette H0"
   ]
  },
  {
   "cell_type": "markdown",
   "metadata": {},
   "source": [
    "Comme pour les variables quantitatives, on peut mesurer le niveau de corrélation entre deux variables qualitatives. Pour cela, on utilise le V de Cramer corrigé pour contrer le biais qui utilise les résultats du test du  χ2. Il renvoie une valeur entre 0 et 1."
   ]
  },
  {
   "cell_type": "code",
   "execution_count": null,
   "metadata": {},
   "outputs": [],
   "source": [
    "def V_Cramer(table1, N):\n",
    "    stat_chi2 = chi2_contingency(table1)[0]\n",
    "    k = table1.shape[0]\n",
    "    r = table1.shape[1]\n",
    "    phi = max(0,(stat_chi2/N)-((k-1)*(r-1)/(N-1)))\n",
    "    k_corr = k - (np.square(k-1)/(N-1))\n",
    "    r_corr = r - (np.square(r-1)/(N-1))\n",
    "    return np.sqrt(phi/min(k_corr - 1,r_corr - 1))\n",
    "\n",
    "V_Cramer(table1, df.shape[0])\n",
    "#Le V_Cramer est 0.Il n'y a pas une corrélation entre device_id et is_fraud."
   ]
  },
  {
   "cell_type": "code",
   "execution_count": null,
   "metadata": {},
   "outputs": [],
   "source": [
    "def V_Cramer(table2, N):\n",
    "    stat_chi2 = chi2_contingency(table2)[0]\n",
    "    k = table2.shape[0]\n",
    "    r = table2.shape[1]\n",
    "    phi = max(0,(stat_chi2/N)-((k-1)*(r-1)/(N-1)))\n",
    "    k_corr = k - (np.square(k-1)/(N-1))\n",
    "    r_corr = r - (np.square(r-1)/(N-1))\n",
    "    return np.sqrt(phi/min(k_corr - 1,r_corr - 1))\n",
    "\n",
    "V_Cramer(table2, df.shape[0])\n",
    "#Le V_Cramer est 0.Il n'y a pas une corrélation entre ip_address et is_fraud."
   ]
  },
  {
   "cell_type": "code",
   "execution_count": null,
   "metadata": {},
   "outputs": [],
   "source": [
    "def V_Cramer(table3, N):\n",
    "    stat_chi2 = chi2_contingency(table3)[0]\n",
    "    k = table3.shape[0]\n",
    "    r = table3.shape[1]\n",
    "    phi = max(0,(stat_chi2/N)-((k-1)*(r-1)/(N-1)))\n",
    "    k_corr = k - (np.square(k-1)/(N-1))\n",
    "    r_corr = r - (np.square(r-1)/(N-1))\n",
    "    return np.sqrt(phi/min(k_corr - 1,r_corr - 1))\n",
    "\n",
    "V_Cramer(table3, df.shape[0])\n",
    "#Le V_Cramer n'est pas très élevé.\n",
    "#On en déduit qu'il n'y a pas une forte corrélation entre source et is_fraud."
   ]
  },
  {
   "cell_type": "code",
   "execution_count": null,
   "metadata": {},
   "outputs": [],
   "source": [
    "def V_Cramer(table4, N):\n",
    "    stat_chi2 = chi2_contingency(table4)[0]\n",
    "    k = table4.shape[0]\n",
    "    r = table4.shape[1]\n",
    "    phi = max(0,(stat_chi2/N)-((k-1)*(r-1)/(N-1)))\n",
    "    k_corr = k - (np.square(k-1)/(N-1))\n",
    "    r_corr = r - (np.square(r-1)/(N-1))\n",
    "    return np.sqrt(phi/min(k_corr - 1,r_corr - 1))\n",
    "\n",
    "V_Cramer(table4, df.shape[0])\n",
    "#Le V_Cramer n'est pas très élevé.\n",
    "#On en déduit qu'il n'y a pas une forte corrélation entre browser et is_fraud."
   ]
  },
  {
   "cell_type": "code",
   "execution_count": null,
   "metadata": {},
   "outputs": [],
   "source": [
    "def V_Cramer(table5, N):\n",
    "    stat_chi2 = chi2_contingency(table5)[0]\n",
    "    k = table5.shape[0]\n",
    "    r = table5.shape[1]\n",
    "    phi = max(0,(stat_chi2/N)-((k-1)*(r-1)/(N-1)))\n",
    "    k_corr = k - (np.square(k-1)/(N-1))\n",
    "    r_corr = r - (np.square(r-1)/(N-1))\n",
    "    return np.sqrt(phi/min(k_corr - 1,r_corr - 1))\n",
    "\n",
    "V_Cramer(table5, df.shape[0])\n",
    "#Le V_Cramer n'est pas très élevé.\n",
    "#On en déduit qu'il n'y a pas une forte corrélation entre sex et is_fraud."
   ]
  },
  {
   "cell_type": "code",
   "execution_count": null,
   "metadata": {},
   "outputs": [],
   "source": [
    "def V_Cramer(table6, N):\n",
    "    stat_chi2 = chi2_contingency(table6)[0]\n",
    "    k = table6.shape[0]\n",
    "    r = table6.shape[1]\n",
    "    phi = max(0,(stat_chi2/N)-((k-1)*(r-1)/(N-1)))\n",
    "    k_corr = k - (np.square(k-1)/(N-1))\n",
    "    r_corr = r - (np.square(r-1)/(N-1))\n",
    "    return np.sqrt(phi/min(k_corr - 1,r_corr - 1))\n",
    "\n",
    "V_Cramer(table6, df.shape[0])\n",
    "#Le V_Cramer n'est pas très élevé.\n",
    "#On en déduit qu'il n'y a pas une forte corrélation entre signup_day et is_fraud mais qu'elle n'est pas non plus négligeable."
   ]
  },
  {
   "cell_type": "code",
   "execution_count": null,
   "metadata": {},
   "outputs": [],
   "source": [
    "def V_Cramer(table7, N):\n",
    "    stat_chi2 = chi2_contingency(table7)[0]\n",
    "    k = table7.shape[0]\n",
    "    r = table7.shape[1]\n",
    "    phi = max(0,(stat_chi2/N)-((k-1)*(r-1)/(N-1)))\n",
    "    k_corr = k - (np.square(k-1)/(N-1))\n",
    "    r_corr = r - (np.square(r-1)/(N-1))\n",
    "    return np.sqrt(phi/min(k_corr - 1,r_corr - 1))\n",
    "\n",
    "V_Cramer(table7, df.shape[0])\n",
    "#Le V_Cramer n'est pas très élevé.\n",
    "#On en déduit qu'il n'y a pas une forte corrélation entre purchase_day et is_fraud mais qu'elle n'est pas non plus négligeable."
   ]
  },
  {
   "cell_type": "markdown",
   "metadata": {},
   "source": [
    "# Oversampling avec la normalisation"
   ]
  },
  {
   "cell_type": "markdown",
   "metadata": {},
   "source": [
    "<span style=\"color:green\"> **4. Feature Engineering / Model Evaluation**</span> "
   ]
  },
  {
   "cell_type": "markdown",
   "metadata": {},
   "source": [
    "La classification est utilisée dans le cadre d'une problématique d'apprentissage supervisé. Elle permet de modéliser une variable expliquée de type qualitatif, y, comme une fonction de la combinaison linéaire des variables explicatives, X.\n",
    "\n",
    "Nous traiterons de la classification binaire : la variable expliquée est encodée de façon binaire et contient donc exactement deux catégories: 0 non frauduleux et des 1 pour frauduleux.\n",
    "\n",
    "On parle de modèle de classification qui nous permet de prédire la classe d'appartenance de chacune des observations : en d'autres termes, à partir des variables explicatives du modèle, on prédit si une observation appartient à la classe négative ou positive.\n",
    "\n",
    "Nous avons constaté qu'on a la présence des données déséquilibrées. Pour traiter ce probleme on va utiliser tout d'abord la method oversampling: SMOTE.\n",
    "\n",
    "Le SMOTE, acronyme pour Synthetic Minority Oversampling TEchnique, est une méthode de suréchantillonnage des observations minoritaires. Pour éviter de réaliser un simple clonage des individus minoritaires, le SMOTE se base sur un principe simple : générer de nouveaux individus minoritaires qui ressemblent aux autres, sans être strictement identiques. Cela permet de densifier de façon plus homogène la population d’individus minoritaires.\n",
    "\n",
    "C’est sur ces données transformées, auxquelles on a ajouté de faux individus synthétiques, que l’on va ensuite entraîner un modèle de Machine Learning.\n"
   ]
  },
  {
   "cell_type": "code",
   "execution_count": 7,
   "metadata": {},
   "outputs": [
    {
     "data": {
      "text/html": [
       "<div>\n",
       "<style scoped>\n",
       "    .dataframe tbody tr th:only-of-type {\n",
       "        vertical-align: middle;\n",
       "    }\n",
       "\n",
       "    .dataframe tbody tr th {\n",
       "        vertical-align: top;\n",
       "    }\n",
       "\n",
       "    .dataframe thead th {\n",
       "        text-align: right;\n",
       "    }\n",
       "</style>\n",
       "<table border=\"1\" class=\"dataframe\">\n",
       "  <thead>\n",
       "    <tr style=\"text-align: right;\">\n",
       "      <th></th>\n",
       "      <th>user_id</th>\n",
       "      <th>signup_day</th>\n",
       "      <th>signup_month</th>\n",
       "      <th>signup_year</th>\n",
       "      <th>purchase_day</th>\n",
       "      <th>purchase_month</th>\n",
       "      <th>purchase_year</th>\n",
       "      <th>purchase_value</th>\n",
       "      <th>source</th>\n",
       "      <th>browser</th>\n",
       "      <th>sex</th>\n",
       "      <th>age</th>\n",
       "      <th>is_fraud</th>\n",
       "    </tr>\n",
       "  </thead>\n",
       "  <tbody>\n",
       "    <tr>\n",
       "      <th>0</th>\n",
       "      <td>22058</td>\n",
       "      <td>24</td>\n",
       "      <td>02</td>\n",
       "      <td>2015</td>\n",
       "      <td>18</td>\n",
       "      <td>04</td>\n",
       "      <td>2015</td>\n",
       "      <td>34</td>\n",
       "      <td>SEO</td>\n",
       "      <td>Chrome</td>\n",
       "      <td>M</td>\n",
       "      <td>39</td>\n",
       "      <td>0</td>\n",
       "    </tr>\n",
       "    <tr>\n",
       "      <th>1</th>\n",
       "      <td>333320</td>\n",
       "      <td>07</td>\n",
       "      <td>06</td>\n",
       "      <td>2015</td>\n",
       "      <td>08</td>\n",
       "      <td>06</td>\n",
       "      <td>2015</td>\n",
       "      <td>16</td>\n",
       "      <td>Ads</td>\n",
       "      <td>Chrome</td>\n",
       "      <td>F</td>\n",
       "      <td>53</td>\n",
       "      <td>0</td>\n",
       "    </tr>\n",
       "    <tr>\n",
       "      <th>2</th>\n",
       "      <td>1359</td>\n",
       "      <td>01</td>\n",
       "      <td>01</td>\n",
       "      <td>2015</td>\n",
       "      <td>01</td>\n",
       "      <td>01</td>\n",
       "      <td>2015</td>\n",
       "      <td>15</td>\n",
       "      <td>SEO</td>\n",
       "      <td>Opera</td>\n",
       "      <td>M</td>\n",
       "      <td>53</td>\n",
       "      <td>1</td>\n",
       "    </tr>\n",
       "    <tr>\n",
       "      <th>3</th>\n",
       "      <td>150084</td>\n",
       "      <td>28</td>\n",
       "      <td>04</td>\n",
       "      <td>2015</td>\n",
       "      <td>04</td>\n",
       "      <td>05</td>\n",
       "      <td>2015</td>\n",
       "      <td>44</td>\n",
       "      <td>SEO</td>\n",
       "      <td>Safari</td>\n",
       "      <td>M</td>\n",
       "      <td>41</td>\n",
       "      <td>0</td>\n",
       "    </tr>\n",
       "    <tr>\n",
       "      <th>4</th>\n",
       "      <td>221365</td>\n",
       "      <td>21</td>\n",
       "      <td>07</td>\n",
       "      <td>2015</td>\n",
       "      <td>09</td>\n",
       "      <td>09</td>\n",
       "      <td>2015</td>\n",
       "      <td>39</td>\n",
       "      <td>Ads</td>\n",
       "      <td>Safari</td>\n",
       "      <td>M</td>\n",
       "      <td>45</td>\n",
       "      <td>0</td>\n",
       "    </tr>\n",
       "  </tbody>\n",
       "</table>\n",
       "</div>"
      ],
      "text/plain": [
       "   user_id signup_day signup_month signup_year purchase_day purchase_month  \\\n",
       "0    22058         24           02        2015           18             04   \n",
       "1   333320         07           06        2015           08             06   \n",
       "2     1359         01           01        2015           01             01   \n",
       "3   150084         28           04        2015           04             05   \n",
       "4   221365         21           07        2015           09             09   \n",
       "\n",
       "  purchase_year  purchase_value source browser sex  age  is_fraud  \n",
       "0          2015              34    SEO  Chrome   M   39         0  \n",
       "1          2015              16    Ads  Chrome   F   53         0  \n",
       "2          2015              15    SEO   Opera   M   53         1  \n",
       "3          2015              44    SEO  Safari   M   41         0  \n",
       "4          2015              39    Ads  Safari   M   45         0  "
      ]
     },
     "execution_count": 7,
     "metadata": {},
     "output_type": "execute_result"
    }
   ],
   "source": [
    "#La preparation des donées.\n",
    "#Nous avons decidé d'enlever les variables signup_time, purchase_time car ils impactent pas is_fraud.\n",
    "#Le V_Cramer de device_id et ip_address sont à 0, ca veut dire que'il n'y a pas de corrélations avec is_fraud.\n",
    "#On les enleve aussi.\n",
    "\n",
    "df_n = df[['user_id','signup_day', 'signup_month', 'signup_year',\n",
    "        'purchase_day', 'purchase_month', 'purchase_year','purchase_value',\n",
    "        'source','browser','sex', 'age','is_fraud']]\n",
    "\n",
    "\n",
    "df_n.head()"
   ]
  },
  {
   "cell_type": "markdown",
   "metadata": {},
   "source": [
    "Séparons le jeu de données en features / target. Assurons-nous d'avoir le bon format de données en entrée de nos futurs modèles."
   ]
  },
  {
   "cell_type": "code",
   "execution_count": 8,
   "metadata": {},
   "outputs": [],
   "source": [
    "#Definition X et y:\n",
    "X = df_n.drop(['is_fraud'], axis = 1)\n",
    "y = df_n.is_fraud\n",
    "\n",
    "# split into 70:30 ration\n",
    "X_train, X_test, y_train, y_test = train_test_split(X, y, test_size = 0.3, random_state = 42)  "
   ]
  },
  {
   "cell_type": "markdown",
   "metadata": {},
   "source": [
    "On ajoute l'indexation des donées pour les traitées avec la precision par la suite."
   ]
  },
  {
   "cell_type": "code",
   "execution_count": 9,
   "metadata": {},
   "outputs": [],
   "source": [
    "### Indexation\n",
    "\n",
    "X_train = X_train.set_index(i for i in range(105778))\n",
    "\n",
    "X_test = X_test.set_index(i for i in range(45334))"
   ]
  },
  {
   "cell_type": "markdown",
   "metadata": {},
   "source": [
    "Le SMOTE repose sur le calcul de distances euclidiennes entre les points. Il est donc influencé par l’échelle de vos variables. Pour que toutes les variables soient toutes traitées de la même manière, il est nécessaire de faire un scaling avant d’utiliser le SMOTE-->Les variables numériques doivent être normalisées.Tout d'habord on enleve les variables catégorielles."
   ]
  },
  {
   "cell_type": "code",
   "execution_count": 10,
   "metadata": {},
   "outputs": [
    {
     "data": {
      "text/html": [
       "<div>\n",
       "<style scoped>\n",
       "    .dataframe tbody tr th:only-of-type {\n",
       "        vertical-align: middle;\n",
       "    }\n",
       "\n",
       "    .dataframe tbody tr th {\n",
       "        vertical-align: top;\n",
       "    }\n",
       "\n",
       "    .dataframe thead th {\n",
       "        text-align: right;\n",
       "    }\n",
       "</style>\n",
       "<table border=\"1\" class=\"dataframe\">\n",
       "  <thead>\n",
       "    <tr style=\"text-align: right;\">\n",
       "      <th></th>\n",
       "      <th>user_id</th>\n",
       "      <th>signup_day</th>\n",
       "      <th>signup_month</th>\n",
       "      <th>signup_year</th>\n",
       "      <th>purchase_day</th>\n",
       "      <th>purchase_month</th>\n",
       "      <th>purchase_year</th>\n",
       "      <th>purchase_value</th>\n",
       "      <th>age</th>\n",
       "    </tr>\n",
       "  </thead>\n",
       "  <tbody>\n",
       "    <tr>\n",
       "      <th>0</th>\n",
       "      <td>95172</td>\n",
       "      <td>12</td>\n",
       "      <td>08</td>\n",
       "      <td>2015</td>\n",
       "      <td>30</td>\n",
       "      <td>08</td>\n",
       "      <td>2015</td>\n",
       "      <td>51</td>\n",
       "      <td>36</td>\n",
       "    </tr>\n",
       "    <tr>\n",
       "      <th>1</th>\n",
       "      <td>282369</td>\n",
       "      <td>23</td>\n",
       "      <td>02</td>\n",
       "      <td>2015</td>\n",
       "      <td>28</td>\n",
       "      <td>02</td>\n",
       "      <td>2015</td>\n",
       "      <td>11</td>\n",
       "      <td>32</td>\n",
       "    </tr>\n",
       "    <tr>\n",
       "      <th>2</th>\n",
       "      <td>51365</td>\n",
       "      <td>09</td>\n",
       "      <td>01</td>\n",
       "      <td>2015</td>\n",
       "      <td>09</td>\n",
       "      <td>01</td>\n",
       "      <td>2015</td>\n",
       "      <td>16</td>\n",
       "      <td>34</td>\n",
       "    </tr>\n",
       "    <tr>\n",
       "      <th>3</th>\n",
       "      <td>74074</td>\n",
       "      <td>01</td>\n",
       "      <td>05</td>\n",
       "      <td>2015</td>\n",
       "      <td>03</td>\n",
       "      <td>08</td>\n",
       "      <td>2015</td>\n",
       "      <td>40</td>\n",
       "      <td>32</td>\n",
       "    </tr>\n",
       "    <tr>\n",
       "      <th>4</th>\n",
       "      <td>294523</td>\n",
       "      <td>20</td>\n",
       "      <td>06</td>\n",
       "      <td>2015</td>\n",
       "      <td>10</td>\n",
       "      <td>08</td>\n",
       "      <td>2015</td>\n",
       "      <td>44</td>\n",
       "      <td>30</td>\n",
       "    </tr>\n",
       "  </tbody>\n",
       "</table>\n",
       "</div>"
      ],
      "text/plain": [
       "   user_id signup_day signup_month signup_year purchase_day purchase_month  \\\n",
       "0    95172         12           08        2015           30             08   \n",
       "1   282369         23           02        2015           28             02   \n",
       "2    51365         09           01        2015           09             01   \n",
       "3    74074         01           05        2015           03             08   \n",
       "4   294523         20           06        2015           10             08   \n",
       "\n",
       "  purchase_year  purchase_value  age  \n",
       "0          2015              51   36  \n",
       "1          2015              11   32  \n",
       "2          2015              16   34  \n",
       "3          2015              40   32  \n",
       "4          2015              44   30  "
      ]
     },
     "execution_count": 10,
     "metadata": {},
     "output_type": "execute_result"
    }
   ],
   "source": [
    "# out of cat data\n",
    "X_train_out=X_train.drop(['source', 'browser', 'sex'], axis = 1)\n",
    "X_test_out=X_test.drop(['source', 'browser', 'sex'], axis = 1)\n",
    "X_train_out.head()"
   ]
  },
  {
   "cell_type": "code",
   "execution_count": 11,
   "metadata": {},
   "outputs": [
    {
     "data": {
      "text/plain": [
       "array([[-0.90908609, -0.31135587,  1.70963461, ...,  0.        ,\n",
       "         0.76590444,  0.32955645],\n",
       "       [ 0.71354992,  0.9479972 , -0.9505524 , ...,  0.        ,\n",
       "        -1.41592755, -0.13472583],\n",
       "       [-1.28880807, -0.6548158 , -1.3939169 , ...,  0.        ,\n",
       "        -1.14319855,  0.09741531],\n",
       "       ...,\n",
       "       [-0.1610493 ,  0.26107734,  1.26627011, ...,  0.        ,\n",
       "         0.11135484, -1.64364324],\n",
       "       [ 0.95956698, -0.88378909,  1.26627011, ...,  0.        ,\n",
       "         0.65681284, -0.01865526],\n",
       "       [ 0.46415231,  1.52043041, -0.5071879 , ...,  0.        ,\n",
       "        -1.47047335, -0.59900811]])"
      ]
     },
     "execution_count": 11,
     "metadata": {},
     "output_type": "execute_result"
    }
   ],
   "source": [
    "# Normalisation des données\n",
    "scaler = StandardScaler()\n",
    "X_train_sc = scaler.fit_transform(X_train_out)\n",
    "X_test_sc = scaler.fit_transform(X_test_out)\n",
    "\n",
    "X_train_sc"
   ]
  },
  {
   "cell_type": "markdown",
   "metadata": {},
   "source": [
    "Afin de s'assurer de bon deroulement de la normalisation, on affiche nos données comme un DataFrame."
   ]
  },
  {
   "cell_type": "code",
   "execution_count": 12,
   "metadata": {},
   "outputs": [
    {
     "data": {
      "text/html": [
       "<div>\n",
       "<style scoped>\n",
       "    .dataframe tbody tr th:only-of-type {\n",
       "        vertical-align: middle;\n",
       "    }\n",
       "\n",
       "    .dataframe tbody tr th {\n",
       "        vertical-align: top;\n",
       "    }\n",
       "\n",
       "    .dataframe thead th {\n",
       "        text-align: right;\n",
       "    }\n",
       "</style>\n",
       "<table border=\"1\" class=\"dataframe\">\n",
       "  <thead>\n",
       "    <tr style=\"text-align: right;\">\n",
       "      <th></th>\n",
       "      <th>user_id</th>\n",
       "      <th>signup_day</th>\n",
       "      <th>signup_month</th>\n",
       "      <th>signup_year</th>\n",
       "      <th>purchase_day</th>\n",
       "      <th>purchase_month</th>\n",
       "      <th>purchase_year</th>\n",
       "      <th>purchase_value</th>\n",
       "      <th>age</th>\n",
       "    </tr>\n",
       "  </thead>\n",
       "  <tbody>\n",
       "    <tr>\n",
       "      <th>0</th>\n",
       "      <td>-0.909086</td>\n",
       "      <td>-0.311356</td>\n",
       "      <td>1.709635</td>\n",
       "      <td>0.0</td>\n",
       "      <td>1.668218</td>\n",
       "      <td>0.749708</td>\n",
       "      <td>0.0</td>\n",
       "      <td>0.765904</td>\n",
       "      <td>0.329556</td>\n",
       "    </tr>\n",
       "    <tr>\n",
       "      <th>1</th>\n",
       "      <td>0.713550</td>\n",
       "      <td>0.947997</td>\n",
       "      <td>-0.950552</td>\n",
       "      <td>0.0</td>\n",
       "      <td>1.441418</td>\n",
       "      <td>-1.504488</td>\n",
       "      <td>0.0</td>\n",
       "      <td>-1.415928</td>\n",
       "      <td>-0.134726</td>\n",
       "    </tr>\n",
       "    <tr>\n",
       "      <th>2</th>\n",
       "      <td>-1.288808</td>\n",
       "      <td>-0.654816</td>\n",
       "      <td>-1.393917</td>\n",
       "      <td>0.0</td>\n",
       "      <td>-0.713179</td>\n",
       "      <td>-1.880187</td>\n",
       "      <td>0.0</td>\n",
       "      <td>-1.143199</td>\n",
       "      <td>0.097415</td>\n",
       "    </tr>\n",
       "    <tr>\n",
       "      <th>3</th>\n",
       "      <td>-1.091965</td>\n",
       "      <td>-1.570709</td>\n",
       "      <td>0.379541</td>\n",
       "      <td>0.0</td>\n",
       "      <td>-1.393579</td>\n",
       "      <td>0.749708</td>\n",
       "      <td>0.0</td>\n",
       "      <td>0.165901</td>\n",
       "      <td>-0.134726</td>\n",
       "    </tr>\n",
       "    <tr>\n",
       "      <th>4</th>\n",
       "      <td>0.818902</td>\n",
       "      <td>0.604537</td>\n",
       "      <td>0.822906</td>\n",
       "      <td>0.0</td>\n",
       "      <td>-0.599780</td>\n",
       "      <td>0.749708</td>\n",
       "      <td>0.0</td>\n",
       "      <td>0.384084</td>\n",
       "      <td>-0.366867</td>\n",
       "    </tr>\n",
       "  </tbody>\n",
       "</table>\n",
       "</div>"
      ],
      "text/plain": [
       "    user_id  signup_day  signup_month  signup_year  purchase_day  \\\n",
       "0 -0.909086   -0.311356      1.709635          0.0      1.668218   \n",
       "1  0.713550    0.947997     -0.950552          0.0      1.441418   \n",
       "2 -1.288808   -0.654816     -1.393917          0.0     -0.713179   \n",
       "3 -1.091965   -1.570709      0.379541          0.0     -1.393579   \n",
       "4  0.818902    0.604537      0.822906          0.0     -0.599780   \n",
       "\n",
       "   purchase_month  purchase_year  purchase_value       age  \n",
       "0        0.749708            0.0        0.765904  0.329556  \n",
       "1       -1.504488            0.0       -1.415928 -0.134726  \n",
       "2       -1.880187            0.0       -1.143199  0.097415  \n",
       "3        0.749708            0.0        0.165901 -0.134726  \n",
       "4        0.749708            0.0        0.384084 -0.366867  "
      ]
     },
     "execution_count": 12,
     "metadata": {},
     "output_type": "execute_result"
    }
   ],
   "source": [
    "X_train_pd = pd.DataFrame(X_train_sc, columns = ['user_id','signup_day','signup_month','signup_year', 'purchase_day','purchase_month',\n",
    "                                      'purchase_year','purchase_value','age'])\n",
    "\n",
    "X_test_pd = pd.DataFrame(X_test_sc, columns = ['user_id','signup_day','signup_month','signup_year', 'purchase_day','purchase_month',\n",
    "                                      'purchase_year','purchase_value','age'])\n",
    "\n",
    "X_train_pd.head()"
   ]
  },
  {
   "cell_type": "markdown",
   "metadata": {},
   "source": [
    "Maintenant on traite les variables catégorielles. StandardScaler modifier les variables binaires, c'est pour ca qu'on les a enlever aparavant."
   ]
  },
  {
   "cell_type": "code",
   "execution_count": 13,
   "metadata": {},
   "outputs": [
    {
     "data": {
      "text/html": [
       "<div>\n",
       "<style scoped>\n",
       "    .dataframe tbody tr th:only-of-type {\n",
       "        vertical-align: middle;\n",
       "    }\n",
       "\n",
       "    .dataframe tbody tr th {\n",
       "        vertical-align: top;\n",
       "    }\n",
       "\n",
       "    .dataframe thead th {\n",
       "        text-align: right;\n",
       "    }\n",
       "</style>\n",
       "<table border=\"1\" class=\"dataframe\">\n",
       "  <thead>\n",
       "    <tr style=\"text-align: right;\">\n",
       "      <th></th>\n",
       "      <th>source_Ads</th>\n",
       "      <th>source_Direct</th>\n",
       "      <th>source_SEO</th>\n",
       "      <th>browser_Chrome</th>\n",
       "      <th>browser_FireFox</th>\n",
       "      <th>browser_IE</th>\n",
       "      <th>browser_Opera</th>\n",
       "      <th>browser_Safari</th>\n",
       "      <th>sex_F</th>\n",
       "      <th>sex_M</th>\n",
       "    </tr>\n",
       "  </thead>\n",
       "  <tbody>\n",
       "    <tr>\n",
       "      <th>0</th>\n",
       "      <td>0</td>\n",
       "      <td>0</td>\n",
       "      <td>1</td>\n",
       "      <td>0</td>\n",
       "      <td>0</td>\n",
       "      <td>1</td>\n",
       "      <td>0</td>\n",
       "      <td>0</td>\n",
       "      <td>0</td>\n",
       "      <td>1</td>\n",
       "    </tr>\n",
       "    <tr>\n",
       "      <th>1</th>\n",
       "      <td>1</td>\n",
       "      <td>0</td>\n",
       "      <td>0</td>\n",
       "      <td>0</td>\n",
       "      <td>0</td>\n",
       "      <td>1</td>\n",
       "      <td>0</td>\n",
       "      <td>0</td>\n",
       "      <td>0</td>\n",
       "      <td>1</td>\n",
       "    </tr>\n",
       "    <tr>\n",
       "      <th>2</th>\n",
       "      <td>1</td>\n",
       "      <td>0</td>\n",
       "      <td>0</td>\n",
       "      <td>1</td>\n",
       "      <td>0</td>\n",
       "      <td>0</td>\n",
       "      <td>0</td>\n",
       "      <td>0</td>\n",
       "      <td>0</td>\n",
       "      <td>1</td>\n",
       "    </tr>\n",
       "    <tr>\n",
       "      <th>3</th>\n",
       "      <td>1</td>\n",
       "      <td>0</td>\n",
       "      <td>0</td>\n",
       "      <td>1</td>\n",
       "      <td>0</td>\n",
       "      <td>0</td>\n",
       "      <td>0</td>\n",
       "      <td>0</td>\n",
       "      <td>1</td>\n",
       "      <td>0</td>\n",
       "    </tr>\n",
       "    <tr>\n",
       "      <th>4</th>\n",
       "      <td>1</td>\n",
       "      <td>0</td>\n",
       "      <td>0</td>\n",
       "      <td>1</td>\n",
       "      <td>0</td>\n",
       "      <td>0</td>\n",
       "      <td>0</td>\n",
       "      <td>0</td>\n",
       "      <td>0</td>\n",
       "      <td>1</td>\n",
       "    </tr>\n",
       "  </tbody>\n",
       "</table>\n",
       "</div>"
      ],
      "text/plain": [
       "   source_Ads  source_Direct  source_SEO  browser_Chrome  browser_FireFox  \\\n",
       "0           0              0           1               0                0   \n",
       "1           1              0           0               0                0   \n",
       "2           1              0           0               1                0   \n",
       "3           1              0           0               1                0   \n",
       "4           1              0           0               1                0   \n",
       "\n",
       "   browser_IE  browser_Opera  browser_Safari  sex_F  sex_M  \n",
       "0           1              0               0      0      1  \n",
       "1           1              0               0      0      1  \n",
       "2           0              0               0      0      1  \n",
       "3           0              0               0      1      0  \n",
       "4           0              0               0      0      1  "
      ]
     },
     "execution_count": 13,
     "metadata": {},
     "output_type": "execute_result"
    }
   ],
   "source": [
    "#Encoder les variables catégoriels \n",
    "X2_train= pd.get_dummies(X_train[['source','browser','sex']])\n",
    "X2_test= pd.get_dummies(X_test[['source','browser','sex']])\n",
    "X2_train.head()"
   ]
  },
  {
   "cell_type": "code",
   "execution_count": 14,
   "metadata": {},
   "outputs": [
    {
     "data": {
      "text/html": [
       "<div>\n",
       "<style scoped>\n",
       "    .dataframe tbody tr th:only-of-type {\n",
       "        vertical-align: middle;\n",
       "    }\n",
       "\n",
       "    .dataframe tbody tr th {\n",
       "        vertical-align: top;\n",
       "    }\n",
       "\n",
       "    .dataframe thead th {\n",
       "        text-align: right;\n",
       "    }\n",
       "</style>\n",
       "<table border=\"1\" class=\"dataframe\">\n",
       "  <thead>\n",
       "    <tr style=\"text-align: right;\">\n",
       "      <th></th>\n",
       "      <th>user_id</th>\n",
       "      <th>signup_day</th>\n",
       "      <th>signup_month</th>\n",
       "      <th>signup_year</th>\n",
       "      <th>purchase_day</th>\n",
       "      <th>purchase_month</th>\n",
       "      <th>purchase_year</th>\n",
       "      <th>purchase_value</th>\n",
       "      <th>source</th>\n",
       "      <th>browser</th>\n",
       "      <th>...</th>\n",
       "      <th>source_Ads</th>\n",
       "      <th>source_Direct</th>\n",
       "      <th>source_SEO</th>\n",
       "      <th>browser_Chrome</th>\n",
       "      <th>browser_FireFox</th>\n",
       "      <th>browser_IE</th>\n",
       "      <th>browser_Opera</th>\n",
       "      <th>browser_Safari</th>\n",
       "      <th>sex_F</th>\n",
       "      <th>sex_M</th>\n",
       "    </tr>\n",
       "  </thead>\n",
       "  <tbody>\n",
       "    <tr>\n",
       "      <th>0</th>\n",
       "      <td>-0.909086</td>\n",
       "      <td>-0.311356</td>\n",
       "      <td>1.709635</td>\n",
       "      <td>0.0</td>\n",
       "      <td>1.668218</td>\n",
       "      <td>0.749708</td>\n",
       "      <td>0.0</td>\n",
       "      <td>0.765904</td>\n",
       "      <td>SEO</td>\n",
       "      <td>IE</td>\n",
       "      <td>...</td>\n",
       "      <td>0</td>\n",
       "      <td>0</td>\n",
       "      <td>1</td>\n",
       "      <td>0</td>\n",
       "      <td>0</td>\n",
       "      <td>1</td>\n",
       "      <td>0</td>\n",
       "      <td>0</td>\n",
       "      <td>0</td>\n",
       "      <td>1</td>\n",
       "    </tr>\n",
       "    <tr>\n",
       "      <th>1</th>\n",
       "      <td>0.713550</td>\n",
       "      <td>0.947997</td>\n",
       "      <td>-0.950552</td>\n",
       "      <td>0.0</td>\n",
       "      <td>1.441418</td>\n",
       "      <td>-1.504488</td>\n",
       "      <td>0.0</td>\n",
       "      <td>-1.415928</td>\n",
       "      <td>Ads</td>\n",
       "      <td>IE</td>\n",
       "      <td>...</td>\n",
       "      <td>1</td>\n",
       "      <td>0</td>\n",
       "      <td>0</td>\n",
       "      <td>0</td>\n",
       "      <td>0</td>\n",
       "      <td>1</td>\n",
       "      <td>0</td>\n",
       "      <td>0</td>\n",
       "      <td>0</td>\n",
       "      <td>1</td>\n",
       "    </tr>\n",
       "    <tr>\n",
       "      <th>2</th>\n",
       "      <td>-1.288808</td>\n",
       "      <td>-0.654816</td>\n",
       "      <td>-1.393917</td>\n",
       "      <td>0.0</td>\n",
       "      <td>-0.713179</td>\n",
       "      <td>-1.880187</td>\n",
       "      <td>0.0</td>\n",
       "      <td>-1.143199</td>\n",
       "      <td>Ads</td>\n",
       "      <td>Chrome</td>\n",
       "      <td>...</td>\n",
       "      <td>1</td>\n",
       "      <td>0</td>\n",
       "      <td>0</td>\n",
       "      <td>1</td>\n",
       "      <td>0</td>\n",
       "      <td>0</td>\n",
       "      <td>0</td>\n",
       "      <td>0</td>\n",
       "      <td>0</td>\n",
       "      <td>1</td>\n",
       "    </tr>\n",
       "    <tr>\n",
       "      <th>3</th>\n",
       "      <td>-1.091965</td>\n",
       "      <td>-1.570709</td>\n",
       "      <td>0.379541</td>\n",
       "      <td>0.0</td>\n",
       "      <td>-1.393579</td>\n",
       "      <td>0.749708</td>\n",
       "      <td>0.0</td>\n",
       "      <td>0.165901</td>\n",
       "      <td>Ads</td>\n",
       "      <td>Chrome</td>\n",
       "      <td>...</td>\n",
       "      <td>1</td>\n",
       "      <td>0</td>\n",
       "      <td>0</td>\n",
       "      <td>1</td>\n",
       "      <td>0</td>\n",
       "      <td>0</td>\n",
       "      <td>0</td>\n",
       "      <td>0</td>\n",
       "      <td>1</td>\n",
       "      <td>0</td>\n",
       "    </tr>\n",
       "    <tr>\n",
       "      <th>4</th>\n",
       "      <td>0.818902</td>\n",
       "      <td>0.604537</td>\n",
       "      <td>0.822906</td>\n",
       "      <td>0.0</td>\n",
       "      <td>-0.599780</td>\n",
       "      <td>0.749708</td>\n",
       "      <td>0.0</td>\n",
       "      <td>0.384084</td>\n",
       "      <td>Ads</td>\n",
       "      <td>Chrome</td>\n",
       "      <td>...</td>\n",
       "      <td>1</td>\n",
       "      <td>0</td>\n",
       "      <td>0</td>\n",
       "      <td>1</td>\n",
       "      <td>0</td>\n",
       "      <td>0</td>\n",
       "      <td>0</td>\n",
       "      <td>0</td>\n",
       "      <td>0</td>\n",
       "      <td>1</td>\n",
       "    </tr>\n",
       "  </tbody>\n",
       "</table>\n",
       "<p>5 rows × 22 columns</p>\n",
       "</div>"
      ],
      "text/plain": [
       "    user_id  signup_day  signup_month  signup_year  purchase_day  \\\n",
       "0 -0.909086   -0.311356      1.709635          0.0      1.668218   \n",
       "1  0.713550    0.947997     -0.950552          0.0      1.441418   \n",
       "2 -1.288808   -0.654816     -1.393917          0.0     -0.713179   \n",
       "3 -1.091965   -1.570709      0.379541          0.0     -1.393579   \n",
       "4  0.818902    0.604537      0.822906          0.0     -0.599780   \n",
       "\n",
       "   purchase_month  purchase_year  purchase_value source browser  ...  \\\n",
       "0        0.749708            0.0        0.765904    SEO      IE  ...   \n",
       "1       -1.504488            0.0       -1.415928    Ads      IE  ...   \n",
       "2       -1.880187            0.0       -1.143199    Ads  Chrome  ...   \n",
       "3        0.749708            0.0        0.165901    Ads  Chrome  ...   \n",
       "4        0.749708            0.0        0.384084    Ads  Chrome  ...   \n",
       "\n",
       "  source_Ads  source_Direct  source_SEO  browser_Chrome  browser_FireFox  \\\n",
       "0          0              0           1               0                0   \n",
       "1          1              0           0               0                0   \n",
       "2          1              0           0               1                0   \n",
       "3          1              0           0               1                0   \n",
       "4          1              0           0               1                0   \n",
       "\n",
       "   browser_IE  browser_Opera  browser_Safari  sex_F  sex_M  \n",
       "0           1              0               0      0      1  \n",
       "1           1              0               0      0      1  \n",
       "2           0              0               0      0      1  \n",
       "3           0              0               0      1      0  \n",
       "4           0              0               0      0      1  \n",
       "\n",
       "[5 rows x 22 columns]"
      ]
     },
     "execution_count": 14,
     "metadata": {},
     "output_type": "execute_result"
    }
   ],
   "source": [
    "#On ajoute nos donées dans le meme tableau\n",
    "\n",
    "X_train[['user_id','signup_day', 'signup_month', 'signup_year',\n",
    "        'purchase_day', 'purchase_month', 'purchase_year','purchase_value',\n",
    "        'age']]=X_train_pd[['user_id','signup_day', 'signup_month', 'signup_year',\n",
    "        'purchase_day', 'purchase_month', 'purchase_year','purchase_value','age']]\n",
    "X_train[['source_Ads','source_Direct','source_SEO','browser_Chrome','browser_FireFox','browser_IE','browser_Opera',\n",
    "  'browser_Safari','sex_F','sex_M']]=X2_train[['source_Ads','source_Direct','source_SEO','browser_Chrome','browser_FireFox','browser_IE','browser_Opera',\n",
    "  'browser_Safari','sex_F','sex_M']]\n",
    "\n",
    "X_test[['user_id','signup_day', 'signup_month', 'signup_year',\n",
    "        'purchase_day', 'purchase_month', 'purchase_year','purchase_value','age']]=X_test_pd[['user_id','signup_day', 'signup_month', 'signup_year',\n",
    "        'purchase_day', 'purchase_month', 'purchase_year','purchase_value','age']]\n",
    "X_test[['source_Ads','source_Direct','source_SEO','browser_Chrome','browser_FireFox','browser_IE','browser_Opera',\n",
    "  'browser_Safari','sex_F','sex_M']]=X2_test[['source_Ads','source_Direct','source_SEO','browser_Chrome','browser_FireFox','browser_IE','browser_Opera',\n",
    "  'browser_Safari','sex_F','sex_M']]\n",
    "\n",
    "\n",
    "X_train.head()"
   ]
  },
  {
   "cell_type": "code",
   "execution_count": 15,
   "metadata": {},
   "outputs": [
    {
     "data": {
      "text/html": [
       "<div>\n",
       "<style scoped>\n",
       "    .dataframe tbody tr th:only-of-type {\n",
       "        vertical-align: middle;\n",
       "    }\n",
       "\n",
       "    .dataframe tbody tr th {\n",
       "        vertical-align: top;\n",
       "    }\n",
       "\n",
       "    .dataframe thead th {\n",
       "        text-align: right;\n",
       "    }\n",
       "</style>\n",
       "<table border=\"1\" class=\"dataframe\">\n",
       "  <thead>\n",
       "    <tr style=\"text-align: right;\">\n",
       "      <th></th>\n",
       "      <th>user_id</th>\n",
       "      <th>signup_day</th>\n",
       "      <th>signup_month</th>\n",
       "      <th>signup_year</th>\n",
       "      <th>purchase_day</th>\n",
       "      <th>purchase_month</th>\n",
       "      <th>purchase_year</th>\n",
       "      <th>purchase_value</th>\n",
       "      <th>age</th>\n",
       "      <th>source_Ads</th>\n",
       "      <th>source_Direct</th>\n",
       "      <th>source_SEO</th>\n",
       "      <th>browser_Chrome</th>\n",
       "      <th>browser_FireFox</th>\n",
       "      <th>browser_IE</th>\n",
       "      <th>browser_Opera</th>\n",
       "      <th>browser_Safari</th>\n",
       "      <th>sex_F</th>\n",
       "      <th>sex_M</th>\n",
       "    </tr>\n",
       "  </thead>\n",
       "  <tbody>\n",
       "    <tr>\n",
       "      <th>0</th>\n",
       "      <td>-0.909086</td>\n",
       "      <td>-0.311356</td>\n",
       "      <td>1.709635</td>\n",
       "      <td>0.0</td>\n",
       "      <td>1.668218</td>\n",
       "      <td>0.749708</td>\n",
       "      <td>0.0</td>\n",
       "      <td>0.765904</td>\n",
       "      <td>0.329556</td>\n",
       "      <td>0</td>\n",
       "      <td>0</td>\n",
       "      <td>1</td>\n",
       "      <td>0</td>\n",
       "      <td>0</td>\n",
       "      <td>1</td>\n",
       "      <td>0</td>\n",
       "      <td>0</td>\n",
       "      <td>0</td>\n",
       "      <td>1</td>\n",
       "    </tr>\n",
       "    <tr>\n",
       "      <th>1</th>\n",
       "      <td>0.713550</td>\n",
       "      <td>0.947997</td>\n",
       "      <td>-0.950552</td>\n",
       "      <td>0.0</td>\n",
       "      <td>1.441418</td>\n",
       "      <td>-1.504488</td>\n",
       "      <td>0.0</td>\n",
       "      <td>-1.415928</td>\n",
       "      <td>-0.134726</td>\n",
       "      <td>1</td>\n",
       "      <td>0</td>\n",
       "      <td>0</td>\n",
       "      <td>0</td>\n",
       "      <td>0</td>\n",
       "      <td>1</td>\n",
       "      <td>0</td>\n",
       "      <td>0</td>\n",
       "      <td>0</td>\n",
       "      <td>1</td>\n",
       "    </tr>\n",
       "    <tr>\n",
       "      <th>2</th>\n",
       "      <td>-1.288808</td>\n",
       "      <td>-0.654816</td>\n",
       "      <td>-1.393917</td>\n",
       "      <td>0.0</td>\n",
       "      <td>-0.713179</td>\n",
       "      <td>-1.880187</td>\n",
       "      <td>0.0</td>\n",
       "      <td>-1.143199</td>\n",
       "      <td>0.097415</td>\n",
       "      <td>1</td>\n",
       "      <td>0</td>\n",
       "      <td>0</td>\n",
       "      <td>1</td>\n",
       "      <td>0</td>\n",
       "      <td>0</td>\n",
       "      <td>0</td>\n",
       "      <td>0</td>\n",
       "      <td>0</td>\n",
       "      <td>1</td>\n",
       "    </tr>\n",
       "    <tr>\n",
       "      <th>3</th>\n",
       "      <td>-1.091965</td>\n",
       "      <td>-1.570709</td>\n",
       "      <td>0.379541</td>\n",
       "      <td>0.0</td>\n",
       "      <td>-1.393579</td>\n",
       "      <td>0.749708</td>\n",
       "      <td>0.0</td>\n",
       "      <td>0.165901</td>\n",
       "      <td>-0.134726</td>\n",
       "      <td>1</td>\n",
       "      <td>0</td>\n",
       "      <td>0</td>\n",
       "      <td>1</td>\n",
       "      <td>0</td>\n",
       "      <td>0</td>\n",
       "      <td>0</td>\n",
       "      <td>0</td>\n",
       "      <td>1</td>\n",
       "      <td>0</td>\n",
       "    </tr>\n",
       "    <tr>\n",
       "      <th>4</th>\n",
       "      <td>0.818902</td>\n",
       "      <td>0.604537</td>\n",
       "      <td>0.822906</td>\n",
       "      <td>0.0</td>\n",
       "      <td>-0.599780</td>\n",
       "      <td>0.749708</td>\n",
       "      <td>0.0</td>\n",
       "      <td>0.384084</td>\n",
       "      <td>-0.366867</td>\n",
       "      <td>1</td>\n",
       "      <td>0</td>\n",
       "      <td>0</td>\n",
       "      <td>1</td>\n",
       "      <td>0</td>\n",
       "      <td>0</td>\n",
       "      <td>0</td>\n",
       "      <td>0</td>\n",
       "      <td>0</td>\n",
       "      <td>1</td>\n",
       "    </tr>\n",
       "  </tbody>\n",
       "</table>\n",
       "</div>"
      ],
      "text/plain": [
       "    user_id  signup_day  signup_month  signup_year  purchase_day  \\\n",
       "0 -0.909086   -0.311356      1.709635          0.0      1.668218   \n",
       "1  0.713550    0.947997     -0.950552          0.0      1.441418   \n",
       "2 -1.288808   -0.654816     -1.393917          0.0     -0.713179   \n",
       "3 -1.091965   -1.570709      0.379541          0.0     -1.393579   \n",
       "4  0.818902    0.604537      0.822906          0.0     -0.599780   \n",
       "\n",
       "   purchase_month  purchase_year  purchase_value       age  source_Ads  \\\n",
       "0        0.749708            0.0        0.765904  0.329556           0   \n",
       "1       -1.504488            0.0       -1.415928 -0.134726           1   \n",
       "2       -1.880187            0.0       -1.143199  0.097415           1   \n",
       "3        0.749708            0.0        0.165901 -0.134726           1   \n",
       "4        0.749708            0.0        0.384084 -0.366867           1   \n",
       "\n",
       "   source_Direct  source_SEO  browser_Chrome  browser_FireFox  browser_IE  \\\n",
       "0              0           1               0                0           1   \n",
       "1              0           0               0                0           1   \n",
       "2              0           0               1                0           0   \n",
       "3              0           0               1                0           0   \n",
       "4              0           0               1                0           0   \n",
       "\n",
       "   browser_Opera  browser_Safari  sex_F  sex_M  \n",
       "0              0               0      0      1  \n",
       "1              0               0      0      1  \n",
       "2              0               0      0      1  \n",
       "3              0               0      1      0  \n",
       "4              0               0      0      1  "
      ]
     },
     "execution_count": 15,
     "metadata": {},
     "output_type": "execute_result"
    }
   ],
   "source": [
    "#On enleve extra 'source', 'browser', 'sex'\n",
    "X_train = X_train.drop(['source', 'browser', 'sex'], axis = 1)\n",
    "\n",
    "X_test = X_test.drop(['source', 'browser', 'sex'], axis = 1)\n",
    "\n",
    "X_train.head()"
   ]
  },
  {
   "cell_type": "markdown",
   "metadata": {},
   "source": [
    "<strong>Oversampling</strong>"
   ]
  },
  {
   "cell_type": "code",
   "execution_count": 16,
   "metadata": {},
   "outputs": [
    {
     "name": "stdout",
     "output_type": "stream",
     "text": [
      "Before Counter({0: 95844, 1: 9934})\n"
     ]
    }
   ],
   "source": [
    "counter = Counter(y_train)\n",
    "print('Before', counter)"
   ]
  },
  {
   "cell_type": "code",
   "execution_count": 17,
   "metadata": {},
   "outputs": [],
   "source": [
    "oversample = SMOTE()\n",
    "X_train, y_train = oversample.fit_resample(X_train, y_train)"
   ]
  },
  {
   "cell_type": "code",
   "execution_count": 18,
   "metadata": {},
   "outputs": [
    {
     "name": "stdout",
     "output_type": "stream",
     "text": [
      "After Counter({0: 95844, 1: 95844})\n"
     ]
    }
   ],
   "source": [
    "counter = Counter(y_train)\n",
    "print('After', counter)"
   ]
  },
  {
   "cell_type": "markdown",
   "metadata": {},
   "source": [
    "<span style=\"color:green\"> **5. Modelisation**</span> "
   ]
  },
  {
   "cell_type": "code",
   "execution_count": 19,
   "metadata": {},
   "outputs": [],
   "source": [
    "def evaluate_model(y_test, y_pred):\n",
    "\n",
    "    # Calcul de accuracy, precision, recall, f1-score, and kappa score\n",
    "    acc = metrics.accuracy_score(y_test, y_pred)\n",
    "    prec = metrics.precision_score(y_test, y_pred)\n",
    "    rec = metrics.recall_score(y_test, y_pred)\n",
    "    f1 = metrics.f1_score(y_test, y_pred)\n",
    "    \n",
    "    return {'acc': acc, 'prec': prec, 'rec': rec, 'f1': f1}\n"
   ]
  },
  {
   "cell_type": "code",
   "execution_count": 20,
   "metadata": {},
   "outputs": [
    {
     "name": "stdout",
     "output_type": "stream",
     "text": [
      "0.7928927515771826\n",
      "Accuracy: 0.7928927515771826\n",
      "Precision: 0.2521564117308798\n",
      "Recall: 0.6239032487550391\n",
      "F1 Score: 0.3591563715787318\n"
     ]
    },
    {
     "data": {
      "text/html": [
       "<div>\n",
       "<style scoped>\n",
       "    .dataframe tbody tr th:only-of-type {\n",
       "        vertical-align: middle;\n",
       "    }\n",
       "\n",
       "    .dataframe tbody tr th {\n",
       "        vertical-align: top;\n",
       "    }\n",
       "\n",
       "    .dataframe thead th {\n",
       "        text-align: right;\n",
       "    }\n",
       "</style>\n",
       "<table border=\"1\" class=\"dataframe\">\n",
       "  <thead>\n",
       "    <tr style=\"text-align: right;\">\n",
       "      <th>col_0</th>\n",
       "      <th>0</th>\n",
       "      <th>1</th>\n",
       "    </tr>\n",
       "    <tr>\n",
       "      <th>is_fraud</th>\n",
       "      <th></th>\n",
       "      <th></th>\n",
       "    </tr>\n",
       "  </thead>\n",
       "  <tbody>\n",
       "    <tr>\n",
       "      <th>0</th>\n",
       "      <td>33314</td>\n",
       "      <td>7803</td>\n",
       "    </tr>\n",
       "    <tr>\n",
       "      <th>1</th>\n",
       "      <td>1586</td>\n",
       "      <td>2631</td>\n",
       "    </tr>\n",
       "  </tbody>\n",
       "</table>\n",
       "</div>"
      ],
      "text/plain": [
       "col_0         0     1\n",
       "is_fraud             \n",
       "0         33314  7803\n",
       "1          1586  2631"
      ]
     },
     "execution_count": 20,
     "metadata": {},
     "output_type": "execute_result"
    }
   ],
   "source": [
    "# Instanciation d'un premier modèle\n",
    "\n",
    "log = LogisticRegression()\n",
    "\n",
    "# Entraînement \n",
    "log.fit(X_train, y_train)\n",
    "\n",
    "# Prédiction \n",
    "pred = log.predict(X_test)\n",
    "\n",
    "# Score du modèle\n",
    "print(log.score(X_test, y_test))\n",
    "\n",
    "#metrics du modele\n",
    "log_eval =  evaluate_model(y_test, pred)\n",
    "print('Accuracy:', log_eval['acc'])\n",
    "print('Precision:', log_eval['prec'])\n",
    "print('Recall:', log_eval['rec'])\n",
    "print('F1 Score:', log_eval['f1'])\n",
    "\n",
    "\n",
    "# Matrice de confusion\n",
    "\n",
    "pd.crosstab(y_test, pred)"
   ]
  },
  {
   "cell_type": "code",
   "execution_count": 21,
   "metadata": {},
   "outputs": [
    {
     "name": "stdout",
     "output_type": "stream",
     "text": [
      "0.10854987426655491\n",
      "Accuracy: 0.10854987426655491\n",
      "Precision: 0.09365036597961292\n",
      "Recall: 0.9890917714014702\n",
      "F1 Score: 0.1711003999589786\n"
     ]
    },
    {
     "data": {
      "text/html": [
       "<div>\n",
       "<style scoped>\n",
       "    .dataframe tbody tr th:only-of-type {\n",
       "        vertical-align: middle;\n",
       "    }\n",
       "\n",
       "    .dataframe tbody tr th {\n",
       "        vertical-align: top;\n",
       "    }\n",
       "\n",
       "    .dataframe thead th {\n",
       "        text-align: right;\n",
       "    }\n",
       "</style>\n",
       "<table border=\"1\" class=\"dataframe\">\n",
       "  <thead>\n",
       "    <tr style=\"text-align: right;\">\n",
       "      <th>col_0</th>\n",
       "      <th>0</th>\n",
       "      <th>1</th>\n",
       "    </tr>\n",
       "    <tr>\n",
       "      <th>is_fraud</th>\n",
       "      <th></th>\n",
       "      <th></th>\n",
       "    </tr>\n",
       "  </thead>\n",
       "  <tbody>\n",
       "    <tr>\n",
       "      <th>0</th>\n",
       "      <td>750</td>\n",
       "      <td>40367</td>\n",
       "    </tr>\n",
       "    <tr>\n",
       "      <th>1</th>\n",
       "      <td>46</td>\n",
       "      <td>4171</td>\n",
       "    </tr>\n",
       "  </tbody>\n",
       "</table>\n",
       "</div>"
      ],
      "text/plain": [
       "col_0       0      1\n",
       "is_fraud            \n",
       "0         750  40367\n",
       "1          46   4171"
      ]
     },
     "execution_count": 21,
     "metadata": {},
     "output_type": "execute_result"
    }
   ],
   "source": [
    "# Instanciation des modèles\n",
    "tree = DecisionTreeClassifier()\n",
    "# Entraînement \n",
    "tree.fit(X_train, y_train)\n",
    "\n",
    "# Prédiction \n",
    "pred = tree.predict(X_test)\n",
    "\n",
    "# Score du modèle\n",
    "print(tree.score(X_test, y_test))\n",
    "\n",
    "#metrics du modele\n",
    "tree_eval =  evaluate_model(y_test, pred)\n",
    "print('Accuracy:', tree_eval['acc'])\n",
    "print('Precision:', tree_eval['prec'])\n",
    "print('Recall:', tree_eval['rec'])\n",
    "print('F1 Score:', tree_eval['f1'])\n",
    "\n",
    "# Matrice de confusion\n",
    "\n",
    "pd.crosstab(y_test, pred)"
   ]
  },
  {
   "cell_type": "code",
   "execution_count": 22,
   "metadata": {},
   "outputs": [
    {
     "name": "stdout",
     "output_type": "stream",
     "text": [
      "0.8095910354259496\n",
      "Accuracy: 0.8095910354259496\n",
      "Precision: 0.27145667253338857\n",
      "Recall: 0.6217690301161963\n",
      "F1 Score: 0.37791870856154514\n"
     ]
    },
    {
     "data": {
      "text/html": [
       "<div>\n",
       "<style scoped>\n",
       "    .dataframe tbody tr th:only-of-type {\n",
       "        vertical-align: middle;\n",
       "    }\n",
       "\n",
       "    .dataframe tbody tr th {\n",
       "        vertical-align: top;\n",
       "    }\n",
       "\n",
       "    .dataframe thead th {\n",
       "        text-align: right;\n",
       "    }\n",
       "</style>\n",
       "<table border=\"1\" class=\"dataframe\">\n",
       "  <thead>\n",
       "    <tr style=\"text-align: right;\">\n",
       "      <th>col_0</th>\n",
       "      <th>0</th>\n",
       "      <th>1</th>\n",
       "    </tr>\n",
       "    <tr>\n",
       "      <th>is_fraud</th>\n",
       "      <th></th>\n",
       "      <th></th>\n",
       "    </tr>\n",
       "  </thead>\n",
       "  <tbody>\n",
       "    <tr>\n",
       "      <th>0</th>\n",
       "      <td>34080</td>\n",
       "      <td>7037</td>\n",
       "    </tr>\n",
       "    <tr>\n",
       "      <th>1</th>\n",
       "      <td>1595</td>\n",
       "      <td>2622</td>\n",
       "    </tr>\n",
       "  </tbody>\n",
       "</table>\n",
       "</div>"
      ],
      "text/plain": [
       "col_0         0     1\n",
       "is_fraud             \n",
       "0         34080  7037\n",
       "1          1595  2622"
      ]
     },
     "execution_count": 22,
     "metadata": {},
     "output_type": "execute_result"
    }
   ],
   "source": [
    "# Instanciation des modèles\n",
    "knc = KNeighborsClassifier()\n",
    "\n",
    "# Entraînement \n",
    "knc.fit(X_train, y_train)\n",
    "\n",
    "# Prédiction \n",
    "pred = knc.predict(X_test)\n",
    "\n",
    "# Score du modèle\n",
    "print(knc.score(X_test, y_test))\n",
    "\n",
    "#metrics du modele\n",
    "knc_eval =  evaluate_model(y_test, pred)\n",
    "print('Accuracy:', knc_eval['acc'])\n",
    "print('Precision:', knc_eval['prec'])\n",
    "print('Recall:', knc_eval['rec'])\n",
    "print('F1 Score:', knc_eval['f1'])\n",
    "\n",
    "# Matrice de confusion\n",
    "\n",
    "pd.crosstab(y_test, pred)"
   ]
  },
  {
   "cell_type": "code",
   "execution_count": null,
   "metadata": {},
   "outputs": [],
   "source": [
    "# Instanciation des modèles\n",
    "gbc = GradientBoostingClassifier()\n",
    "# Entraînement \n",
    "gbc.fit(X_train, y_train)\n",
    "\n",
    "# Prédiction \n",
    "pred = gbc.predict(X_test)\n",
    "\n",
    "# Score du modèle\n",
    "print(gbc.score(X_test, y_test))\n",
    "\n",
    "#metrics du modele\n",
    "gbc_eval =  evaluate_model(y_test, pred)\n",
    "print('Accuracy:', gbc_eval['acc'])\n",
    "print('Precision:', gbc_eval['prec'])\n",
    "print('Recall:', gbc_eval['rec'])\n",
    "print('F1 Score:', gbc_eval['f1'])\n",
    "\n",
    "# Matrice de confusion\n",
    "\n",
    "pd.crosstab(y_test, pred)"
   ]
  },
  {
   "cell_type": "code",
   "execution_count": null,
   "metadata": {},
   "outputs": [],
   "source": [
    "\n",
    "# Instanciation des modèles\n",
    "svc =  SVC()\n",
    "# Entraînement \n",
    "svc.fit(X_train, y_train)\n",
    "\n",
    "# Prédiction \n",
    "pred = svc.predict(X_test)\n",
    "\n",
    "# Score du modèle\n",
    "print(svc.score(X_test, y_test))\n",
    "\n",
    "#metrics du modele\n",
    "svc_eval =  evaluate_model(y_test, pred)\n",
    "print('Accuracy:', svc_eval['acc'])\n",
    "print('Precision:', svc_eval['prec'])\n",
    "print('Recall:', svc_eval['rec'])\n",
    "print('F1 Score:', svc_eval['f1'])\n",
    "\n",
    "# Matrice de confusion\n",
    "\n",
    "pd.crosstab(y_test, pred)"
   ]
  },
  {
   "cell_type": "code",
   "execution_count": null,
   "metadata": {},
   "outputs": [],
   "source": [
    "# Instanciation des modèles\n",
    "rfc =  RandomForestClassifier()\n",
    "# Entraînement \n",
    "rfc.fit(X_train, y_train)\n",
    "\n",
    "# Prédiction \n",
    "pred = rfc.predict(X_test)\n",
    "\n",
    "# Score du modèle\n",
    "print(rfc.score(X_test, y_test))\n",
    "\n",
    "#metrics du modele\n",
    "rfc_eval =  evaluate_model(y_test, pred)\n",
    "print('Accuracy:', rfc_eval['acc'])\n",
    "print('Precision:', rfc_eval['prec'])\n",
    "print('Recall:', rfc_eval['rec'])\n",
    "print('F1 Score:', rfc_eval['f1'])\n",
    "\n",
    "# Matrice de confusion\n",
    "\n",
    "pd.crosstab(y_test, pred)"
   ]
  },
  {
   "cell_type": "markdown",
   "metadata": {},
   "source": [
    "Comparons les modèles : "
   ]
  },
  {
   "cell_type": "code",
   "execution_count": 24,
   "metadata": {},
   "outputs": [
    {
     "data": {
      "image/png": "[encoded data removed]",
      "text/plain": [
       "<Figure size 432x288 with 1 Axes>"
      ]
     },
     "metadata": {
      "needs_background": "light"
     },
     "output_type": "display_data"
    }
   ],
   "source": [
    "\n",
    "# A decommenter lorsque l'on aura fait tourner tous les modeles\n",
    "#modeles_accuracy = [log_eval['acc'], tree_eval['acc'], knc_eval['acc'], gbc_eval['acc'], svc_eval['acc'], rfc_eval['acc']]\n",
    "modeles_accuracy = [log_eval['acc'], tree_eval['acc'], knc_eval['acc']]\n",
    "#accuracy = pd.DataFrame({\"Accuracy\":modeles_accuracy,\"Algorithmes\":[\"Logistic regression\",\"DecisionTree\",\"KNC\",\"GradientBoosting\", \"SVC\", \"RandomForest\"]})\n",
    "\n",
    "accuracy = pd.DataFrame({\"Accuracy\":modeles_accuracy,\n",
    "\"Algorithmes\":[\"Logistic regression\",\"DecisionTree\",\"KNC\"]})\n",
    "\n",
    "g = sns.barplot(\"Accuracy\",\"Algorithmes\",data = accuracy,palette=\"Set3\",orient = \"h\")\n",
    "g.set_xlabel(\"Accuracy\")\n",
    "g = g.set_title(\"Accuracy scores\")"
   ]
  },
  {
   "cell_type": "code",
   "execution_count": null,
   "metadata": {},
   "outputs": [],
   "source": [
    "#Calculer accuracy+ graphs+comparaison"
   ]
  },
  {
   "cell_type": "code",
   "execution_count": null,
   "metadata": {},
   "outputs": [],
   "source": []
  },
  {
   "cell_type": "code",
   "execution_count": null,
   "metadata": {},
   "outputs": [],
   "source": []
  },
  {
   "cell_type": "code",
   "execution_count": null,
   "metadata": {},
   "outputs": [],
   "source": []
  },
  {
   "cell_type": "code",
   "execution_count": null,
   "metadata": {},
   "outputs": [],
   "source": []
  },
  {
   "cell_type": "code",
   "execution_count": null,
   "metadata": {},
   "outputs": [],
   "source": []
  },
  {
   "cell_type": "markdown",
   "metadata": {},
   "source": [
    "## Preparation des donées sans la normalisation"
   ]
  },
  {
   "cell_type": "code",
   "execution_count": null,
   "metadata": {},
   "outputs": [],
   "source": [
    "#Encoder les variables catégoriels \n",
    "dummies_source = pd.get_dummies(df.source)\n",
    "dummies_browser = pd.get_dummies(df.browser)\n",
    "dummies_sex = pd.get_dummies(df.sex)\n",
    "\n",
    "#Concatenation des vars cat encoder avec notre df:\n",
    "df_ML = pd.concat([df, dummies_source, dummies_browser, dummies_sex], axis = 'columns')\n",
    "df_ML.head(3)"
   ]
  },
  {
   "cell_type": "code",
   "execution_count": null,
   "metadata": {},
   "outputs": [],
   "source": [
    "#Convertir les valeurs device_id et ip_address en int\n",
    "number = preprocessing.LabelEncoder()\n",
    "df_ML[\"device_id\"] = number.fit_transform(df_ML.device_id)\n",
    "df_ML[\"ip_address\"] = number.fit_transform(df_ML.ip_address)\n",
    "\n",
    "print(df_ML[[\"device_id\",\"ip_address\"]].head())\n"
   ]
  },
  {
   "cell_type": "markdown",
   "metadata": {},
   "source": [
    "Suppression des variables qui ne seront plus utlise pour l'entraînement du modèle:"
   ]
  },
  {
   "cell_type": "code",
   "execution_count": null,
   "metadata": {},
   "outputs": [],
   "source": [
    "# Suppression des colonnes purchase_time, signup_time, extra 'source', 'browser', 'sex' qui ne seront pas utile pour la prédiction\n",
    "df_ML = df_ML.drop(['purchase_time', 'signup_time', 'source', 'browser', 'sex'], axis = 1)\n",
    "\n",
    "df_ML.head()## Undersampling"
   ]
  },
  {
   "cell_type": "markdown",
   "metadata": {},
   "source": [
    "Pour entrainer et valider les performances de notre modèle, nous allons séparer le jeu de données en jeu d'entrainement et jeu de test."
   ]
  },
  {
   "cell_type": "code",
   "execution_count": null,
   "metadata": {},
   "outputs": [],
   "source": [
    "#Definition X et y:\n",
    "\n",
    "X = df_ML.drop(['is_fraud'], axis = 1)\n",
    "y = df_ML.is_fraud\n",
    "\n",
    "# split into 70:30 ration\n",
    "X_train, X_test, y_train, y_test = train_test_split(X, y, test_size = 0.3, random_state = 0)\n",
    "  \n",
    "# describes info about train and test set\n",
    "print(\"Nombre de transactions X_train dataset: \", X_train.shape)\n",
    "print(\"Nombre de transactions y_train dataset: \", y_train.shape)\n",
    "print(\"Nombre de transactions X_test dataset: \", X_test.shape)\n",
    "print(\"Nombre de transactions y_test dataset: \", y_test.shape) "
   ]
  },
  {
   "cell_type": "markdown",
   "metadata": {},
   "source": [
    "On peut également ajouter une étape de preprocessing à notre modélisation, pour notamment normaliser les données."
   ]
  },
  {
   "cell_type": "markdown",
   "metadata": {},
   "source": [
    "## Undersampling"
   ]
  },
  {
   "cell_type": "markdown",
   "metadata": {},
   "source": [
    "Pour équilibrer la distribution des classes en éliminant au hasard des exemples de classe majoritaire, nous allons utilisé dans un premier temps NearMiss est une technique de sous-échantillonnage ( Undersampling ) qui consiste à supprimer les instances de la classe majoritaire pour augmenter les espaces entre les deux classes lorsque les instances de deux classes différentes sont très proches l'une de l'autre."
   ]
  },
  {
   "cell_type": "code",
   "execution_count": null,
   "metadata": {},
   "outputs": [],
   "source": [
    "print(\"Before Undersampling, counts of label '1': {}\".format(sum(y_train == 1)))\n",
    "print(\"Before Undersampling, counts of label '0': {} \\n\".format(sum(y_train == 0)))\n",
    "  \n",
    "# apply near miss\n",
    "\n",
    "nr = NearMiss()\n",
    "  \n",
    "X_train_under, y_train_under = nr.fit_resample(X_train, y_train.ravel())\n",
    "  \n",
    "print('After Undersampling, the shape of train_X: {}'.format(X_train_under.shape))\n",
    "print('After Undersampling, the shape of train_y: {} \\n'.format(y_train_under.shape))\n",
    "  \n",
    "print(\"After Undersampling, counts of label '1': {}\".format(sum(y_train_under == 1)))\n",
    "print(\"After Undersampling, counts of label '0': {}\".format(sum(y_train_under == 0)))"
   ]
  },
  {
   "cell_type": "markdown",
   "metadata": {},
   "source": [
    "Après avoir appliquer le méthode undersampling nous constatons qu'on a eu un équilibre entre les deux classes pour une valeur de 9994 labels chacune."
   ]
  },
  {
   "cell_type": "code",
   "execution_count": null,
   "metadata": {},
   "outputs": [],
   "source": [
    "# train the model on train set\n",
    "gbc = GradientBoostingClassifier()\n",
    "gbc.fit(X_train_under, y_train_under.ravel())\n",
    "y_pred = gbc.predict(X_test)\n",
    "  \n",
    "# print classification report\n",
    "print(classification_report(y_test, y_pred))"
   ]
  },
  {
   "cell_type": "markdown",
   "metadata": {},
   "source": [
    "Le modèle choisi est le Gradient boosting qui donne un score de 95% ce qui est plutôt bien.\n",
    "\n",
    "il classe mieux la classe majoritaire avec 99% ce qui est parfait par contre il classe moins bien la classe minoritaire avec 56%  "
   ]
  },
  {
   "cell_type": "code",
   "execution_count": null,
   "metadata": {},
   "outputs": [],
   "source": [
    "accuracy_score(y_test, y_pred)"
   ]
  },
  {
   "cell_type": "code",
   "execution_count": null,
   "metadata": {},
   "outputs": [],
   "source": [
    "confusion_matrix = pd.crosstab(y_test, y_pred, rownames=['Classe réelle'], colnames=['Classe prédite'])\n",
    "confusion_matrix"
   ]
  },
  {
   "cell_type": "markdown",
   "metadata": {},
   "source": [
    "Notre modèle nous donne un trés bonne prédiciton sur la classe 0 et beaucoup moins sur la classe 1 cela du au nombre élevé de la classe 0\n",
    "\n",
    "- Notre modèle classe 2126 transactions fraudulauses (faux positif) sur 39051 transactions non fraudulauses.\n",
    "- Notre modèle classe 1765 transactions non fraudulauses (vrai négatif) sur 2392  transactions fraudulauses"
   ]
  },
  {
   "cell_type": "markdown",
   "metadata": {},
   "source": [
    "# Oversampling"
   ]
  },
  {
   "cell_type": "markdown",
   "metadata": {},
   "source": [
    "Dans un second temps, nous allons appliquer la technique SMOTE (technique de suréchantillonnage minoritaire synthétique) qui vise à équilibrer la distribution des classes en augmentant de manière aléatoire les exemples de classes minoritaires en les reproduisant."
   ]
  },
  {
   "cell_type": "code",
   "execution_count": null,
   "metadata": {},
   "outputs": [],
   "source": [
    "# Utilisation la méthode OverSampling (SMOTE) pour équilibrer les données \n",
    "sm = SMOTE(random_state = 2)\n",
    "X_train_over, y_train_over = sm.fit_resample(X_train, y_train.ravel())\n",
    "\n",
    "print(\"Avant OverSampling, Nbs transactions frauduleuse '1': {}\".format(sum(y_train == 1)))\n",
    "print(\"Avant OverSampling, Nbs transactions non frauduleuse'0': {} \\n\".format(sum(y_train == 0)))\n",
    "  \n",
    "print('Après OverSampling, Nombre de transactions train_X: {}'.format(X_train_over.shape))\n",
    "print('Après OverSampling, Nombre de transactions train_y: {} \\n'.format(y_train_over.shape))\n",
    "  \n",
    "print(\"Après OverSampling, Nbs transactions frauduleuse '1': {}\".format(sum(y_train_over == 1)))\n",
    "print(\"Après OverSampling, Nbs transactions non frauduleuse '0': {}\".format(sum(y_train_over == 0)))"
   ]
  },
  {
   "cell_type": "markdown",
   "metadata": {},
   "source": [
    "Après avoir appliquer le méthode oversampling nous constatons qu'on a eu un équilibre entre les deux classes pour une valeur de 95784 labels chacune. "
   ]
  },
  {
   "cell_type": "code",
   "execution_count": null,
   "metadata": {},
   "outputs": [],
   "source": [
    "# train the model on train set\n",
    "gbc2 = GradientBoostingClassifier()\n",
    "gbc2.fit(X_train_over, y_train_over.ravel())\n",
    "y_pred2 = gbc2.predict(X_test)\n",
    "  \n",
    "# print classification report\n",
    "print(classification_report(y_test, y_pred2))"
   ]
  },
  {
   "cell_type": "code",
   "execution_count": null,
   "metadata": {},
   "outputs": [],
   "source": [
    "accuracy_score(y_test, y_pred2)"
   ]
  },
  {
   "cell_type": "markdown",
   "metadata": {},
   "source": [
    "Nous constatons que la technique Oversampling à un meilleur score que Undersampling avec une différence de 1%.  Un peu près"
   ]
  },
  {
   "cell_type": "code",
   "execution_count": null,
   "metadata": {},
   "outputs": [],
   "source": [
    "confusion_matrix = pd.crosstab(y_test, y_pred2, rownames=['Classe réelle'], colnames=['Classe prédite'])\n",
    "confusion_matrix"
   ]
  },
  {
   "cell_type": "code",
   "execution_count": null,
   "metadata": {},
   "outputs": [],
   "source": []
  },
  {
   "cell_type": "code",
   "execution_count": null,
   "metadata": {},
   "outputs": [],
   "source": []
  },
  {
   "cell_type": "code",
   "execution_count": null,
   "metadata": {},
   "outputs": [],
   "source": []
  },
  {
   "cell_type": "code",
   "execution_count": null,
   "metadata": {},
   "outputs": [],
   "source": []
  }
 ],
 "metadata": {
  "kernelspec": {
   "display_name": "Python 3 (ipykernel)",
   "language": "python",
   "name": "python3"
  },
  "language_info": {
   "codemirror_mode": {
    "name": "ipython",
    "version": 3
   },
   "file_extension": ".py",
   "mimetype": "text/x-python",
   "name": "python",
   "nbconvert_exporter": "python",
   "pygments_lexer": "ipython3",
   "version": "3.9.7"
  }
 },
 "nbformat": 4,
 "nbformat_minor": 2
}
